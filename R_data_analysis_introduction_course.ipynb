{
 "cells": [
  {
   "cell_type": "markdown",
   "metadata": {},
   "source": [
    "# Introduction to R"
   ]
  },
  {
   "cell_type": "code",
   "execution_count": 15,
   "metadata": {},
   "outputs": [
    {
     "data": {
      "text/html": [
       "\n",
       "<table width=\"100%\" summary=\"page for sum {base}\"><tr><td>sum {base}</td><td style=\"text-align: right;\">R Documentation</td></tr></table>\n",
       "\n",
       "<h2>Sum of Vector Elements</h2>\n",
       "\n",
       "<h3>Description</h3>\n",
       "\n",
       "<p><code>sum</code> returns the sum of all the values\n",
       "present in its arguments.\n",
       "</p>\n",
       "\n",
       "\n",
       "<h3>Usage</h3>\n",
       "\n",
       "<pre>\n",
       "sum(..., na.rm = FALSE)\n",
       "</pre>\n",
       "\n",
       "\n",
       "<h3>Arguments</h3>\n",
       "\n",
       "<table summary=\"R argblock\">\n",
       "<tr valign=\"top\"><td><code>...</code></td>\n",
       "<td>\n",
       "<p>numeric or complex or logical vectors.</p>\n",
       "</td></tr>\n",
       "<tr valign=\"top\"><td><code>na.rm</code></td>\n",
       "<td>\n",
       "<p>logical.  Should missing values (including <code>NaN</code>) be\n",
       "removed?</p>\n",
       "</td></tr>\n",
       "</table>\n",
       "\n",
       "\n",
       "<h3>Details</h3>\n",
       "\n",
       "<p>This is a generic function: methods can be defined for it\n",
       "directly or via the <code>Summary</code> group generic.\n",
       "For this to work properly, the arguments <code>...</code> should be\n",
       "unnamed, and dispatch is on the first argument.\n",
       "</p>\n",
       "<p>If <code>na.rm</code> is <code>FALSE</code> an <code>NA</code> or <code>NaN</code> value in\n",
       "any of the arguments will cause a value of <code>NA</code> or <code>NaN</code> to\n",
       "be returned, otherwise <code>NA</code> and <code>NaN</code> values are ignored.\n",
       "</p>\n",
       "<p>Logical true values are regarded as one, false values as zero.\n",
       "For historical reasons, <code>NULL</code> is accepted and treated as if it\n",
       "were <code>integer(0)</code>.\n",
       "</p>\n",
       "<p>Loss of accuracy can occur when summing values of different signs:\n",
       "this can even occur for sufficiently long integer inputs if the\n",
       "partial sums would cause integer overflow.  Where possible\n",
       "extended-precision accumulators are used, typically well supported\n",
       "with C99 and newer, but possibly platform-dependent.\n",
       "</p>\n",
       "\n",
       "\n",
       "<h3>Value</h3>\n",
       "\n",
       "<p>The sum.  If all of the <i>M</i> <code>...</code> arguments are of type\n",
       "integer or logical, then the sum is <code>integer</code> when\n",
       "possible and is <code>double</code> otherwise.  Integer overflow should no\n",
       "longer happen since <span style=\"font-family: Courier New, Courier; color: #666666;\"><b>R</b></span> version 3.5.0.\n",
       "For other argument types it is a length-one numeric\n",
       "(<code>double</code>) or complex vector.\n",
       "</p>\n",
       "<p><strong>NB:</strong> the sum of an empty set is zero, by definition.\n",
       "</p>\n",
       "\n",
       "\n",
       "<h3>S4 methods</h3>\n",
       "\n",
       "<p>This is part of the S4 <code>Summary</code>\n",
       "group generic.  Methods for it must use the signature\n",
       "<code>x, ..., na.rm</code>.\n",
       "</p>\n",
       "<p>&lsquo;plotmath&rsquo; for the use of <code>sum</code> in plot annotation.\n",
       "</p>\n",
       "\n",
       "\n",
       "<h3>References</h3>\n",
       "\n",
       "<p>Becker, R. A., Chambers, J. M. and Wilks, A. R. (1988)\n",
       "<em>The New S Language</em>.\n",
       "Wadsworth &amp; Brooks/Cole.\n",
       "</p>\n",
       "\n",
       "\n",
       "<h3>See Also</h3>\n",
       "\n",
       "<p><code>colSums</code> for row and column sums.\n",
       "</p>\n",
       "\n",
       "\n",
       "<h3>Examples</h3>\n",
       "\n",
       "<pre>\n",
       "## Pass a vector to sum, and it will add the elements together.\n",
       "sum(1:5)\n",
       "\n",
       "## Pass several numbers to sum, and it also adds the elements.\n",
       "sum(1, 2, 3, 4, 5)\n",
       "\n",
       "## In fact, you can pass vectors into several arguments, and everything gets added.\n",
       "sum(1:2, 3:5)\n",
       "\n",
       "## If there are missing values, the sum is unknown, i.e., also missing, ....\n",
       "sum(1:5, NA)\n",
       "## ... unless  we exclude missing values explicitly:\n",
       "sum(1:5, NA, na.rm = TRUE)\n",
       "</pre>\n",
       "\n",
       "<hr /><div style=\"text-align: center;\">[Package <em>base</em> version 3.5.1 ]</div>"
      ],
      "text/latex": [
       "\\inputencoding{utf8}\n",
       "\\HeaderA{sum}{Sum of Vector Elements}{sum}\n",
       "\\keyword{arith}{sum}\n",
       "%\n",
       "\\begin{Description}\\relax\n",
       "\\code{sum} returns the sum of all the values\n",
       "present in its arguments.\n",
       "\\end{Description}\n",
       "%\n",
       "\\begin{Usage}\n",
       "\\begin{verbatim}\n",
       "sum(..., na.rm = FALSE)\n",
       "\\end{verbatim}\n",
       "\\end{Usage}\n",
       "%\n",
       "\\begin{Arguments}\n",
       "\\begin{ldescription}\n",
       "\\item[\\code{...}] numeric or complex or logical vectors.\n",
       "\\item[\\code{na.rm}] logical.  Should missing values (including \\code{NaN}) be\n",
       "removed?\n",
       "\\end{ldescription}\n",
       "\\end{Arguments}\n",
       "%\n",
       "\\begin{Details}\\relax\n",
       "This is a generic function: methods can be defined for it\n",
       "directly or via the \\code{\\LinkA{Summary}{S3groupGeneric}} group generic.\n",
       "For this to work properly, the arguments \\code{...} should be\n",
       "unnamed, and dispatch is on the first argument.\n",
       "\n",
       "If \\code{na.rm} is \\code{FALSE} an \\code{NA} or \\code{NaN} value in\n",
       "any of the arguments will cause a value of \\code{NA} or \\code{NaN} to\n",
       "be returned, otherwise \\code{NA} and \\code{NaN} values are ignored.\n",
       "\n",
       "Logical true values are regarded as one, false values as zero.\n",
       "For historical reasons, \\code{NULL} is accepted and treated as if it\n",
       "were \\code{integer(0)}.\n",
       "\n",
       "Loss of accuracy can occur when summing values of different signs:\n",
       "this can even occur for sufficiently long integer inputs if the\n",
       "partial sums would cause integer overflow.  Where possible\n",
       "extended-precision accumulators are used, typically well supported\n",
       "with C99 and newer, but possibly platform-dependent.\n",
       "\\end{Details}\n",
       "%\n",
       "\\begin{Value}\n",
       "The sum.  If all of the \\eqn{M}{} \\code{...} arguments are of type\n",
       "integer or logical, then the sum is \\code{\\LinkA{integer}{integer}} when\n",
       "possible and is \\code{double} otherwise.  Integer overflow should no\n",
       "longer happen since \\R{} version 3.5.0.\n",
       "For other argument types it is a length-one numeric\n",
       "(\\code{\\LinkA{double}{double}}) or complex vector.\n",
       "\n",
       "\\strong{NB:} the sum of an empty set is zero, by definition.\n",
       "\\end{Value}\n",
       "%\n",
       "\\begin{Section}{S4 methods}\n",
       "This is part of the S4 \\code{\\LinkA{Summary}{S4groupGeneric}}\n",
       "group generic.  Methods for it must use the signature\n",
       "\\code{x, ..., na.rm}.\n",
       "\n",
       "`\\LinkA{plotmath}{plotmath}' for the use of \\code{sum} in plot annotation.\n",
       "\\end{Section}\n",
       "%\n",
       "\\begin{References}\\relax\n",
       "Becker, R. A., Chambers, J. M. and Wilks, A. R. (1988)\n",
       "\\emph{The New S Language}.\n",
       "Wadsworth \\& Brooks/Cole.\n",
       "\\end{References}\n",
       "%\n",
       "\\begin{SeeAlso}\\relax\n",
       "\\code{\\LinkA{colSums}{colSums}} for row and column sums.\n",
       "\\end{SeeAlso}\n",
       "%\n",
       "\\begin{Examples}\n",
       "\\begin{ExampleCode}\n",
       "\n",
       "## Pass a vector to sum, and it will add the elements together.\n",
       "sum(1:5)\n",
       "\n",
       "## Pass several numbers to sum, and it also adds the elements.\n",
       "sum(1, 2, 3, 4, 5)\n",
       "\n",
       "## In fact, you can pass vectors into several arguments, and everything gets added.\n",
       "sum(1:2, 3:5)\n",
       "\n",
       "## If there are missing values, the sum is unknown, i.e., also missing, ....\n",
       "sum(1:5, NA)\n",
       "## ... unless  we exclude missing values explicitly:\n",
       "sum(1:5, NA, na.rm = TRUE)\n",
       "\\end{ExampleCode}\n",
       "\\end{Examples}"
      ],
      "text/plain": [
       "sum                    package:base                    R Documentation\n",
       "\n",
       "_\bS_\bu_\bm _\bo_\bf _\bV_\be_\bc_\bt_\bo_\br _\bE_\bl_\be_\bm_\be_\bn_\bt_\bs\n",
       "\n",
       "_\bD_\be_\bs_\bc_\br_\bi_\bp_\bt_\bi_\bo_\bn:\n",
       "\n",
       "     ‘sum’ returns the sum of all the values present in its arguments.\n",
       "\n",
       "_\bU_\bs_\ba_\bg_\be:\n",
       "\n",
       "     sum(..., na.rm = FALSE)\n",
       "     \n",
       "_\bA_\br_\bg_\bu_\bm_\be_\bn_\bt_\bs:\n",
       "\n",
       "     ...: numeric or complex or logical vectors.\n",
       "\n",
       "   na.rm: logical.  Should missing values (including ‘NaN’) be removed?\n",
       "\n",
       "_\bD_\be_\bt_\ba_\bi_\bl_\bs:\n",
       "\n",
       "     This is a generic function: methods can be defined for it directly\n",
       "     or via the ‘Summary’ group generic.  For this to work properly,\n",
       "     the arguments ‘...’ should be unnamed, and dispatch is on the\n",
       "     first argument.\n",
       "\n",
       "     If ‘na.rm’ is ‘FALSE’ an ‘NA’ or ‘NaN’ value in any of the\n",
       "     arguments will cause a value of ‘NA’ or ‘NaN’ to be returned,\n",
       "     otherwise ‘NA’ and ‘NaN’ values are ignored.\n",
       "\n",
       "     Logical true values are regarded as one, false values as zero.\n",
       "     For historical reasons, ‘NULL’ is accepted and treated as if it\n",
       "     were ‘integer(0)’.\n",
       "\n",
       "     Loss of accuracy can occur when summing values of different signs:\n",
       "     this can even occur for sufficiently long integer inputs if the\n",
       "     partial sums would cause integer overflow.  Where possible\n",
       "     extended-precision accumulators are used, typically well supported\n",
       "     with C99 and newer, but possibly platform-dependent.\n",
       "\n",
       "_\bV_\ba_\bl_\bu_\be:\n",
       "\n",
       "     The sum.  If all of the M ‘...’ arguments are of type integer or\n",
       "     logical, then the sum is ‘integer’ when possible and is ‘double’\n",
       "     otherwise.  Integer overflow should no longer happen since R\n",
       "     version 3.5.0.  For other argument types it is a length-one\n",
       "     numeric (‘double’) or complex vector.\n",
       "\n",
       "     *NB:* the sum of an empty set is zero, by definition.\n",
       "\n",
       "_\bS_\b4 _\bm_\be_\bt_\bh_\bo_\bd_\bs:\n",
       "\n",
       "     This is part of the S4 ‘Summary’ group generic.  Methods for it\n",
       "     must use the signature ‘x, ..., na.rm’.\n",
       "\n",
       "     ‘plotmath’ for the use of ‘sum’ in plot annotation.\n",
       "\n",
       "_\bR_\be_\bf_\be_\br_\be_\bn_\bc_\be_\bs:\n",
       "\n",
       "     Becker, R. A., Chambers, J. M. and Wilks, A. R. (1988) _The New S\n",
       "     Language_.  Wadsworth & Brooks/Cole.\n",
       "\n",
       "_\bS_\be_\be _\bA_\bl_\bs_\bo:\n",
       "\n",
       "     ‘colSums’ for row and column sums.\n",
       "\n",
       "_\bE_\bx_\ba_\bm_\bp_\bl_\be_\bs:\n",
       "\n",
       "     ## Pass a vector to sum, and it will add the elements together.\n",
       "     sum(1:5)\n",
       "     \n",
       "     ## Pass several numbers to sum, and it also adds the elements.\n",
       "     sum(1, 2, 3, 4, 5)\n",
       "     \n",
       "     ## In fact, you can pass vectors into several arguments, and everything gets added.\n",
       "     sum(1:2, 3:5)\n",
       "     \n",
       "     ## If there are missing values, the sum is unknown, i.e., also missing, ....\n",
       "     sum(1:5, NA)\n",
       "     ## ... unless  we exclude missing values explicitly:\n",
       "     sum(1:5, NA, na.rm = TRUE)\n",
       "     "
      ]
     },
     "metadata": {},
     "output_type": "display_data"
    }
   ],
   "source": [
    "?sum()"
   ]
  },
  {
   "cell_type": "markdown",
   "metadata": {},
   "source": [
    "To see the currently loaded packages You can use command `print(.packages())`."
   ]
  },
  {
   "cell_type": "code",
   "execution_count": 16,
   "metadata": {},
   "outputs": [
    {
     "name": "stdout",
     "output_type": "stream",
     "text": [
      " [1] \"forcats\"   \"stringr\"   \"dplyr\"     \"purrr\"     \"readr\"     \"tidyr\"    \n",
      " [7] \"tibble\"    \"ggplot2\"   \"tidyverse\" \"stats\"     \"graphics\"  \"grDevices\"\n",
      "[13] \"utils\"     \"datasets\"  \"methods\"   \"base\"     \n"
     ]
    }
   ],
   "source": [
    "print(.packages())"
   ]
  },
  {
   "cell_type": "code",
   "execution_count": 17,
   "metadata": {},
   "outputs": [
    {
     "data": {
      "text/html": [
       "<ol class=list-inline>\n",
       "\t<li>'pbdZMQ'</li>\n",
       "\t<li>'tidyselect'</li>\n",
       "\t<li>'repr'</li>\n",
       "\t<li>'purrr'</li>\n",
       "\t<li>'haven'</li>\n",
       "\t<li>'lattice'</li>\n",
       "\t<li>'colorspace'</li>\n",
       "\t<li>'generics'</li>\n",
       "\t<li>'htmltools'</li>\n",
       "\t<li>'grDevices'</li>\n",
       "\t<li>'base64enc'</li>\n",
       "\t<li>'utf8'</li>\n",
       "\t<li>'rlang'</li>\n",
       "\t<li>'pillar'</li>\n",
       "\t<li>'glue'</li>\n",
       "\t<li>'withr'</li>\n",
       "\t<li>'tidyverse'</li>\n",
       "\t<li>'modelr'</li>\n",
       "\t<li>'readxl'</li>\n",
       "\t<li>'bindrcpp'</li>\n",
       "\t<li>'uuid'</li>\n",
       "\t<li>'bindr'</li>\n",
       "\t<li>'plyr'</li>\n",
       "\t<li>'stringr'</li>\n",
       "\t<li>'munsell'</li>\n",
       "\t<li>'gtable'</li>\n",
       "\t<li>'cellranger'</li>\n",
       "\t<li>'rvest'</li>\n",
       "\t<li>'evaluate'</li>\n",
       "\t<li>'forcats'</li>\n",
       "\t<li>'fansi'</li>\n",
       "\t<li>'broom'</li>\n",
       "\t<li>'IRdisplay'</li>\n",
       "\t<li>'methods'</li>\n",
       "\t<li>'Rcpp'</li>\n",
       "\t<li>'readr'</li>\n",
       "\t<li>'scales'</li>\n",
       "\t<li>'backports'</li>\n",
       "\t<li>'IRkernel'</li>\n",
       "\t<li>'jsonlite'</li>\n",
       "\t<li>'ggplot2'</li>\n",
       "\t<li>'stats'</li>\n",
       "\t<li>'datasets'</li>\n",
       "\t<li>'graphics'</li>\n",
       "\t<li>'hms'</li>\n",
       "\t<li>'digest'</li>\n",
       "\t<li>'stringi'</li>\n",
       "\t<li>'dplyr'</li>\n",
       "\t<li>'grid'</li>\n",
       "\t<li>'cli'</li>\n",
       "\t<li>'tools'</li>\n",
       "\t<li>'magrittr'</li>\n",
       "\t<li>'lazyeval'</li>\n",
       "\t<li>'tibble'</li>\n",
       "\t<li>'crayon'</li>\n",
       "\t<li>'tidyr'</li>\n",
       "\t<li>'pkgconfig'</li>\n",
       "\t<li>'xml2'</li>\n",
       "\t<li>'utils'</li>\n",
       "\t<li>'lubridate'</li>\n",
       "\t<li>'assertthat'</li>\n",
       "\t<li>'base'</li>\n",
       "\t<li>'httr'</li>\n",
       "\t<li>'rstudioapi'</li>\n",
       "\t<li>'R6'</li>\n",
       "\t<li>'nlme'</li>\n",
       "\t<li>'compiler'</li>\n",
       "</ol>\n"
      ],
      "text/latex": [
       "\\begin{enumerate*}\n",
       "\\item 'pbdZMQ'\n",
       "\\item 'tidyselect'\n",
       "\\item 'repr'\n",
       "\\item 'purrr'\n",
       "\\item 'haven'\n",
       "\\item 'lattice'\n",
       "\\item 'colorspace'\n",
       "\\item 'generics'\n",
       "\\item 'htmltools'\n",
       "\\item 'grDevices'\n",
       "\\item 'base64enc'\n",
       "\\item 'utf8'\n",
       "\\item 'rlang'\n",
       "\\item 'pillar'\n",
       "\\item 'glue'\n",
       "\\item 'withr'\n",
       "\\item 'tidyverse'\n",
       "\\item 'modelr'\n",
       "\\item 'readxl'\n",
       "\\item 'bindrcpp'\n",
       "\\item 'uuid'\n",
       "\\item 'bindr'\n",
       "\\item 'plyr'\n",
       "\\item 'stringr'\n",
       "\\item 'munsell'\n",
       "\\item 'gtable'\n",
       "\\item 'cellranger'\n",
       "\\item 'rvest'\n",
       "\\item 'evaluate'\n",
       "\\item 'forcats'\n",
       "\\item 'fansi'\n",
       "\\item 'broom'\n",
       "\\item 'IRdisplay'\n",
       "\\item 'methods'\n",
       "\\item 'Rcpp'\n",
       "\\item 'readr'\n",
       "\\item 'scales'\n",
       "\\item 'backports'\n",
       "\\item 'IRkernel'\n",
       "\\item 'jsonlite'\n",
       "\\item 'ggplot2'\n",
       "\\item 'stats'\n",
       "\\item 'datasets'\n",
       "\\item 'graphics'\n",
       "\\item 'hms'\n",
       "\\item 'digest'\n",
       "\\item 'stringi'\n",
       "\\item 'dplyr'\n",
       "\\item 'grid'\n",
       "\\item 'cli'\n",
       "\\item 'tools'\n",
       "\\item 'magrittr'\n",
       "\\item 'lazyeval'\n",
       "\\item 'tibble'\n",
       "\\item 'crayon'\n",
       "\\item 'tidyr'\n",
       "\\item 'pkgconfig'\n",
       "\\item 'xml2'\n",
       "\\item 'utils'\n",
       "\\item 'lubridate'\n",
       "\\item 'assertthat'\n",
       "\\item 'base'\n",
       "\\item 'httr'\n",
       "\\item 'rstudioapi'\n",
       "\\item 'R6'\n",
       "\\item 'nlme'\n",
       "\\item 'compiler'\n",
       "\\end{enumerate*}\n"
      ],
      "text/markdown": [
       "1. 'pbdZMQ'\n",
       "2. 'tidyselect'\n",
       "3. 'repr'\n",
       "4. 'purrr'\n",
       "5. 'haven'\n",
       "6. 'lattice'\n",
       "7. 'colorspace'\n",
       "8. 'generics'\n",
       "9. 'htmltools'\n",
       "10. 'grDevices'\n",
       "11. 'base64enc'\n",
       "12. 'utf8'\n",
       "13. 'rlang'\n",
       "14. 'pillar'\n",
       "15. 'glue'\n",
       "16. 'withr'\n",
       "17. 'tidyverse'\n",
       "18. 'modelr'\n",
       "19. 'readxl'\n",
       "20. 'bindrcpp'\n",
       "21. 'uuid'\n",
       "22. 'bindr'\n",
       "23. 'plyr'\n",
       "24. 'stringr'\n",
       "25. 'munsell'\n",
       "26. 'gtable'\n",
       "27. 'cellranger'\n",
       "28. 'rvest'\n",
       "29. 'evaluate'\n",
       "30. 'forcats'\n",
       "31. 'fansi'\n",
       "32. 'broom'\n",
       "33. 'IRdisplay'\n",
       "34. 'methods'\n",
       "35. 'Rcpp'\n",
       "36. 'readr'\n",
       "37. 'scales'\n",
       "38. 'backports'\n",
       "39. 'IRkernel'\n",
       "40. 'jsonlite'\n",
       "41. 'ggplot2'\n",
       "42. 'stats'\n",
       "43. 'datasets'\n",
       "44. 'graphics'\n",
       "45. 'hms'\n",
       "46. 'digest'\n",
       "47. 'stringi'\n",
       "48. 'dplyr'\n",
       "49. 'grid'\n",
       "50. 'cli'\n",
       "51. 'tools'\n",
       "52. 'magrittr'\n",
       "53. 'lazyeval'\n",
       "54. 'tibble'\n",
       "55. 'crayon'\n",
       "56. 'tidyr'\n",
       "57. 'pkgconfig'\n",
       "58. 'xml2'\n",
       "59. 'utils'\n",
       "60. 'lubridate'\n",
       "61. 'assertthat'\n",
       "62. 'base'\n",
       "63. 'httr'\n",
       "64. 'rstudioapi'\n",
       "65. 'R6'\n",
       "66. 'nlme'\n",
       "67. 'compiler'\n",
       "\n",
       "\n"
      ],
      "text/plain": [
       " [1] \"pbdZMQ\"     \"tidyselect\" \"repr\"       \"purrr\"      \"haven\"     \n",
       " [6] \"lattice\"    \"colorspace\" \"generics\"   \"htmltools\"  \"grDevices\" \n",
       "[11] \"base64enc\"  \"utf8\"       \"rlang\"      \"pillar\"     \"glue\"      \n",
       "[16] \"withr\"      \"tidyverse\"  \"modelr\"     \"readxl\"     \"bindrcpp\"  \n",
       "[21] \"uuid\"       \"bindr\"      \"plyr\"       \"stringr\"    \"munsell\"   \n",
       "[26] \"gtable\"     \"cellranger\" \"rvest\"      \"evaluate\"   \"forcats\"   \n",
       "[31] \"fansi\"      \"broom\"      \"IRdisplay\"  \"methods\"    \"Rcpp\"      \n",
       "[36] \"readr\"      \"scales\"     \"backports\"  \"IRkernel\"   \"jsonlite\"  \n",
       "[41] \"ggplot2\"    \"stats\"      \"datasets\"   \"graphics\"   \"hms\"       \n",
       "[46] \"digest\"     \"stringi\"    \"dplyr\"      \"grid\"       \"cli\"       \n",
       "[51] \"tools\"      \"magrittr\"   \"lazyeval\"   \"tibble\"     \"crayon\"    \n",
       "[56] \"tidyr\"      \"pkgconfig\"  \"xml2\"       \"utils\"      \"lubridate\" \n",
       "[61] \"assertthat\" \"base\"       \"httr\"       \"rstudioapi\" \"R6\"        \n",
       "[66] \"nlme\"       \"compiler\"  "
      ]
     },
     "metadata": {},
     "output_type": "display_data"
    }
   ],
   "source": [
    "loadedNamespaces()"
   ]
  },
  {
   "cell_type": "code",
   "execution_count": 18,
   "metadata": {},
   "outputs": [],
   "source": [
    "library(tidyverse)"
   ]
  },
  {
   "cell_type": "code",
   "execution_count": 19,
   "metadata": {},
   "outputs": [
    {
     "name": "stdout",
     "output_type": "stream",
     "text": [
      " [1] \"forcats\"   \"stringr\"   \"dplyr\"     \"purrr\"     \"readr\"     \"tidyr\"    \n",
      " [7] \"tibble\"    \"ggplot2\"   \"tidyverse\" \"stats\"     \"graphics\"  \"grDevices\"\n",
      "[13] \"utils\"     \"datasets\"  \"methods\"   \"base\"     \n"
     ]
    }
   ],
   "source": [
    "print(.packages())"
   ]
  },
  {
   "cell_type": "markdown",
   "metadata": {},
   "source": [
    "## Creating variables"
   ]
  },
  {
   "cell_type": "markdown",
   "metadata": {},
   "source": []
  },
  {
   "cell_type": "code",
   "execution_count": 20,
   "metadata": {},
   "outputs": [
    {
     "name": "stdout",
     "output_type": "stream",
     "text": [
      "[1] 1\n"
     ]
    },
    {
     "data": {
      "text/html": [
       "'numeric'"
      ],
      "text/latex": [
       "'numeric'"
      ],
      "text/markdown": [
       "'numeric'"
      ],
      "text/plain": [
       "[1] \"numeric\""
      ]
     },
     "metadata": {},
     "output_type": "display_data"
    },
    {
     "data": {
      "text/html": [
       "'double'"
      ],
      "text/latex": [
       "'double'"
      ],
      "text/markdown": [
       "'double'"
      ],
      "text/plain": [
       "[1] \"double\""
      ]
     },
     "metadata": {},
     "output_type": "display_data"
    },
    {
     "data": {
      "text/html": [
       "1"
      ],
      "text/latex": [
       "1"
      ],
      "text/markdown": [
       "1"
      ],
      "text/plain": [
       "[1] 1"
      ]
     },
     "metadata": {},
     "output_type": "display_data"
    },
    {
     "name": "stdout",
     "output_type": "stream",
     "text": [
      "[1] 1 2\n"
     ]
    },
    {
     "data": {
      "text/html": [
       "'numeric'"
      ],
      "text/latex": [
       "'numeric'"
      ],
      "text/markdown": [
       "'numeric'"
      ],
      "text/plain": [
       "[1] \"numeric\""
      ]
     },
     "metadata": {},
     "output_type": "display_data"
    },
    {
     "data": {
      "text/html": [
       "'double'"
      ],
      "text/latex": [
       "'double'"
      ],
      "text/markdown": [
       "'double'"
      ],
      "text/plain": [
       "[1] \"double\""
      ]
     },
     "metadata": {},
     "output_type": "display_data"
    },
    {
     "data": {
      "text/html": [
       "2"
      ],
      "text/latex": [
       "2"
      ],
      "text/markdown": [
       "2"
      ],
      "text/plain": [
       "[1] 2"
      ]
     },
     "metadata": {},
     "output_type": "display_data"
    },
    {
     "name": "stdout",
     "output_type": "stream",
     "text": [
      "[1] 1 2\n"
     ]
    },
    {
     "data": {
      "text/html": [
       "'character'"
      ],
      "text/latex": [
       "'character'"
      ],
      "text/markdown": [
       "'character'"
      ],
      "text/plain": [
       "[1] \"character\""
      ]
     },
     "metadata": {},
     "output_type": "display_data"
    },
    {
     "data": {
      "text/html": [
       "'character'"
      ],
      "text/latex": [
       "'character'"
      ],
      "text/markdown": [
       "'character'"
      ],
      "text/plain": [
       "[1] \"character\""
      ]
     },
     "metadata": {},
     "output_type": "display_data"
    }
   ],
   "source": [
    "number <- 1\n",
    "print(number)\n",
    "class(number)\n",
    "typeof(number)\n",
    "length(number)\n",
    "\n",
    "vector <- c(1, 2)\n",
    "print(vector)\n",
    "class(vector)\n",
    "typeof(vector)\n",
    "length(vector)\n",
    "\n",
    "char_vector <- c(1, \"2\")\n",
    "print(vector)\n",
    "class(char_vector)\n",
    "typeof(char_vector)"
   ]
  },
  {
   "cell_type": "markdown",
   "metadata": {},
   "source": [
    " In similar way it is possible to see variables in the workspace with command `ls()`."
   ]
  },
  {
   "cell_type": "code",
   "execution_count": 21,
   "metadata": {},
   "outputs": [
    {
     "data": {
      "text/html": [
       "<ol class=list-inline>\n",
       "\t<li>'char_vector'</li>\n",
       "\t<li>'df_voters'</li>\n",
       "\t<li>'number'</li>\n",
       "\t<li>'square_number'</li>\n",
       "\t<li>'tbl_voters'</li>\n",
       "\t<li>'vector'</li>\n",
       "</ol>\n"
      ],
      "text/latex": [
       "\\begin{enumerate*}\n",
       "\\item 'char\\_vector'\n",
       "\\item 'df\\_voters'\n",
       "\\item 'number'\n",
       "\\item 'square\\_number'\n",
       "\\item 'tbl\\_voters'\n",
       "\\item 'vector'\n",
       "\\end{enumerate*}\n"
      ],
      "text/markdown": [
       "1. 'char_vector'\n",
       "2. 'df_voters'\n",
       "3. 'number'\n",
       "4. 'square_number'\n",
       "5. 'tbl_voters'\n",
       "6. 'vector'\n",
       "\n",
       "\n"
      ],
      "text/plain": [
       "[1] \"char_vector\"   \"df_voters\"     \"number\"        \"square_number\"\n",
       "[5] \"tbl_voters\"    \"vector\"       "
      ]
     },
     "metadata": {},
     "output_type": "display_data"
    }
   ],
   "source": [
    "ls()"
   ]
  },
  {
   "cell_type": "markdown",
   "metadata": {},
   "source": [
    "## Tibble"
   ]
  },
  {
   "cell_type": "code",
   "execution_count": 22,
   "metadata": {},
   "outputs": [
    {
     "name": "stdout",
     "output_type": "stream",
     "text": [
      "  first_name last_name sex identitification age recycled_variable\n",
      "1       Jane      <NA>   W            FALSE  NA                 2\n",
      "2        Joe      <NA>   M            FALSE  45                 2\n",
      "3        Bob     Smith   M             TRUE  60                 2\n",
      "\n",
      "Class of df_voters is:"
     ]
    },
    {
     "data": {
      "text/html": [
       "'data.frame'"
      ],
      "text/latex": [
       "'data.frame'"
      ],
      "text/markdown": [
       "'data.frame'"
      ],
      "text/plain": [
       "[1] \"data.frame\""
      ]
     },
     "metadata": {},
     "output_type": "display_data"
    }
   ],
   "source": [
    "df_voters <- data.frame(first_name = c(\"Jane\", \"Joe\", \"Bob\"),\n",
    "                        last_name = c(NA, NA, \"Smith\"),\n",
    "                        sex = c(\"W\", \"M\", \"M\"),\n",
    "                        identitification = c(FALSE, FALSE, TRUE),\n",
    "                        age = c(NA, 45, 60),\n",
    "                        recycled_variable = 2\n",
    "                        )\n",
    "print(df_voters)\n",
    "cat(\"\\nClass of df_voters is:\")\n",
    "class(df_voters)"
   ]
  },
  {
   "cell_type": "code",
   "execution_count": 23,
   "metadata": {},
   "outputs": [
    {
     "name": "stdout",
     "output_type": "stream",
     "text": [
      "# A tibble: 3 x 6\n",
      "  first_name last_name sex   identitification   age recycled_variable\n",
      "  <chr>      <chr>     <chr> <lgl>            <dbl>             <int>\n",
      "1 Jane       <NA>      W     FALSE               NA                 2\n",
      "2 Joe        <NA>      M     FALSE               45                 2\n",
      "3 Bob        Smith     M     TRUE                60                 2\n",
      "\n",
      "Class of tbl_voters is:"
     ]
    },
    {
     "data": {
      "text/html": [
       "<ol class=list-inline>\n",
       "\t<li>'tbl_df'</li>\n",
       "\t<li>'tbl'</li>\n",
       "\t<li>'data.frame'</li>\n",
       "</ol>\n"
      ],
      "text/latex": [
       "\\begin{enumerate*}\n",
       "\\item 'tbl\\_df'\n",
       "\\item 'tbl'\n",
       "\\item 'data.frame'\n",
       "\\end{enumerate*}\n"
      ],
      "text/markdown": [
       "1. 'tbl_df'\n",
       "2. 'tbl'\n",
       "3. 'data.frame'\n",
       "\n",
       "\n"
      ],
      "text/plain": [
       "[1] \"tbl_df\"     \"tbl\"        \"data.frame\""
      ]
     },
     "metadata": {},
     "output_type": "display_data"
    }
   ],
   "source": [
    "tbl_voters <- tibble(first_name = c(\"Jane\", \"Joe\", \"Bob\"),\n",
    "                     last_name = c(NA, NA, \"Smith\"),\n",
    "                     sex = c(\"W\", \"M\", \"M\"),\n",
    "                     identitification = c(FALSE, FALSE, TRUE),\n",
    "                     age = c(NA, 45, 60),\n",
    "                     recycled_variable = as.integer(2)\n",
    "                    )\n",
    "print(tbl_voters)\n",
    "cat(\"\\nClass of tbl_voters is:\")\n",
    "class(tbl_voters)"
   ]
  },
  {
   "cell_type": "code",
   "execution_count": 24,
   "metadata": {},
   "outputs": [
    {
     "data": {
      "text/html": [
       "<ol class=list-inline>\n",
       "\t<li>Jane</li>\n",
       "\t<li>Joe</li>\n",
       "\t<li>Bob</li>\n",
       "</ol>\n",
       "\n",
       "<details>\n",
       "\t<summary style=display:list-item;cursor:pointer>\n",
       "\t\t<strong>Levels</strong>:\n",
       "\t</summary>\n",
       "\t<ol class=list-inline>\n",
       "\t\t<li>'Bob'</li>\n",
       "\t\t<li>'Jane'</li>\n",
       "\t\t<li>'Joe'</li>\n",
       "\t</ol>\n",
       "</details>"
      ],
      "text/latex": [
       "\\begin{enumerate*}\n",
       "\\item Jane\n",
       "\\item Joe\n",
       "\\item Bob\n",
       "\\end{enumerate*}\n",
       "\n",
       "\\emph{Levels}: \\begin{enumerate*}\n",
       "\\item 'Bob'\n",
       "\\item 'Jane'\n",
       "\\item 'Joe'\n",
       "\\end{enumerate*}\n"
      ],
      "text/markdown": [
       "1. Jane\n",
       "2. Joe\n",
       "3. Bob\n",
       "\n",
       "\n",
       "\n",
       "**Levels**: 1. 'Bob'\n",
       "2. 'Jane'\n",
       "3. 'Joe'\n",
       "\n",
       "\n"
      ],
      "text/plain": [
       "[1] Jane Joe  Bob \n",
       "Levels: Bob Jane Joe"
      ]
     },
     "metadata": {},
     "output_type": "display_data"
    },
    {
     "data": {
      "text/html": [
       "'factor'"
      ],
      "text/latex": [
       "'factor'"
      ],
      "text/markdown": [
       "'factor'"
      ],
      "text/plain": [
       "[1] \"factor\""
      ]
     },
     "metadata": {},
     "output_type": "display_data"
    }
   ],
   "source": [
    "df_voters[,1]\n",
    "class(df_voters[,1])"
   ]
  },
  {
   "cell_type": "code",
   "execution_count": 25,
   "metadata": {},
   "outputs": [
    {
     "data": {
      "text/html": [
       "<table>\n",
       "<thead><tr><th scope=col>first_name</th></tr></thead>\n",
       "<tbody>\n",
       "\t<tr><td>Jane</td></tr>\n",
       "\t<tr><td>Joe </td></tr>\n",
       "\t<tr><td>Bob </td></tr>\n",
       "</tbody>\n",
       "</table>\n"
      ],
      "text/latex": [
       "\\begin{tabular}{r|l}\n",
       " first\\_name\\\\\n",
       "\\hline\n",
       "\t Jane\\\\\n",
       "\t Joe \\\\\n",
       "\t Bob \\\\\n",
       "\\end{tabular}\n"
      ],
      "text/markdown": [
       "\n",
       "| first_name |\n",
       "|---|\n",
       "| Jane |\n",
       "| Joe  |\n",
       "| Bob  |\n",
       "\n"
      ],
      "text/plain": [
       "  first_name\n",
       "1 Jane      \n",
       "2 Joe       \n",
       "3 Bob       "
      ]
     },
     "metadata": {},
     "output_type": "display_data"
    },
    {
     "data": {
      "text/html": [
       "<ol class=list-inline>\n",
       "\t<li>'tbl_df'</li>\n",
       "\t<li>'tbl'</li>\n",
       "\t<li>'data.frame'</li>\n",
       "</ol>\n"
      ],
      "text/latex": [
       "\\begin{enumerate*}\n",
       "\\item 'tbl\\_df'\n",
       "\\item 'tbl'\n",
       "\\item 'data.frame'\n",
       "\\end{enumerate*}\n"
      ],
      "text/markdown": [
       "1. 'tbl_df'\n",
       "2. 'tbl'\n",
       "3. 'data.frame'\n",
       "\n",
       "\n"
      ],
      "text/plain": [
       "[1] \"tbl_df\"     \"tbl\"        \"data.frame\""
      ]
     },
     "metadata": {},
     "output_type": "display_data"
    }
   ],
   "source": [
    "tbl_voters[,1]\n",
    "class(tbl_voters[,1])"
   ]
  },
  {
   "cell_type": "markdown",
   "metadata": {},
   "source": [
    "## Functions"
   ]
  },
  {
   "cell_type": "code",
   "execution_count": 26,
   "metadata": {},
   "outputs": [
    {
     "data": {
      "text/html": [
       "16"
      ],
      "text/latex": [
       "16"
      ],
      "text/markdown": [
       "16"
      ],
      "text/plain": [
       "[1] 16"
      ]
     },
     "metadata": {},
     "output_type": "display_data"
    },
    {
     "ename": "ERROR",
     "evalue": "Error in x^2: non-numeric argument to binary operator\n",
     "output_type": "error",
     "traceback": [
      "Error in x^2: non-numeric argument to binary operator\nTraceback:\n",
      "1. square_number(\"a\")"
     ]
    }
   ],
   "source": [
    "square_number <- function(x){\n",
    "    x^2\n",
    "}\n",
    "\n",
    "square_number(4)\n",
    "square_number(\"a\")"
   ]
  },
  {
   "cell_type": "code",
   "execution_count": 27,
   "metadata": {},
   "outputs": [
    {
     "data": {
      "text/html": [
       "'test'"
      ],
      "text/latex": [
       "'test'"
      ],
      "text/markdown": [
       "'test'"
      ],
      "text/plain": [
       "[1] \"test\""
      ]
     },
     "metadata": {},
     "output_type": "display_data"
    },
    {
     "data": {
      "text/html": [
       "<table>\n",
       "<thead><tr><th scope=col>first_name</th><th scope=col>last_name</th><th scope=col>sex</th><th scope=col>identitification</th><th scope=col>age</th><th scope=col>recycled_variable</th></tr></thead>\n",
       "<tbody>\n",
       "\t<tr><td>Jane </td><td>NA   </td><td>W    </td><td>FALSE</td><td>NA   </td><td>2    </td></tr>\n",
       "\t<tr><td>Joe  </td><td>NA   </td><td>M    </td><td>FALSE</td><td>45   </td><td>2    </td></tr>\n",
       "\t<tr><td>Bob  </td><td>Smith</td><td>M    </td><td> TRUE</td><td>60   </td><td>2    </td></tr>\n",
       "</tbody>\n",
       "</table>\n"
      ],
      "text/latex": [
       "\\begin{tabular}{r|llllll}\n",
       " first\\_name & last\\_name & sex & identitification & age & recycled\\_variable\\\\\n",
       "\\hline\n",
       "\t Jane  & NA    & W     & FALSE & NA    & 2    \\\\\n",
       "\t Joe   & NA    & M     & FALSE & 45    & 2    \\\\\n",
       "\t Bob   & Smith & M     &  TRUE & 60    & 2    \\\\\n",
       "\\end{tabular}\n"
      ],
      "text/markdown": [
       "\n",
       "| first_name | last_name | sex | identitification | age | recycled_variable |\n",
       "|---|---|---|---|---|---|\n",
       "| Jane  | NA    | W     | FALSE | NA    | 2     |\n",
       "| Joe   | NA    | M     | FALSE | 45    | 2     |\n",
       "| Bob   | Smith | M     |  TRUE | 60    | 2     |\n",
       "\n"
      ],
      "text/plain": [
       "  first_name last_name sex identitification age recycled_variable\n",
       "1 Jane       NA        W   FALSE            NA  2                \n",
       "2 Joe        NA        M   FALSE            45  2                \n",
       "3 Bob        Smith     M    TRUE            60  2                "
      ]
     },
     "metadata": {},
     "output_type": "display_data"
    }
   ],
   "source": [
    "problem <- function(tbl_voters){\n",
    "    tbl_voters <- \"test\"\n",
    "    tbl_voters\n",
    "}\n",
    "\n",
    "problem(tbl_voters)\n",
    "tbl_voters"
   ]
  },
  {
   "cell_type": "markdown",
   "metadata": {},
   "source": [
    "# Tidyverse vs. base R"
   ]
  },
  {
   "cell_type": "markdown",
   "metadata": {},
   "source": [
    "# Data import"
   ]
  },
  {
   "cell_type": "markdown",
   "metadata": {},
   "source": [
    "Many different functions for standard file formats:\n",
    "\n",
    "| _Type_       | _Package_ | _Command_ |\n",
    "| ------------ |:---------:|:----------|\n",
    "| Text (tibble) | readr | `read_csv()` |\n",
    "| Text (better performance) | data.table | `fread()` |\n",
    "|Excel       | readxl | `read_excel()` |\n",
    "|SPSS        | haven | `read_sav()` |\n",
    "|SAS         | haven | `read_sas()` |\n",
    "|Stata       | haven | `read_stata()` |\n",
    "|XML | xml2 | `read_xml()` |\n",
    "|Matlab | R.matlab | `readMat()`|\n",
    "\n",
    "For some of these there is special **Import Dataset** button in the *RStudio IDE*.\n",
    "\n",
    "In this course we will use only the `readr::read_csv()` command to read the text data into tibbles."
   ]
  },
  {
   "cell_type": "code",
   "execution_count": 28,
   "metadata": {},
   "outputs": [
    {
     "name": "stdout",
     "output_type": "stream",
     "text": [
      "                     mpg cyl  disp  hp drat    wt  qsec vs am gear carb\n",
      "Mazda RX4           21.0   6 160.0 110 3.90 2.620 16.46  0  1    4    4\n",
      "Mazda RX4 Wag       21.0   6 160.0 110 3.90 2.875 17.02  0  1    4    4\n",
      "Datsun 710          22.8   4 108.0  93 3.85 2.320 18.61  1  1    4    1\n",
      "Hornet 4 Drive      21.4   6 258.0 110 3.08 3.215 19.44  1  0    3    1\n",
      "Hornet Sportabout   18.7   8 360.0 175 3.15 3.440 17.02  0  0    3    2\n",
      "Valiant             18.1   6 225.0 105 2.76 3.460 20.22  1  0    3    1\n",
      "Duster 360          14.3   8 360.0 245 3.21 3.570 15.84  0  0    3    4\n",
      "Merc 240D           24.4   4 146.7  62 3.69 3.190 20.00  1  0    4    2\n",
      "Merc 230            22.8   4 140.8  95 3.92 3.150 22.90  1  0    4    2\n",
      "Merc 280            19.2   6 167.6 123 3.92 3.440 18.30  1  0    4    4\n",
      "Merc 280C           17.8   6 167.6 123 3.92 3.440 18.90  1  0    4    4\n",
      "Merc 450SE          16.4   8 275.8 180 3.07 4.070 17.40  0  0    3    3\n",
      "Merc 450SL          17.3   8 275.8 180 3.07 3.730 17.60  0  0    3    3\n",
      "Merc 450SLC         15.2   8 275.8 180 3.07 3.780 18.00  0  0    3    3\n",
      "Cadillac Fleetwood  10.4   8 472.0 205 2.93 5.250 17.98  0  0    3    4\n",
      "Lincoln Continental 10.4   8 460.0 215 3.00 5.424 17.82  0  0    3    4\n",
      "Chrysler Imperial   14.7   8 440.0 230 3.23 5.345 17.42  0  0    3    4\n",
      "Fiat 128            32.4   4  78.7  66 4.08 2.200 19.47  1  1    4    1\n",
      "Honda Civic         30.4   4  75.7  52 4.93 1.615 18.52  1  1    4    2\n",
      "Toyota Corolla      33.9   4  71.1  65 4.22 1.835 19.90  1  1    4    1\n",
      "Toyota Corona       21.5   4 120.1  97 3.70 2.465 20.01  1  0    3    1\n",
      "Dodge Challenger    15.5   8 318.0 150 2.76 3.520 16.87  0  0    3    2\n",
      "AMC Javelin         15.2   8 304.0 150 3.15 3.435 17.30  0  0    3    2\n",
      "Camaro Z28          13.3   8 350.0 245 3.73 3.840 15.41  0  0    3    4\n",
      "Pontiac Firebird    19.2   8 400.0 175 3.08 3.845 17.05  0  0    3    2\n",
      "Fiat X1-9           27.3   4  79.0  66 4.08 1.935 18.90  1  1    4    1\n",
      "Porsche 914-2       26.0   4 120.3  91 4.43 2.140 16.70  0  1    5    2\n",
      "Lotus Europa        30.4   4  95.1 113 3.77 1.513 16.90  1  1    5    2\n",
      "Ford Pantera L      15.8   8 351.0 264 4.22 3.170 14.50  0  1    5    4\n",
      "Ferrari Dino        19.7   6 145.0 175 3.62 2.770 15.50  0  1    5    6\n",
      "Maserati Bora       15.0   8 301.0 335 3.54 3.570 14.60  0  1    5    8\n",
      "Volvo 142E          21.4   4 121.0 109 4.11 2.780 18.60  1  1    4    2\n"
     ]
    }
   ],
   "source": [
    "print(mtcars)"
   ]
  },
  {
   "cell_type": "code",
   "execution_count": 29,
   "metadata": {},
   "outputs": [
    {
     "name": "stdout",
     "output_type": "stream",
     "text": [
      "# A tibble: 32 x 12\n",
      "   car_name      mpg   cyl  disp    hp  drat    wt  qsec    vs    am  gear  carb\n",
      "   <chr>       <dbl> <dbl> <dbl> <dbl> <dbl> <dbl> <dbl> <dbl> <dbl> <dbl> <dbl>\n",
      " 1 Mazda RX4    21       6  160    110  3.9   2.62  16.5     0     1     4     4\n",
      " 2 Mazda RX4 …  21       6  160    110  3.9   2.88  17.0     0     1     4     4\n",
      " 3 Datsun 710   22.8     4  108     93  3.85  2.32  18.6     1     1     4     1\n",
      " 4 Hornet 4 D…  21.4     6  258    110  3.08  3.22  19.4     1     0     3     1\n",
      " 5 Hornet Spo…  18.7     8  360    175  3.15  3.44  17.0     0     0     3     2\n",
      " 6 Valiant      18.1     6  225    105  2.76  3.46  20.2     1     0     3     1\n",
      " 7 Duster 360   14.3     8  360    245  3.21  3.57  15.8     0     0     3     4\n",
      " 8 Merc 240D    24.4     4  147.    62  3.69  3.19  20       1     0     4     2\n",
      " 9 Merc 230     22.8     4  141.    95  3.92  3.15  22.9     1     0     4     2\n",
      "10 Merc 280     19.2     6  168.   123  3.92  3.44  18.3     1     0     4     4\n",
      "# … with 22 more rows\n"
     ]
    }
   ],
   "source": [
    "tbl_mtcars <- dplyr::bind_cols(car_name = rownames(mtcars), mtcars)\n",
    "print(tbl_mtcars)"
   ]
  },
  {
   "cell_type": "code",
   "execution_count": 30,
   "metadata": {},
   "outputs": [
    {
     "name": "stderr",
     "output_type": "stream",
     "text": [
      "Parsed with column specification:\n",
      "cols(\n",
      "  car_name = col_character(),\n",
      "  mpg = col_double(),\n",
      "  cyl = col_double(),\n",
      "  disp = col_double(),\n",
      "  hp = col_double(),\n",
      "  drat = col_double(),\n",
      "  wt = col_double(),\n",
      "  qsec = col_double(),\n",
      "  vs = col_double(),\n",
      "  am = col_double(),\n",
      "  gear = col_double(),\n",
      "  carb = col_double()\n",
      ")\n"
     ]
    }
   ],
   "source": [
    "write_csv(tbl_mtcars, path = \"mtcars.csv\")\n",
    "tbl_mtcars <- read_csv(\"mtcars.csv\")"
   ]
  },
  {
   "cell_type": "code",
   "execution_count": 31,
   "metadata": {},
   "outputs": [
    {
     "data": {
      "text/html": [
       "<ol class=list-inline>\n",
       "\t<li>'LICENSE'</li>\n",
       "\t<li>'mtcars.csv'</li>\n",
       "\t<li>'R_data_analysis_introduction_course.ipynb'</li>\n",
       "</ol>\n"
      ],
      "text/latex": [
       "\\begin{enumerate*}\n",
       "\\item 'LICENSE'\n",
       "\\item 'mtcars.csv'\n",
       "\\item 'R\\_data\\_analysis\\_introduction\\_course.ipynb'\n",
       "\\end{enumerate*}\n"
      ],
      "text/markdown": [
       "1. 'LICENSE'\n",
       "2. 'mtcars.csv'\n",
       "3. 'R_data_analysis_introduction_course.ipynb'\n",
       "\n",
       "\n"
      ],
      "text/plain": [
       "[1] \"LICENSE\"                                  \n",
       "[2] \"mtcars.csv\"                               \n",
       "[3] \"R_data_analysis_introduction_course.ipynb\""
      ]
     },
     "metadata": {},
     "output_type": "display_data"
    }
   ],
   "source": [
    "list.files()"
   ]
  },
  {
   "cell_type": "code",
   "execution_count": 32,
   "metadata": {},
   "outputs": [],
   "source": [
    "tbl_mtcars2 <- read_csv(\"mtcars.csv\",\n",
    "                      col_types = list(\n",
    "                      car_name = col_character(),\n",
    "                      mpg = col_double(),\n",
    "                      cyl = col_integer(),\n",
    "                      disp = col_double(),\n",
    "                      hp = col_integer(),\n",
    "                      drat = col_double(),\n",
    "                      wt = col_double(),\n",
    "                      qsec = col_double(),\n",
    "                      vs = col_integer(),\n",
    "                      am = col_integer(),\n",
    "                      gear = col_integer(),\n",
    "                      carb = col_integer()\n",
    "                      )\n",
    "                )"
   ]
  },
  {
   "cell_type": "code",
   "execution_count": 33,
   "metadata": {},
   "outputs": [
    {
     "name": "stdout",
     "output_type": "stream",
     "text": [
      "# A tibble: 32 x 12\n",
      "   car_name      mpg   cyl  disp    hp  drat    wt  qsec    vs    am  gear  carb\n",
      "   <chr>       <dbl> <dbl> <dbl> <dbl> <dbl> <dbl> <dbl> <dbl> <dbl> <dbl> <dbl>\n",
      " 1 Mazda RX4    21       6  160    110  3.9   2.62  16.5     0     1     4     4\n",
      " 2 Mazda RX4 …  21       6  160    110  3.9   2.88  17.0     0     1     4     4\n",
      " 3 Datsun 710   22.8     4  108     93  3.85  2.32  18.6     1     1     4     1\n",
      " 4 Hornet 4 D…  21.4     6  258    110  3.08  3.22  19.4     1     0     3     1\n",
      " 5 Hornet Spo…  18.7     8  360    175  3.15  3.44  17.0     0     0     3     2\n",
      " 6 Valiant      18.1     6  225    105  2.76  3.46  20.2     1     0     3     1\n",
      " 7 Duster 360   14.3     8  360    245  3.21  3.57  15.8     0     0     3     4\n",
      " 8 Merc 240D    24.4     4  147.    62  3.69  3.19  20       1     0     4     2\n",
      " 9 Merc 230     22.8     4  141.    95  3.92  3.15  22.9     1     0     4     2\n",
      "10 Merc 280     19.2     6  168.   123  3.92  3.44  18.3     1     0     4     4\n",
      "# … with 22 more rows\n",
      "# A tibble: 32 x 12\n",
      "   car_name      mpg   cyl  disp    hp  drat    wt  qsec    vs    am  gear  carb\n",
      "   <chr>       <dbl> <int> <dbl> <int> <dbl> <dbl> <dbl> <int> <int> <int> <int>\n",
      " 1 Mazda RX4    21       6  160    110  3.9   2.62  16.5     0     1     4     4\n",
      " 2 Mazda RX4 …  21       6  160    110  3.9   2.88  17.0     0     1     4     4\n",
      " 3 Datsun 710   22.8     4  108     93  3.85  2.32  18.6     1     1     4     1\n",
      " 4 Hornet 4 D…  21.4     6  258    110  3.08  3.22  19.4     1     0     3     1\n",
      " 5 Hornet Spo…  18.7     8  360    175  3.15  3.44  17.0     0     0     3     2\n",
      " 6 Valiant      18.1     6  225    105  2.76  3.46  20.2     1     0     3     1\n",
      " 7 Duster 360   14.3     8  360    245  3.21  3.57  15.8     0     0     3     4\n",
      " 8 Merc 240D    24.4     4  147.    62  3.69  3.19  20       1     0     4     2\n",
      " 9 Merc 230     22.8     4  141.    95  3.92  3.15  22.9     1     0     4     2\n",
      "10 Merc 280     19.2     6  168.   123  3.92  3.44  18.3     1     0     4     4\n",
      "# … with 22 more rows\n"
     ]
    }
   ],
   "source": [
    "print(tbl_mtcars)\n",
    "print(tbl_mtcars2)"
   ]
  },
  {
   "cell_type": "code",
   "execution_count": 34,
   "metadata": {},
   "outputs": [
    {
     "data": {
      "text/html": [
       "2"
      ],
      "text/latex": [
       "2"
      ],
      "text/markdown": [
       "2"
      ],
      "text/plain": [
       "[1] 2"
      ]
     },
     "metadata": {},
     "output_type": "display_data"
    },
    {
     "data": {
      "text/html": [
       "2"
      ],
      "text/latex": [
       "2"
      ],
      "text/markdown": [
       "2"
      ],
      "text/plain": [
       "[1] 2"
      ]
     },
     "metadata": {},
     "output_type": "display_data"
    },
    {
     "data": {
      "text/html": [
       "FALSE"
      ],
      "text/latex": [
       "FALSE"
      ],
      "text/markdown": [
       "FALSE"
      ],
      "text/plain": [
       "[1] FALSE"
      ]
     },
     "metadata": {},
     "output_type": "display_data"
    }
   ],
   "source": [
    "tbl_mtcars$carb[5]\n",
    "sqrt(tbl_mtcars$carb[5]) ^ 2\n",
    "tbl_mtcars$carb[5] == sqrt(tbl_mtcars$carb[5]) ^ 2"
   ]
  },
  {
   "cell_type": "code",
   "execution_count": 35,
   "metadata": {},
   "outputs": [
    {
     "data": {
      "text/html": [
       "TRUE"
      ],
      "text/latex": [
       "TRUE"
      ],
      "text/markdown": [
       "TRUE"
      ],
      "text/plain": [
       "[1] TRUE"
      ]
     },
     "metadata": {},
     "output_type": "display_data"
    }
   ],
   "source": [
    "as.integer(tbl_mtcars$carb[5]) == as.integer(sqrt(tbl_mtcars$carb[5]) ^ 2)"
   ]
  },
  {
   "cell_type": "code",
   "execution_count": 36,
   "metadata": {},
   "outputs": [
    {
     "data": {
      "text/html": [
       "TRUE"
      ],
      "text/latex": [
       "TRUE"
      ],
      "text/markdown": [
       "TRUE"
      ],
      "text/plain": [
       "[1] TRUE"
      ]
     },
     "metadata": {},
     "output_type": "display_data"
    }
   ],
   "source": [
    "dplyr::near(tbl_mtcars$carb[5], tbl_mtcars$carb[5])"
   ]
  },
  {
   "cell_type": "code",
   "execution_count": 37,
   "metadata": {},
   "outputs": [
    {
     "name": "stdout",
     "output_type": "stream",
     "text": [
      "# A tibble: 32 x 11\n",
      "   car_name         mpg `cyl/hp`  disp  drat    wt  qsec    vs    am  gear  carb\n",
      "   <chr>          <dbl> <chr>    <dbl> <dbl> <dbl> <dbl> <dbl> <dbl> <dbl> <dbl>\n",
      " 1 Mazda RX4       21   6/110     160   3.9   2.62  16.5     0     1     4     4\n",
      " 2 Mazda RX4 Wag   21   6/110     160   3.9   2.88  17.0     0     1     4     4\n",
      " 3 Datsun 710      22.8 4/93      108   3.85  2.32  18.6     1     1     4     1\n",
      " 4 Hornet 4 Drive  21.4 6/110     258   3.08  3.22  19.4     1     0     3     1\n",
      " 5 Hornet Sporta…  18.7 8/175     360   3.15  3.44  17.0     0     0     3     2\n",
      " 6 Valiant         18.1 6/105     225   2.76  3.46  20.2     1     0     3     1\n",
      " 7 Duster 360      14.3 8/245     360   3.21  3.57  15.8     0     0     3     4\n",
      " 8 Merc 240D       24.4 4/62      147.  3.69  3.19  20       1     0     4     2\n",
      " 9 Merc 230        22.8 4/95      141.  3.92  3.15  22.9     1     0     4     2\n",
      "10 Merc 280        19.2 6/123     168.  3.92  3.44  18.3     1     0     4     4\n",
      "# … with 22 more rows\n"
     ]
    }
   ],
   "source": [
    "tbl_mtcars_joined <- tidyr::unite(data = tbl_mtcars, col = \"cyl/hp\", cyl, hp, sep = \"/\")\n",
    "print(tbl_mtcars_joined)"
   ]
  },
  {
   "cell_type": "code",
   "execution_count": 38,
   "metadata": {},
   "outputs": [
    {
     "name": "stdout",
     "output_type": "stream",
     "text": [
      "# A tibble: 32 x 13\n",
      "   car_name   mpg `cyl/hp`   cyl  disp    hp  drat    wt  qsec    vs    am  gear\n",
      "   <chr>    <dbl> <chr>    <dbl> <dbl> <dbl> <dbl> <dbl> <dbl> <dbl> <dbl> <dbl>\n",
      " 1 Mazda R…  21   6/110        6  160    110  3.9   2.62  16.5     0     1     4\n",
      " 2 Mazda R…  21   6/110        6  160    110  3.9   2.88  17.0     0     1     4\n",
      " 3 Datsun …  22.8 4/93         4  108     93  3.85  2.32  18.6     1     1     4\n",
      " 4 Hornet …  21.4 6/110        6  258    110  3.08  3.22  19.4     1     0     3\n",
      " 5 Hornet …  18.7 8/175        8  360    175  3.15  3.44  17.0     0     0     3\n",
      " 6 Valiant   18.1 6/105        6  225    105  2.76  3.46  20.2     1     0     3\n",
      " 7 Duster …  14.3 8/245        8  360    245  3.21  3.57  15.8     0     0     3\n",
      " 8 Merc 24…  24.4 4/62         4  147.    62  3.69  3.19  20       1     0     4\n",
      " 9 Merc 230  22.8 4/95         4  141.    95  3.92  3.15  22.9     1     0     4\n",
      "10 Merc 280  19.2 6/123        6  168.   123  3.92  3.44  18.3     1     0     4\n",
      "# … with 22 more rows, and 1 more variable: carb <dbl>\n"
     ]
    }
   ],
   "source": [
    "print( tidyr::unite(data = tbl_mtcars, col = \"cyl/hp\", cyl, hp, sep = \"/\", remove = FALSE) )"
   ]
  },
  {
   "cell_type": "code",
   "execution_count": 39,
   "metadata": {},
   "outputs": [
    {
     "name": "stdout",
     "output_type": "stream",
     "text": [
      "# A tibble: 32 x 12\n",
      "   car_name      mpg   cyl    hp  disp  drat    wt  qsec    vs    am  gear  carb\n",
      "   <chr>       <dbl> <int> <int> <dbl> <dbl> <dbl> <dbl> <dbl> <dbl> <dbl> <dbl>\n",
      " 1 Mazda RX4    21       6   110  160   3.9   2.62  16.5     0     1     4     4\n",
      " 2 Mazda RX4 …  21       6   110  160   3.9   2.88  17.0     0     1     4     4\n",
      " 3 Datsun 710   22.8     4    93  108   3.85  2.32  18.6     1     1     4     1\n",
      " 4 Hornet 4 D…  21.4     6   110  258   3.08  3.22  19.4     1     0     3     1\n",
      " 5 Hornet Spo…  18.7     8   175  360   3.15  3.44  17.0     0     0     3     2\n",
      " 6 Valiant      18.1     6   105  225   2.76  3.46  20.2     1     0     3     1\n",
      " 7 Duster 360   14.3     8   245  360   3.21  3.57  15.8     0     0     3     4\n",
      " 8 Merc 240D    24.4     4    62  147.  3.69  3.19  20       1     0     4     2\n",
      " 9 Merc 230     22.8     4    95  141.  3.92  3.15  22.9     1     0     4     2\n",
      "10 Merc 280     19.2     6   123  168.  3.92  3.44  18.3     1     0     4     4\n",
      "# … with 22 more rows\n"
     ]
    }
   ],
   "source": [
    "tbl_mtcars_sep <- tidyr::separate(tbl_mtcars_joined, 'cyl/hp', c(\"cyl\", \"hp\"), sep = \"/\", convert = TRUE)\n",
    "print(tbl_mtcars_sep)"
   ]
  },
  {
   "cell_type": "markdown",
   "metadata": {},
   "source": [
    "## Handling missing values"
   ]
  },
  {
   "cell_type": "code",
   "execution_count": 40,
   "metadata": {},
   "outputs": [
    {
     "name": "stdout",
     "output_type": "stream",
     "text": [
      "# A tibble: 153 x 6\n",
      "   Ozone Solar.R  Wind  Temp Month   Day\n",
      "   <int>   <int> <dbl> <int> <int> <int>\n",
      " 1    41     190   7.4    67     5     1\n",
      " 2    36     118   8      72     5     2\n",
      " 3    12     149  12.6    74     5     3\n",
      " 4    18     313  11.5    62     5     4\n",
      " 5    NA      NA  14.3    56     5     5\n",
      " 6    28      NA  14.9    66     5     6\n",
      " 7    23     299   8.6    65     5     7\n",
      " 8    19      99  13.8    59     5     8\n",
      " 9     8      19  20.1    61     5     9\n",
      "10    NA     194   8.6    69     5    10\n",
      "# … with 143 more rows\n"
     ]
    }
   ],
   "source": [
    "tbl_airquality <- tibble::as_tibble(airquality)\n",
    "print(tbl_airquality)"
   ]
  },
  {
   "cell_type": "code",
   "execution_count": 41,
   "metadata": {},
   "outputs": [
    {
     "data": {
      "text/html": [
       "TRUE"
      ],
      "text/latex": [
       "TRUE"
      ],
      "text/markdown": [
       "TRUE"
      ],
      "text/plain": [
       "[1] TRUE"
      ]
     },
     "metadata": {},
     "output_type": "display_data"
    }
   ],
   "source": [
    "any( is.na( tbl_airquality[, \"Ozone\"] ) ) "
   ]
  },
  {
   "cell_type": "code",
   "execution_count": 42,
   "metadata": {},
   "outputs": [
    {
     "data": {
      "text/html": [
       "<dl>\n",
       "\t<dt>$Ozone</dt>\n",
       "\t\t<dd>TRUE</dd>\n",
       "\t<dt>$Solar.R</dt>\n",
       "\t\t<dd>TRUE</dd>\n",
       "\t<dt>$Wind</dt>\n",
       "\t\t<dd>FALSE</dd>\n",
       "\t<dt>$Temp</dt>\n",
       "\t\t<dd>FALSE</dd>\n",
       "\t<dt>$Month</dt>\n",
       "\t\t<dd>FALSE</dd>\n",
       "\t<dt>$Day</dt>\n",
       "\t\t<dd>FALSE</dd>\n",
       "</dl>\n"
      ],
      "text/latex": [
       "\\begin{description}\n",
       "\\item[\\$Ozone] TRUE\n",
       "\\item[\\$Solar.R] TRUE\n",
       "\\item[\\$Wind] FALSE\n",
       "\\item[\\$Temp] FALSE\n",
       "\\item[\\$Month] FALSE\n",
       "\\item[\\$Day] FALSE\n",
       "\\end{description}\n"
      ],
      "text/markdown": [
       "$Ozone\n",
       ":   TRUE\n",
       "$Solar.R\n",
       ":   TRUE\n",
       "$Wind\n",
       ":   FALSE\n",
       "$Temp\n",
       ":   FALSE\n",
       "$Month\n",
       ":   FALSE\n",
       "$Day\n",
       ":   FALSE\n",
       "\n",
       "\n"
      ],
      "text/plain": [
       "$Ozone\n",
       "[1] TRUE\n",
       "\n",
       "$Solar.R\n",
       "[1] TRUE\n",
       "\n",
       "$Wind\n",
       "[1] FALSE\n",
       "\n",
       "$Temp\n",
       "[1] FALSE\n",
       "\n",
       "$Month\n",
       "[1] FALSE\n",
       "\n",
       "$Day\n",
       "[1] FALSE\n"
      ]
     },
     "metadata": {},
     "output_type": "display_data"
    }
   ],
   "source": [
    "purrr::map( purrr::map( tbl_airquality, is.na ), any )"
   ]
  },
  {
   "cell_type": "code",
   "execution_count": 43,
   "metadata": {},
   "outputs": [
    {
     "name": "stdout",
     "output_type": "stream",
     "text": [
      "# A tibble: 111 x 6\n",
      "   Ozone Solar.R  Wind  Temp Month   Day\n",
      "   <int>   <int> <dbl> <int> <int> <int>\n",
      " 1    41     190   7.4    67     5     1\n",
      " 2    36     118   8      72     5     2\n",
      " 3    12     149  12.6    74     5     3\n",
      " 4    18     313  11.5    62     5     4\n",
      " 5    23     299   8.6    65     5     7\n",
      " 6    19      99  13.8    59     5     8\n",
      " 7     8      19  20.1    61     5     9\n",
      " 8    16     256   9.7    69     5    12\n",
      " 9    11     290   9.2    66     5    13\n",
      "10    14     274  10.9    68     5    14\n",
      "# … with 101 more rows\n"
     ]
    }
   ],
   "source": [
    "tbl_airquality_drop <- tidyr::drop_na(tbl_airquality)\n",
    "print(tbl_airquality_drop)"
   ]
  },
  {
   "cell_type": "code",
   "execution_count": 44,
   "metadata": {},
   "outputs": [
    {
     "name": "stdout",
     "output_type": "stream",
     "text": [
      "# A tibble: 153 x 6\n",
      "   Ozone Solar.R  Wind  Temp Month   Day\n",
      "   <int>   <int> <dbl> <int> <int> <int>\n",
      " 1    41     190   7.4    67     5     1\n",
      " 2    36     118   8      72     5     2\n",
      " 3    12     149  12.6    74     5     3\n",
      " 4    18     313  11.5    62     5     4\n",
      " 5    18     313  14.3    56     5     5\n",
      " 6    28     313  14.9    66     5     6\n",
      " 7    23     299   8.6    65     5     7\n",
      " 8    19      99  13.8    59     5     8\n",
      " 9     8      19  20.1    61     5     9\n",
      "10     8     194   8.6    69     5    10\n",
      "# … with 143 more rows\n"
     ]
    }
   ],
   "source": [
    "tbl_airquality_fill <- tidyr::fill(tbl_airquality, Ozone, Solar.R, .direction = \"down\")\n",
    "print(tbl_airquality_fill)"
   ]
  },
  {
   "cell_type": "code",
   "execution_count": 45,
   "metadata": {},
   "outputs": [
    {
     "name": "stdout",
     "output_type": "stream",
     "text": [
      "# A tibble: 153 x 6\n",
      "   Ozone Solar.R  Wind  Temp Month   Day\n",
      "   <dbl>   <int> <dbl> <int> <int> <int>\n",
      " 1    41     190   7.4    67     5     1\n",
      " 2    36     118   8      72     5     2\n",
      " 3    12     149  12.6    74     5     3\n",
      " 4    18     313  11.5    62     5     4\n",
      " 5    -1      NA  14.3    56     5     5\n",
      " 6    28      NA  14.9    66     5     6\n",
      " 7    23     299   8.6    65     5     7\n",
      " 8    19      99  13.8    59     5     8\n",
      " 9     8      19  20.1    61     5     9\n",
      "10    -1     194   8.6    69     5    10\n",
      "# … with 143 more rows\n"
     ]
    }
   ],
   "source": [
    "tbl_airquality_replace <- tidyr::replace_na(tbl_airquality, Ozone, replace = list(Ozone = -1))\n",
    "print(tbl_airquality_replace)"
   ]
  },
  {
   "cell_type": "markdown",
   "metadata": {},
   "source": [
    "## Tidying data"
   ]
  },
  {
   "cell_type": "code",
   "execution_count": 46,
   "metadata": {},
   "outputs": [
    {
     "name": "stdout",
     "output_type": "stream",
     "text": [
      "# A tibble: 32 x 12\n",
      "   car_name      mpg   cyl  disp    hp  drat    wt  qsec    vs    am  gear  carb\n",
      "   <chr>       <dbl> <dbl> <dbl> <dbl> <dbl> <dbl> <dbl> <dbl> <dbl> <dbl> <dbl>\n",
      " 1 Mazda RX4    21       6  160    110  3.9   2.62  16.5     0     1     4     4\n",
      " 2 Mazda RX4 …  21       6  160    110  3.9   2.88  17.0     0     1     4     4\n",
      " 3 Datsun 710   22.8     4  108     93  3.85  2.32  18.6     1     1     4     1\n",
      " 4 Hornet 4 D…  21.4     6  258    110  3.08  3.22  19.4     1     0     3     1\n",
      " 5 Hornet Spo…  18.7     8  360    175  3.15  3.44  17.0     0     0     3     2\n",
      " 6 Valiant      18.1     6  225    105  2.76  3.46  20.2     1     0     3     1\n",
      " 7 Duster 360   14.3     8  360    245  3.21  3.57  15.8     0     0     3     4\n",
      " 8 Merc 240D    24.4     4  147.    62  3.69  3.19  20       1     0     4     2\n",
      " 9 Merc 230     22.8     4  141.    95  3.92  3.15  22.9     1     0     4     2\n",
      "10 Merc 280     19.2     6  168.   123  3.92  3.44  18.3     1     0     4     4\n",
      "# … with 22 more rows\n"
     ]
    }
   ],
   "source": [
    "print(tbl_mtcars)"
   ]
  },
  {
   "cell_type": "code",
   "execution_count": 47,
   "metadata": {},
   "outputs": [
    {
     "name": "stdout",
     "output_type": "stream",
     "text": [
      "# A tibble: 150 x 5\n",
      "   Sepal.Length Sepal.Width Petal.Length Petal.Width Species\n",
      "          <dbl>       <dbl>        <dbl>       <dbl> <fct>  \n",
      " 1          5.1         3.5          1.4         0.2 setosa \n",
      " 2          4.9         3            1.4         0.2 setosa \n",
      " 3          4.7         3.2          1.3         0.2 setosa \n",
      " 4          4.6         3.1          1.5         0.2 setosa \n",
      " 5          5           3.6          1.4         0.2 setosa \n",
      " 6          5.4         3.9          1.7         0.4 setosa \n",
      " 7          4.6         3.4          1.4         0.3 setosa \n",
      " 8          5           3.4          1.5         0.2 setosa \n",
      " 9          4.4         2.9          1.4         0.2 setosa \n",
      "10          4.9         3.1          1.5         0.1 setosa \n",
      "# … with 140 more rows\n"
     ]
    }
   ],
   "source": [
    "tbl_iris <- tibble::as_tibble(iris)\n",
    "print(tbl_iris)"
   ]
  },
  {
   "cell_type": "code",
   "execution_count": 48,
   "metadata": {},
   "outputs": [
    {
     "name": "stdout",
     "output_type": "stream",
     "text": [
      "# A tibble: 600 x 3\n",
      "   Species desc         Value\n",
      "   <fct>   <chr>        <dbl>\n",
      " 1 setosa  Sepal.Length   5.1\n",
      " 2 setosa  Sepal.Length   4.9\n",
      " 3 setosa  Sepal.Length   4.7\n",
      " 4 setosa  Sepal.Length   4.6\n",
      " 5 setosa  Sepal.Length   5  \n",
      " 6 setosa  Sepal.Length   5.4\n",
      " 7 setosa  Sepal.Length   4.6\n",
      " 8 setosa  Sepal.Length   5  \n",
      " 9 setosa  Sepal.Length   4.4\n",
      "10 setosa  Sepal.Length   4.9\n",
      "# … with 590 more rows\n"
     ]
    }
   ],
   "source": [
    "iris_tidy <- tidyr::gather(tbl_iris, desc, Value, -Species)\n",
    "print(iris_tidy)"
   ]
  },
  {
   "cell_type": "code",
   "execution_count": 49,
   "metadata": {},
   "outputs": [
    {
     "name": "stdout",
     "output_type": "stream",
     "text": [
      "# A tibble: 600 x 4\n",
      "   Species Part  Measure Value\n",
      "   <fct>   <chr> <chr>   <dbl>\n",
      " 1 setosa  Sepal Length    5.1\n",
      " 2 setosa  Sepal Length    4.9\n",
      " 3 setosa  Sepal Length    4.7\n",
      " 4 setosa  Sepal Length    4.6\n",
      " 5 setosa  Sepal Length    5  \n",
      " 6 setosa  Sepal Length    5.4\n",
      " 7 setosa  Sepal Length    4.6\n",
      " 8 setosa  Sepal Length    5  \n",
      " 9 setosa  Sepal Length    4.4\n",
      "10 setosa  Sepal Length    4.9\n",
      "# … with 590 more rows\n"
     ]
    }
   ],
   "source": [
    "iris_tidy <- tidyr::separate(iris_tidy, desc, c(\"Part\", \"Measure\"), \"\\\\.\")\n",
    "print(iris_tidy)"
   ]
  },
  {
   "cell_type": "code",
   "execution_count": 50,
   "metadata": {},
   "outputs": [
    {
     "ename": "ERROR",
     "evalue": "Error in spread_(data, key_col = key, value_col = value, fill = fill, : argument \"data\" is missing, with no default\n",
     "output_type": "error",
     "traceback": [
      "Error in spread_(data, key_col = key, value_col = value, fill = fill, : argument \"data\" is missing, with no default\nTraceback:\n",
      "1. spread()",
      "2. spread.default()",
      "3. spread_(data, key_col = key, value_col = value, fill = fill, \n .     convert = convert, drop = drop, sep = sep)"
     ]
    }
   ],
   "source": [
    "#spread()"
   ]
  },
  {
   "cell_type": "markdown",
   "metadata": {},
   "source": [
    "## Tidy data advantages"
   ]
  },
  {
   "cell_type": "markdown",
   "metadata": {},
   "source": [
    "# Data exploration"
   ]
  },
  {
   "cell_type": "markdown",
   "metadata": {},
   "source": [
    "## Pipes"
   ]
  },
  {
   "cell_type": "code",
   "execution_count": null,
   "metadata": {},
   "outputs": [],
   "source": []
  },
  {
   "cell_type": "markdown",
   "metadata": {},
   "source": [
    "#### note that dbplyr is dplyr for databases"
   ]
  },
  {
   "cell_type": "markdown",
   "metadata": {},
   "source": [
    "### Filtering"
   ]
  },
  {
   "cell_type": "code",
   "execution_count": 52,
   "metadata": {},
   "outputs": [
    {
     "data": {
      "text/html": [
       "<table>\n",
       "<thead><tr><th scope=col>car_name</th><th scope=col>mpg</th><th scope=col>cyl</th><th scope=col>disp</th><th scope=col>hp</th><th scope=col>drat</th><th scope=col>wt</th><th scope=col>qsec</th><th scope=col>vs</th><th scope=col>am</th><th scope=col>gear</th><th scope=col>carb</th></tr></thead>\n",
       "<tbody>\n",
       "\t<tr><td>Mazda RX4     </td><td>21.0          </td><td>6             </td><td>160           </td><td>110           </td><td>3.90          </td><td>2.620         </td><td>16.46         </td><td>0             </td><td>1             </td><td>4             </td><td>4             </td></tr>\n",
       "\t<tr><td>Mazda RX4 Wag </td><td>21.0          </td><td>6             </td><td>160           </td><td>110           </td><td>3.90          </td><td>2.875         </td><td>17.02         </td><td>0             </td><td>1             </td><td>4             </td><td>4             </td></tr>\n",
       "\t<tr><td>Hornet 4 Drive</td><td>21.4          </td><td>6             </td><td>258           </td><td>110           </td><td>3.08          </td><td>3.215         </td><td>19.44         </td><td>1             </td><td>0             </td><td>3             </td><td>1             </td></tr>\n",
       "</tbody>\n",
       "</table>\n"
      ],
      "text/latex": [
       "\\begin{tabular}{r|llllllllllll}\n",
       " car\\_name & mpg & cyl & disp & hp & drat & wt & qsec & vs & am & gear & carb\\\\\n",
       "\\hline\n",
       "\t Mazda RX4      & 21.0           & 6              & 160            & 110            & 3.90           & 2.620          & 16.46          & 0              & 1              & 4              & 4             \\\\\n",
       "\t Mazda RX4 Wag  & 21.0           & 6              & 160            & 110            & 3.90           & 2.875          & 17.02          & 0              & 1              & 4              & 4             \\\\\n",
       "\t Hornet 4 Drive & 21.4           & 6              & 258            & 110            & 3.08           & 3.215          & 19.44          & 1              & 0              & 3              & 1             \\\\\n",
       "\\end{tabular}\n"
      ],
      "text/markdown": [
       "\n",
       "| car_name | mpg | cyl | disp | hp | drat | wt | qsec | vs | am | gear | carb |\n",
       "|---|---|---|---|---|---|---|---|---|---|---|---|\n",
       "| Mazda RX4      | 21.0           | 6              | 160            | 110            | 3.90           | 2.620          | 16.46          | 0              | 1              | 4              | 4              |\n",
       "| Mazda RX4 Wag  | 21.0           | 6              | 160            | 110            | 3.90           | 2.875          | 17.02          | 0              | 1              | 4              | 4              |\n",
       "| Hornet 4 Drive | 21.4           | 6              | 258            | 110            | 3.08           | 3.215          | 19.44          | 1              | 0              | 3              | 1              |\n",
       "\n"
      ],
      "text/plain": [
       "  car_name       mpg  cyl disp hp  drat wt    qsec  vs am gear carb\n",
       "1 Mazda RX4      21.0 6   160  110 3.90 2.620 16.46 0  1  4    4   \n",
       "2 Mazda RX4 Wag  21.0 6   160  110 3.90 2.875 17.02 0  1  4    4   \n",
       "3 Hornet 4 Drive 21.4 6   258  110 3.08 3.215 19.44 1  0  3    1   "
      ]
     },
     "metadata": {},
     "output_type": "display_data"
    }
   ],
   "source": [
    "tbl_mtcars %>%\n",
    "    filter(cyl <= 6, hp == 110)"
   ]
  },
  {
   "cell_type": "code",
   "execution_count": 53,
   "metadata": {},
   "outputs": [
    {
     "data": {
      "text/html": [
       "<table>\n",
       "<thead><tr><th scope=col>car_name</th><th scope=col>mpg</th><th scope=col>cyl</th><th scope=col>disp</th><th scope=col>hp</th><th scope=col>drat</th><th scope=col>wt</th><th scope=col>qsec</th><th scope=col>vs</th><th scope=col>am</th><th scope=col>gear</th><th scope=col>carb</th></tr></thead>\n",
       "<tbody>\n",
       "\t<tr><td>Mazda RX4     </td><td>21.0          </td><td>6             </td><td>160           </td><td>110           </td><td>3.90          </td><td>2.620         </td><td>16.46         </td><td>0             </td><td>1             </td><td>4             </td><td>4             </td></tr>\n",
       "\t<tr><td>Mazda RX4 Wag </td><td>21.0          </td><td>6             </td><td>160           </td><td>110           </td><td>3.90          </td><td>2.875         </td><td>17.02         </td><td>0             </td><td>1             </td><td>4             </td><td>4             </td></tr>\n",
       "\t<tr><td>Datsun 710    </td><td>22.8          </td><td>4             </td><td>108           </td><td> 93           </td><td>3.85          </td><td>2.320         </td><td>18.61         </td><td>1             </td><td>1             </td><td>4             </td><td>1             </td></tr>\n",
       "\t<tr><td>Hornet 4 Drive</td><td>21.4          </td><td>6             </td><td>258           </td><td>110           </td><td>3.08          </td><td>3.215         </td><td>19.44         </td><td>1             </td><td>0             </td><td>3             </td><td>1             </td></tr>\n",
       "</tbody>\n",
       "</table>\n"
      ],
      "text/latex": [
       "\\begin{tabular}{r|llllllllllll}\n",
       " car\\_name & mpg & cyl & disp & hp & drat & wt & qsec & vs & am & gear & carb\\\\\n",
       "\\hline\n",
       "\t Mazda RX4      & 21.0           & 6              & 160            & 110            & 3.90           & 2.620          & 16.46          & 0              & 1              & 4              & 4             \\\\\n",
       "\t Mazda RX4 Wag  & 21.0           & 6              & 160            & 110            & 3.90           & 2.875          & 17.02          & 0              & 1              & 4              & 4             \\\\\n",
       "\t Datsun 710     & 22.8           & 4              & 108            &  93            & 3.85           & 2.320          & 18.61          & 1              & 1              & 4              & 1             \\\\\n",
       "\t Hornet 4 Drive & 21.4           & 6              & 258            & 110            & 3.08           & 3.215          & 19.44          & 1              & 0              & 3              & 1             \\\\\n",
       "\\end{tabular}\n"
      ],
      "text/markdown": [
       "\n",
       "| car_name | mpg | cyl | disp | hp | drat | wt | qsec | vs | am | gear | carb |\n",
       "|---|---|---|---|---|---|---|---|---|---|---|---|\n",
       "| Mazda RX4      | 21.0           | 6              | 160            | 110            | 3.90           | 2.620          | 16.46          | 0              | 1              | 4              | 4              |\n",
       "| Mazda RX4 Wag  | 21.0           | 6              | 160            | 110            | 3.90           | 2.875          | 17.02          | 0              | 1              | 4              | 4              |\n",
       "| Datsun 710     | 22.8           | 4              | 108            |  93            | 3.85           | 2.320          | 18.61          | 1              | 1              | 4              | 1              |\n",
       "| Hornet 4 Drive | 21.4           | 6              | 258            | 110            | 3.08           | 3.215          | 19.44          | 1              | 0              | 3              | 1              |\n",
       "\n"
      ],
      "text/plain": [
       "  car_name       mpg  cyl disp hp  drat wt    qsec  vs am gear carb\n",
       "1 Mazda RX4      21.0 6   160  110 3.90 2.620 16.46 0  1  4    4   \n",
       "2 Mazda RX4 Wag  21.0 6   160  110 3.90 2.875 17.02 0  1  4    4   \n",
       "3 Datsun 710     22.8 4   108   93 3.85 2.320 18.61 1  1  4    1   \n",
       "4 Hornet 4 Drive 21.4 6   258  110 3.08 3.215 19.44 1  0  3    1   "
      ]
     },
     "metadata": {},
     "output_type": "display_data"
    }
   ],
   "source": [
    "order <- 1:32\n",
    "tbl_mtcars %>%\n",
    "    filter(order < 5)"
   ]
  },
  {
   "cell_type": "code",
   "execution_count": 54,
   "metadata": {},
   "outputs": [
    {
     "data": {
      "text/html": [
       "<table>\n",
       "<thead><tr><th scope=col>car_name</th><th scope=col>mpg</th><th scope=col>cyl</th><th scope=col>disp</th><th scope=col>hp</th><th scope=col>drat</th><th scope=col>wt</th><th scope=col>qsec</th><th scope=col>vs</th><th scope=col>am</th><th scope=col>gear</th><th scope=col>carb</th></tr></thead>\n",
       "<tbody>\n",
       "</tbody>\n",
       "</table>\n"
      ],
      "text/latex": [
       "\\begin{tabular}{r|llllllllllll}\n",
       " car\\_name & mpg & cyl & disp & hp & drat & wt & qsec & vs & am & gear & carb\\\\\n",
       "\\hline\n",
       "\\end{tabular}\n"
      ],
      "text/markdown": [
       "\n",
       "| car_name | mpg | cyl | disp | hp | drat | wt | qsec | vs | am | gear | carb |\n",
       "|---|---|---|---|---|---|---|---|---|---|---|---|\n",
       "\n"
      ],
      "text/plain": [
       "     car_name mpg cyl disp hp drat wt qsec vs am gear carb"
      ]
     },
     "metadata": {},
     "output_type": "display_data"
    }
   ],
   "source": [
    "tbl_mtcars %>%\n",
    "    filter(\"gear\" == 3)"
   ]
  },
  {
   "cell_type": "code",
   "execution_count": 55,
   "metadata": {},
   "outputs": [
    {
     "data": {
      "text/html": [
       "<table>\n",
       "<thead><tr><th scope=col>car_name</th><th scope=col>mpg</th><th scope=col>cyl</th><th scope=col>disp</th><th scope=col>hp</th><th scope=col>drat</th><th scope=col>wt</th><th scope=col>qsec</th><th scope=col>vs</th><th scope=col>am</th><th scope=col>gear</th><th scope=col>carb</th></tr></thead>\n",
       "<tbody>\n",
       "\t<tr><td>Hornet 4 Drive     </td><td>21.4               </td><td>6                  </td><td>258.0              </td><td>110                </td><td>3.08               </td><td>3.215              </td><td>19.44              </td><td>1                  </td><td>0                  </td><td>3                  </td><td>1                  </td></tr>\n",
       "\t<tr><td>Hornet Sportabout  </td><td>18.7               </td><td>8                  </td><td>360.0              </td><td>175                </td><td>3.15               </td><td>3.440              </td><td>17.02              </td><td>0                  </td><td>0                  </td><td>3                  </td><td>2                  </td></tr>\n",
       "\t<tr><td>Valiant            </td><td>18.1               </td><td>6                  </td><td>225.0              </td><td>105                </td><td>2.76               </td><td>3.460              </td><td>20.22              </td><td>1                  </td><td>0                  </td><td>3                  </td><td>1                  </td></tr>\n",
       "\t<tr><td>Duster 360         </td><td>14.3               </td><td>8                  </td><td>360.0              </td><td>245                </td><td>3.21               </td><td>3.570              </td><td>15.84              </td><td>0                  </td><td>0                  </td><td>3                  </td><td>4                  </td></tr>\n",
       "\t<tr><td>Merc 450SE         </td><td>16.4               </td><td>8                  </td><td>275.8              </td><td>180                </td><td>3.07               </td><td>4.070              </td><td>17.40              </td><td>0                  </td><td>0                  </td><td>3                  </td><td>3                  </td></tr>\n",
       "\t<tr><td>Merc 450SL         </td><td>17.3               </td><td>8                  </td><td>275.8              </td><td>180                </td><td>3.07               </td><td>3.730              </td><td>17.60              </td><td>0                  </td><td>0                  </td><td>3                  </td><td>3                  </td></tr>\n",
       "\t<tr><td>Merc 450SLC        </td><td>15.2               </td><td>8                  </td><td>275.8              </td><td>180                </td><td>3.07               </td><td>3.780              </td><td>18.00              </td><td>0                  </td><td>0                  </td><td>3                  </td><td>3                  </td></tr>\n",
       "\t<tr><td>Cadillac Fleetwood </td><td>10.4               </td><td>8                  </td><td>472.0              </td><td>205                </td><td>2.93               </td><td>5.250              </td><td>17.98              </td><td>0                  </td><td>0                  </td><td>3                  </td><td>4                  </td></tr>\n",
       "\t<tr><td>Lincoln Continental</td><td>10.4               </td><td>8                  </td><td>460.0              </td><td>215                </td><td>3.00               </td><td>5.424              </td><td>17.82              </td><td>0                  </td><td>0                  </td><td>3                  </td><td>4                  </td></tr>\n",
       "\t<tr><td>Chrysler Imperial  </td><td>14.7               </td><td>8                  </td><td>440.0              </td><td>230                </td><td>3.23               </td><td>5.345              </td><td>17.42              </td><td>0                  </td><td>0                  </td><td>3                  </td><td>4                  </td></tr>\n",
       "\t<tr><td>Toyota Corona      </td><td>21.5               </td><td>4                  </td><td>120.1              </td><td> 97                </td><td>3.70               </td><td>2.465              </td><td>20.01              </td><td>1                  </td><td>0                  </td><td>3                  </td><td>1                  </td></tr>\n",
       "\t<tr><td>Dodge Challenger   </td><td>15.5               </td><td>8                  </td><td>318.0              </td><td>150                </td><td>2.76               </td><td>3.520              </td><td>16.87              </td><td>0                  </td><td>0                  </td><td>3                  </td><td>2                  </td></tr>\n",
       "\t<tr><td>AMC Javelin        </td><td>15.2               </td><td>8                  </td><td>304.0              </td><td>150                </td><td>3.15               </td><td>3.435              </td><td>17.30              </td><td>0                  </td><td>0                  </td><td>3                  </td><td>2                  </td></tr>\n",
       "\t<tr><td>Camaro Z28         </td><td>13.3               </td><td>8                  </td><td>350.0              </td><td>245                </td><td>3.73               </td><td>3.840              </td><td>15.41              </td><td>0                  </td><td>0                  </td><td>3                  </td><td>4                  </td></tr>\n",
       "\t<tr><td>Pontiac Firebird   </td><td>19.2               </td><td>8                  </td><td>400.0              </td><td>175                </td><td>3.08               </td><td>3.845              </td><td>17.05              </td><td>0                  </td><td>0                  </td><td>3                  </td><td>2                  </td></tr>\n",
       "</tbody>\n",
       "</table>\n"
      ],
      "text/latex": [
       "\\begin{tabular}{r|llllllllllll}\n",
       " car\\_name & mpg & cyl & disp & hp & drat & wt & qsec & vs & am & gear & carb\\\\\n",
       "\\hline\n",
       "\t Hornet 4 Drive      & 21.4                & 6                   & 258.0               & 110                 & 3.08                & 3.215               & 19.44               & 1                   & 0                   & 3                   & 1                  \\\\\n",
       "\t Hornet Sportabout   & 18.7                & 8                   & 360.0               & 175                 & 3.15                & 3.440               & 17.02               & 0                   & 0                   & 3                   & 2                  \\\\\n",
       "\t Valiant             & 18.1                & 6                   & 225.0               & 105                 & 2.76                & 3.460               & 20.22               & 1                   & 0                   & 3                   & 1                  \\\\\n",
       "\t Duster 360          & 14.3                & 8                   & 360.0               & 245                 & 3.21                & 3.570               & 15.84               & 0                   & 0                   & 3                   & 4                  \\\\\n",
       "\t Merc 450SE          & 16.4                & 8                   & 275.8               & 180                 & 3.07                & 4.070               & 17.40               & 0                   & 0                   & 3                   & 3                  \\\\\n",
       "\t Merc 450SL          & 17.3                & 8                   & 275.8               & 180                 & 3.07                & 3.730               & 17.60               & 0                   & 0                   & 3                   & 3                  \\\\\n",
       "\t Merc 450SLC         & 15.2                & 8                   & 275.8               & 180                 & 3.07                & 3.780               & 18.00               & 0                   & 0                   & 3                   & 3                  \\\\\n",
       "\t Cadillac Fleetwood  & 10.4                & 8                   & 472.0               & 205                 & 2.93                & 5.250               & 17.98               & 0                   & 0                   & 3                   & 4                  \\\\\n",
       "\t Lincoln Continental & 10.4                & 8                   & 460.0               & 215                 & 3.00                & 5.424               & 17.82               & 0                   & 0                   & 3                   & 4                  \\\\\n",
       "\t Chrysler Imperial   & 14.7                & 8                   & 440.0               & 230                 & 3.23                & 5.345               & 17.42               & 0                   & 0                   & 3                   & 4                  \\\\\n",
       "\t Toyota Corona       & 21.5                & 4                   & 120.1               &  97                 & 3.70                & 2.465               & 20.01               & 1                   & 0                   & 3                   & 1                  \\\\\n",
       "\t Dodge Challenger    & 15.5                & 8                   & 318.0               & 150                 & 2.76                & 3.520               & 16.87               & 0                   & 0                   & 3                   & 2                  \\\\\n",
       "\t AMC Javelin         & 15.2                & 8                   & 304.0               & 150                 & 3.15                & 3.435               & 17.30               & 0                   & 0                   & 3                   & 2                  \\\\\n",
       "\t Camaro Z28          & 13.3                & 8                   & 350.0               & 245                 & 3.73                & 3.840               & 15.41               & 0                   & 0                   & 3                   & 4                  \\\\\n",
       "\t Pontiac Firebird    & 19.2                & 8                   & 400.0               & 175                 & 3.08                & 3.845               & 17.05               & 0                   & 0                   & 3                   & 2                  \\\\\n",
       "\\end{tabular}\n"
      ],
      "text/markdown": [
       "\n",
       "| car_name | mpg | cyl | disp | hp | drat | wt | qsec | vs | am | gear | carb |\n",
       "|---|---|---|---|---|---|---|---|---|---|---|---|\n",
       "| Hornet 4 Drive      | 21.4                | 6                   | 258.0               | 110                 | 3.08                | 3.215               | 19.44               | 1                   | 0                   | 3                   | 1                   |\n",
       "| Hornet Sportabout   | 18.7                | 8                   | 360.0               | 175                 | 3.15                | 3.440               | 17.02               | 0                   | 0                   | 3                   | 2                   |\n",
       "| Valiant             | 18.1                | 6                   | 225.0               | 105                 | 2.76                | 3.460               | 20.22               | 1                   | 0                   | 3                   | 1                   |\n",
       "| Duster 360          | 14.3                | 8                   | 360.0               | 245                 | 3.21                | 3.570               | 15.84               | 0                   | 0                   | 3                   | 4                   |\n",
       "| Merc 450SE          | 16.4                | 8                   | 275.8               | 180                 | 3.07                | 4.070               | 17.40               | 0                   | 0                   | 3                   | 3                   |\n",
       "| Merc 450SL          | 17.3                | 8                   | 275.8               | 180                 | 3.07                | 3.730               | 17.60               | 0                   | 0                   | 3                   | 3                   |\n",
       "| Merc 450SLC         | 15.2                | 8                   | 275.8               | 180                 | 3.07                | 3.780               | 18.00               | 0                   | 0                   | 3                   | 3                   |\n",
       "| Cadillac Fleetwood  | 10.4                | 8                   | 472.0               | 205                 | 2.93                | 5.250               | 17.98               | 0                   | 0                   | 3                   | 4                   |\n",
       "| Lincoln Continental | 10.4                | 8                   | 460.0               | 215                 | 3.00                | 5.424               | 17.82               | 0                   | 0                   | 3                   | 4                   |\n",
       "| Chrysler Imperial   | 14.7                | 8                   | 440.0               | 230                 | 3.23                | 5.345               | 17.42               | 0                   | 0                   | 3                   | 4                   |\n",
       "| Toyota Corona       | 21.5                | 4                   | 120.1               |  97                 | 3.70                | 2.465               | 20.01               | 1                   | 0                   | 3                   | 1                   |\n",
       "| Dodge Challenger    | 15.5                | 8                   | 318.0               | 150                 | 2.76                | 3.520               | 16.87               | 0                   | 0                   | 3                   | 2                   |\n",
       "| AMC Javelin         | 15.2                | 8                   | 304.0               | 150                 | 3.15                | 3.435               | 17.30               | 0                   | 0                   | 3                   | 2                   |\n",
       "| Camaro Z28          | 13.3                | 8                   | 350.0               | 245                 | 3.73                | 3.840               | 15.41               | 0                   | 0                   | 3                   | 4                   |\n",
       "| Pontiac Firebird    | 19.2                | 8                   | 400.0               | 175                 | 3.08                | 3.845               | 17.05               | 0                   | 0                   | 3                   | 2                   |\n",
       "\n"
      ],
      "text/plain": [
       "   car_name            mpg  cyl disp  hp  drat wt    qsec  vs am gear carb\n",
       "1  Hornet 4 Drive      21.4 6   258.0 110 3.08 3.215 19.44 1  0  3    1   \n",
       "2  Hornet Sportabout   18.7 8   360.0 175 3.15 3.440 17.02 0  0  3    2   \n",
       "3  Valiant             18.1 6   225.0 105 2.76 3.460 20.22 1  0  3    1   \n",
       "4  Duster 360          14.3 8   360.0 245 3.21 3.570 15.84 0  0  3    4   \n",
       "5  Merc 450SE          16.4 8   275.8 180 3.07 4.070 17.40 0  0  3    3   \n",
       "6  Merc 450SL          17.3 8   275.8 180 3.07 3.730 17.60 0  0  3    3   \n",
       "7  Merc 450SLC         15.2 8   275.8 180 3.07 3.780 18.00 0  0  3    3   \n",
       "8  Cadillac Fleetwood  10.4 8   472.0 205 2.93 5.250 17.98 0  0  3    4   \n",
       "9  Lincoln Continental 10.4 8   460.0 215 3.00 5.424 17.82 0  0  3    4   \n",
       "10 Chrysler Imperial   14.7 8   440.0 230 3.23 5.345 17.42 0  0  3    4   \n",
       "11 Toyota Corona       21.5 4   120.1  97 3.70 2.465 20.01 1  0  3    1   \n",
       "12 Dodge Challenger    15.5 8   318.0 150 2.76 3.520 16.87 0  0  3    2   \n",
       "13 AMC Javelin         15.2 8   304.0 150 3.15 3.435 17.30 0  0  3    2   \n",
       "14 Camaro Z28          13.3 8   350.0 245 3.73 3.840 15.41 0  0  3    4   \n",
       "15 Pontiac Firebird    19.2 8   400.0 175 3.08 3.845 17.05 0  0  3    2   "
      ]
     },
     "metadata": {},
     "output_type": "display_data"
    }
   ],
   "source": [
    "tbl_mtcars %>%\n",
    "    filter(!!sym(\"gear\") == 3)"
   ]
  },
  {
   "cell_type": "code",
   "execution_count": 56,
   "metadata": {},
   "outputs": [
    {
     "data": {
      "text/html": [
       "<table>\n",
       "<thead><tr><th scope=col>car_name</th><th scope=col>mpg</th><th scope=col>cyl</th><th scope=col>disp</th><th scope=col>hp</th><th scope=col>drat</th><th scope=col>wt</th><th scope=col>qsec</th><th scope=col>vs</th><th scope=col>am</th><th scope=col>gear</th><th scope=col>carb</th></tr></thead>\n",
       "<tbody>\n",
       "\t<tr><td>Porsche 914-2</td><td>26.0         </td><td>4            </td><td>120.3        </td><td> 91          </td><td>4.43         </td><td>2.140        </td><td>16.7         </td><td>0            </td><td>1            </td><td>5            </td><td>2            </td></tr>\n",
       "\t<tr><td>Lotus Europa </td><td>30.4         </td><td>4            </td><td> 95.1        </td><td>113          </td><td>3.77         </td><td>1.513        </td><td>16.9         </td><td>1            </td><td>1            </td><td>5            </td><td>2            </td></tr>\n",
       "</tbody>\n",
       "</table>\n"
      ],
      "text/latex": [
       "\\begin{tabular}{r|llllllllllll}\n",
       " car\\_name & mpg & cyl & disp & hp & drat & wt & qsec & vs & am & gear & carb\\\\\n",
       "\\hline\n",
       "\t Porsche 914-2 & 26.0          & 4             & 120.3         &  91           & 4.43          & 2.140         & 16.7          & 0             & 1             & 5             & 2            \\\\\n",
       "\t Lotus Europa  & 30.4          & 4             &  95.1         & 113           & 3.77          & 1.513         & 16.9          & 1             & 1             & 5             & 2            \\\\\n",
       "\\end{tabular}\n"
      ],
      "text/markdown": [
       "\n",
       "| car_name | mpg | cyl | disp | hp | drat | wt | qsec | vs | am | gear | carb |\n",
       "|---|---|---|---|---|---|---|---|---|---|---|---|\n",
       "| Porsche 914-2 | 26.0          | 4             | 120.3         |  91           | 4.43          | 2.140         | 16.7          | 0             | 1             | 5             | 2             |\n",
       "| Lotus Europa  | 30.4          | 4             |  95.1         | 113           | 3.77          | 1.513         | 16.9          | 1             | 1             | 5             | 2             |\n",
       "\n"
      ],
      "text/plain": [
       "  car_name      mpg  cyl disp  hp  drat wt    qsec vs am gear carb\n",
       "1 Porsche 914-2 26.0 4   120.3  91 4.43 2.140 16.7 0  1  5    2   \n",
       "2 Lotus Europa  30.4 4    95.1 113 3.77 1.513 16.9 1  1  5    2   "
      ]
     },
     "metadata": {},
     "output_type": "display_data"
    }
   ],
   "source": [
    "tbl_mtcars %>%\n",
    "    filter(!!sym(\"cyl\") < !!sym(\"gear\"))"
   ]
  },
  {
   "cell_type": "code",
   "execution_count": 57,
   "metadata": {},
   "outputs": [
    {
     "name": "stdout",
     "output_type": "stream",
     "text": [
      "# A tibble: 32 x 4\n",
      "   car_name            cyl    hp  gear\n",
      "   <chr>             <dbl> <dbl> <dbl>\n",
      " 1 Mazda RX4             6   110     4\n",
      " 2 Mazda RX4 Wag         6   110     4\n",
      " 3 Datsun 710            4    93     4\n",
      " 4 Hornet 4 Drive        6   110     3\n",
      " 5 Hornet Sportabout     8   175     3\n",
      " 6 Valiant               6   105     3\n",
      " 7 Duster 360            8   245     3\n",
      " 8 Merc 240D             4    62     4\n",
      " 9 Merc 230              4    95     4\n",
      "10 Merc 280              6   123     4\n",
      "# … with 22 more rows\n"
     ]
    }
   ],
   "source": [
    "tbl_mtcars %>%\n",
    "    select(car_name, cyl, hp, \"gear\") %>%\n",
    "    print()"
   ]
  },
  {
   "cell_type": "code",
   "execution_count": 58,
   "metadata": {},
   "outputs": [
    {
     "data": {
      "text/html": [
       "<ol class=list-inline>\n",
       "\t<li>'Hornet Sportabout'</li>\n",
       "\t<li>'Duster 360'</li>\n",
       "\t<li>'Merc 450SE'</li>\n",
       "\t<li>'Merc 450SL'</li>\n",
       "\t<li>'Merc 450SLC'</li>\n",
       "\t<li>'Cadillac Fleetwood'</li>\n",
       "\t<li>'Lincoln Continental'</li>\n",
       "\t<li>'Chrysler Imperial'</li>\n",
       "\t<li>'Dodge Challenger'</li>\n",
       "\t<li>'AMC Javelin'</li>\n",
       "\t<li>'Camaro Z28'</li>\n",
       "\t<li>'Pontiac Firebird'</li>\n",
       "\t<li>'Ford Pantera L'</li>\n",
       "\t<li>'Maserati Bora'</li>\n",
       "</ol>\n"
      ],
      "text/latex": [
       "\\begin{enumerate*}\n",
       "\\item 'Hornet Sportabout'\n",
       "\\item 'Duster 360'\n",
       "\\item 'Merc 450SE'\n",
       "\\item 'Merc 450SL'\n",
       "\\item 'Merc 450SLC'\n",
       "\\item 'Cadillac Fleetwood'\n",
       "\\item 'Lincoln Continental'\n",
       "\\item 'Chrysler Imperial'\n",
       "\\item 'Dodge Challenger'\n",
       "\\item 'AMC Javelin'\n",
       "\\item 'Camaro Z28'\n",
       "\\item 'Pontiac Firebird'\n",
       "\\item 'Ford Pantera L'\n",
       "\\item 'Maserati Bora'\n",
       "\\end{enumerate*}\n"
      ],
      "text/markdown": [
       "1. 'Hornet Sportabout'\n",
       "2. 'Duster 360'\n",
       "3. 'Merc 450SE'\n",
       "4. 'Merc 450SL'\n",
       "5. 'Merc 450SLC'\n",
       "6. 'Cadillac Fleetwood'\n",
       "7. 'Lincoln Continental'\n",
       "8. 'Chrysler Imperial'\n",
       "9. 'Dodge Challenger'\n",
       "10. 'AMC Javelin'\n",
       "11. 'Camaro Z28'\n",
       "12. 'Pontiac Firebird'\n",
       "13. 'Ford Pantera L'\n",
       "14. 'Maserati Bora'\n",
       "\n",
       "\n"
      ],
      "text/plain": [
       " [1] \"Hornet Sportabout\"   \"Duster 360\"          \"Merc 450SE\"         \n",
       " [4] \"Merc 450SL\"          \"Merc 450SLC\"         \"Cadillac Fleetwood\" \n",
       " [7] \"Lincoln Continental\" \"Chrysler Imperial\"   \"Dodge Challenger\"   \n",
       "[10] \"AMC Javelin\"         \"Camaro Z28\"          \"Pontiac Firebird\"   \n",
       "[13] \"Ford Pantera L\"      \"Maserati Bora\"      "
      ]
     },
     "metadata": {},
     "output_type": "display_data"
    }
   ],
   "source": [
    "tbl_mtcars %>%\n",
    "    filter(cyl == 8) %>% \n",
    "    pull(car_name)"
   ]
  },
  {
   "cell_type": "code",
   "execution_count": 59,
   "metadata": {},
   "outputs": [
    {
     "name": "stdout",
     "output_type": "stream",
     "text": [
      " [1] \"Hornet Sportabout\"   \"Duster 360\"          \"Merc 450SE\"         \n",
      " [4] \"Merc 450SL\"          \"Merc 450SLC\"         \"Cadillac Fleetwood\" \n",
      " [7] \"Lincoln Continental\" \"Chrysler Imperial\"   \"Dodge Challenger\"   \n",
      "[10] \"AMC Javelin\"         \"Camaro Z28\"          \"Pontiac Firebird\"   \n",
      "[13] \"Ford Pantera L\"      \"Maserati Bora\"      \n"
     ]
    }
   ],
   "source": [
    "vec_cyl_8 <- tbl_mtcars %>%\n",
    "    filter(cyl == 8) %>% \n",
    "    pull(car_name)\n",
    "print(vec_cyl_8)"
   ]
  },
  {
   "cell_type": "markdown",
   "metadata": {},
   "source": [
    "### Mutate"
   ]
  },
  {
   "cell_type": "code",
   "execution_count": 60,
   "metadata": {},
   "outputs": [
    {
     "data": {
      "text/html": [
       "<table>\n",
       "<thead><tr><th scope=col>car_name</th><th scope=col>mpg</th><th scope=col>cyl</th><th scope=col>disp</th><th scope=col>hp</th><th scope=col>drat</th><th scope=col>wt</th><th scope=col>qsec</th><th scope=col>vs</th><th scope=col>am</th><th scope=col>gear</th><th scope=col>carb</th><th scope=col>hp_cyl</th><th scope=col>gpm100</th></tr></thead>\n",
       "<tbody>\n",
       "\t<tr><td>Mazda RX4          </td><td>21.0               </td><td>6                  </td><td>160.0              </td><td>110                </td><td>3.90               </td><td>2.620              </td><td>16.46              </td><td>0                  </td><td>1                  </td><td>4                  </td><td>4                  </td><td>18.33333           </td><td>4.761905           </td></tr>\n",
       "\t<tr><td>Mazda RX4 Wag      </td><td>21.0               </td><td>6                  </td><td>160.0              </td><td>110                </td><td>3.90               </td><td>2.875              </td><td>17.02              </td><td>0                  </td><td>1                  </td><td>4                  </td><td>4                  </td><td>18.33333           </td><td>4.761905           </td></tr>\n",
       "\t<tr><td>Datsun 710         </td><td>22.8               </td><td>4                  </td><td>108.0              </td><td> 93                </td><td>3.85               </td><td>2.320              </td><td>18.61              </td><td>1                  </td><td>1                  </td><td>4                  </td><td>1                  </td><td>23.25000           </td><td>4.385965           </td></tr>\n",
       "\t<tr><td>Hornet 4 Drive     </td><td>21.4               </td><td>6                  </td><td>258.0              </td><td>110                </td><td>3.08               </td><td>3.215              </td><td>19.44              </td><td>1                  </td><td>0                  </td><td>3                  </td><td>1                  </td><td>18.33333           </td><td>4.672897           </td></tr>\n",
       "\t<tr><td>Hornet Sportabout  </td><td>18.7               </td><td>8                  </td><td>360.0              </td><td>175                </td><td>3.15               </td><td>3.440              </td><td>17.02              </td><td>0                  </td><td>0                  </td><td>3                  </td><td>2                  </td><td>21.87500           </td><td>5.347594           </td></tr>\n",
       "\t<tr><td>Valiant            </td><td>18.1               </td><td>6                  </td><td>225.0              </td><td>105                </td><td>2.76               </td><td>3.460              </td><td>20.22              </td><td>1                  </td><td>0                  </td><td>3                  </td><td>1                  </td><td>17.50000           </td><td>5.524862           </td></tr>\n",
       "\t<tr><td>Duster 360         </td><td>14.3               </td><td>8                  </td><td>360.0              </td><td>245                </td><td>3.21               </td><td>3.570              </td><td>15.84              </td><td>0                  </td><td>0                  </td><td>3                  </td><td>4                  </td><td>30.62500           </td><td>6.993007           </td></tr>\n",
       "\t<tr><td>Merc 240D          </td><td>24.4               </td><td>4                  </td><td>146.7              </td><td> 62                </td><td>3.69               </td><td>3.190              </td><td>20.00              </td><td>1                  </td><td>0                  </td><td>4                  </td><td>2                  </td><td>15.50000           </td><td>4.098361           </td></tr>\n",
       "\t<tr><td>Merc 230           </td><td>22.8               </td><td>4                  </td><td>140.8              </td><td> 95                </td><td>3.92               </td><td>3.150              </td><td>22.90              </td><td>1                  </td><td>0                  </td><td>4                  </td><td>2                  </td><td>23.75000           </td><td>4.385965           </td></tr>\n",
       "\t<tr><td>Merc 280           </td><td>19.2               </td><td>6                  </td><td>167.6              </td><td>123                </td><td>3.92               </td><td>3.440              </td><td>18.30              </td><td>1                  </td><td>0                  </td><td>4                  </td><td>4                  </td><td>20.50000           </td><td>5.208333           </td></tr>\n",
       "\t<tr><td>Merc 280C          </td><td>17.8               </td><td>6                  </td><td>167.6              </td><td>123                </td><td>3.92               </td><td>3.440              </td><td>18.90              </td><td>1                  </td><td>0                  </td><td>4                  </td><td>4                  </td><td>20.50000           </td><td>5.617978           </td></tr>\n",
       "\t<tr><td>Merc 450SE         </td><td>16.4               </td><td>8                  </td><td>275.8              </td><td>180                </td><td>3.07               </td><td>4.070              </td><td>17.40              </td><td>0                  </td><td>0                  </td><td>3                  </td><td>3                  </td><td>22.50000           </td><td>6.097561           </td></tr>\n",
       "\t<tr><td>Merc 450SL         </td><td>17.3               </td><td>8                  </td><td>275.8              </td><td>180                </td><td>3.07               </td><td>3.730              </td><td>17.60              </td><td>0                  </td><td>0                  </td><td>3                  </td><td>3                  </td><td>22.50000           </td><td>5.780347           </td></tr>\n",
       "\t<tr><td>Merc 450SLC        </td><td>15.2               </td><td>8                  </td><td>275.8              </td><td>180                </td><td>3.07               </td><td>3.780              </td><td>18.00              </td><td>0                  </td><td>0                  </td><td>3                  </td><td>3                  </td><td>22.50000           </td><td>6.578947           </td></tr>\n",
       "\t<tr><td>Cadillac Fleetwood </td><td>10.4               </td><td>8                  </td><td>472.0              </td><td>205                </td><td>2.93               </td><td>5.250              </td><td>17.98              </td><td>0                  </td><td>0                  </td><td>3                  </td><td>4                  </td><td>25.62500           </td><td>9.615385           </td></tr>\n",
       "\t<tr><td>Lincoln Continental</td><td>10.4               </td><td>8                  </td><td>460.0              </td><td>215                </td><td>3.00               </td><td>5.424              </td><td>17.82              </td><td>0                  </td><td>0                  </td><td>3                  </td><td>4                  </td><td>26.87500           </td><td>9.615385           </td></tr>\n",
       "\t<tr><td>Chrysler Imperial  </td><td>14.7               </td><td>8                  </td><td>440.0              </td><td>230                </td><td>3.23               </td><td>5.345              </td><td>17.42              </td><td>0                  </td><td>0                  </td><td>3                  </td><td>4                  </td><td>28.75000           </td><td>6.802721           </td></tr>\n",
       "\t<tr><td>Fiat 128           </td><td>32.4               </td><td>4                  </td><td> 78.7              </td><td> 66                </td><td>4.08               </td><td>2.200              </td><td>19.47              </td><td>1                  </td><td>1                  </td><td>4                  </td><td>1                  </td><td>16.50000           </td><td>3.086420           </td></tr>\n",
       "\t<tr><td>Honda Civic        </td><td>30.4               </td><td>4                  </td><td> 75.7              </td><td> 52                </td><td>4.93               </td><td>1.615              </td><td>18.52              </td><td>1                  </td><td>1                  </td><td>4                  </td><td>2                  </td><td>13.00000           </td><td>3.289474           </td></tr>\n",
       "\t<tr><td>Toyota Corolla     </td><td>33.9               </td><td>4                  </td><td> 71.1              </td><td> 65                </td><td>4.22               </td><td>1.835              </td><td>19.90              </td><td>1                  </td><td>1                  </td><td>4                  </td><td>1                  </td><td>16.25000           </td><td>2.949853           </td></tr>\n",
       "\t<tr><td>Toyota Corona      </td><td>21.5               </td><td>4                  </td><td>120.1              </td><td> 97                </td><td>3.70               </td><td>2.465              </td><td>20.01              </td><td>1                  </td><td>0                  </td><td>3                  </td><td>1                  </td><td>24.25000           </td><td>4.651163           </td></tr>\n",
       "\t<tr><td>Dodge Challenger   </td><td>15.5               </td><td>8                  </td><td>318.0              </td><td>150                </td><td>2.76               </td><td>3.520              </td><td>16.87              </td><td>0                  </td><td>0                  </td><td>3                  </td><td>2                  </td><td>18.75000           </td><td>6.451613           </td></tr>\n",
       "\t<tr><td>AMC Javelin        </td><td>15.2               </td><td>8                  </td><td>304.0              </td><td>150                </td><td>3.15               </td><td>3.435              </td><td>17.30              </td><td>0                  </td><td>0                  </td><td>3                  </td><td>2                  </td><td>18.75000           </td><td>6.578947           </td></tr>\n",
       "\t<tr><td>Camaro Z28         </td><td>13.3               </td><td>8                  </td><td>350.0              </td><td>245                </td><td>3.73               </td><td>3.840              </td><td>15.41              </td><td>0                  </td><td>0                  </td><td>3                  </td><td>4                  </td><td>30.62500           </td><td>7.518797           </td></tr>\n",
       "\t<tr><td>Pontiac Firebird   </td><td>19.2               </td><td>8                  </td><td>400.0              </td><td>175                </td><td>3.08               </td><td>3.845              </td><td>17.05              </td><td>0                  </td><td>0                  </td><td>3                  </td><td>2                  </td><td>21.87500           </td><td>5.208333           </td></tr>\n",
       "\t<tr><td>Fiat X1-9          </td><td>27.3               </td><td>4                  </td><td> 79.0              </td><td> 66                </td><td>4.08               </td><td>1.935              </td><td>18.90              </td><td>1                  </td><td>1                  </td><td>4                  </td><td>1                  </td><td>16.50000           </td><td>3.663004           </td></tr>\n",
       "\t<tr><td>Porsche 914-2      </td><td>26.0               </td><td>4                  </td><td>120.3              </td><td> 91                </td><td>4.43               </td><td>2.140              </td><td>16.70              </td><td>0                  </td><td>1                  </td><td>5                  </td><td>2                  </td><td>22.75000           </td><td>3.846154           </td></tr>\n",
       "\t<tr><td>Lotus Europa       </td><td>30.4               </td><td>4                  </td><td> 95.1              </td><td>113                </td><td>3.77               </td><td>1.513              </td><td>16.90              </td><td>1                  </td><td>1                  </td><td>5                  </td><td>2                  </td><td>28.25000           </td><td>3.289474           </td></tr>\n",
       "\t<tr><td>Ford Pantera L     </td><td>15.8               </td><td>8                  </td><td>351.0              </td><td>264                </td><td>4.22               </td><td>3.170              </td><td>14.50              </td><td>0                  </td><td>1                  </td><td>5                  </td><td>4                  </td><td>33.00000           </td><td>6.329114           </td></tr>\n",
       "\t<tr><td>Ferrari Dino       </td><td>19.7               </td><td>6                  </td><td>145.0              </td><td>175                </td><td>3.62               </td><td>2.770              </td><td>15.50              </td><td>0                  </td><td>1                  </td><td>5                  </td><td>6                  </td><td>29.16667           </td><td>5.076142           </td></tr>\n",
       "\t<tr><td>Maserati Bora      </td><td>15.0               </td><td>8                  </td><td>301.0              </td><td>335                </td><td>3.54               </td><td>3.570              </td><td>14.60              </td><td>0                  </td><td>1                  </td><td>5                  </td><td>8                  </td><td>41.87500           </td><td>6.666667           </td></tr>\n",
       "\t<tr><td>Volvo 142E         </td><td>21.4               </td><td>4                  </td><td>121.0              </td><td>109                </td><td>4.11               </td><td>2.780              </td><td>18.60              </td><td>1                  </td><td>1                  </td><td>4                  </td><td>2                  </td><td>27.25000           </td><td>4.672897           </td></tr>\n",
       "</tbody>\n",
       "</table>\n"
      ],
      "text/latex": [
       "\\begin{tabular}{r|llllllllllllll}\n",
       " car\\_name & mpg & cyl & disp & hp & drat & wt & qsec & vs & am & gear & carb & hp\\_cyl & gpm100\\\\\n",
       "\\hline\n",
       "\t Mazda RX4           & 21.0                & 6                   & 160.0               & 110                 & 3.90                & 2.620               & 16.46               & 0                   & 1                   & 4                   & 4                   & 18.33333            & 4.761905           \\\\\n",
       "\t Mazda RX4 Wag       & 21.0                & 6                   & 160.0               & 110                 & 3.90                & 2.875               & 17.02               & 0                   & 1                   & 4                   & 4                   & 18.33333            & 4.761905           \\\\\n",
       "\t Datsun 710          & 22.8                & 4                   & 108.0               &  93                 & 3.85                & 2.320               & 18.61               & 1                   & 1                   & 4                   & 1                   & 23.25000            & 4.385965           \\\\\n",
       "\t Hornet 4 Drive      & 21.4                & 6                   & 258.0               & 110                 & 3.08                & 3.215               & 19.44               & 1                   & 0                   & 3                   & 1                   & 18.33333            & 4.672897           \\\\\n",
       "\t Hornet Sportabout   & 18.7                & 8                   & 360.0               & 175                 & 3.15                & 3.440               & 17.02               & 0                   & 0                   & 3                   & 2                   & 21.87500            & 5.347594           \\\\\n",
       "\t Valiant             & 18.1                & 6                   & 225.0               & 105                 & 2.76                & 3.460               & 20.22               & 1                   & 0                   & 3                   & 1                   & 17.50000            & 5.524862           \\\\\n",
       "\t Duster 360          & 14.3                & 8                   & 360.0               & 245                 & 3.21                & 3.570               & 15.84               & 0                   & 0                   & 3                   & 4                   & 30.62500            & 6.993007           \\\\\n",
       "\t Merc 240D           & 24.4                & 4                   & 146.7               &  62                 & 3.69                & 3.190               & 20.00               & 1                   & 0                   & 4                   & 2                   & 15.50000            & 4.098361           \\\\\n",
       "\t Merc 230            & 22.8                & 4                   & 140.8               &  95                 & 3.92                & 3.150               & 22.90               & 1                   & 0                   & 4                   & 2                   & 23.75000            & 4.385965           \\\\\n",
       "\t Merc 280            & 19.2                & 6                   & 167.6               & 123                 & 3.92                & 3.440               & 18.30               & 1                   & 0                   & 4                   & 4                   & 20.50000            & 5.208333           \\\\\n",
       "\t Merc 280C           & 17.8                & 6                   & 167.6               & 123                 & 3.92                & 3.440               & 18.90               & 1                   & 0                   & 4                   & 4                   & 20.50000            & 5.617978           \\\\\n",
       "\t Merc 450SE          & 16.4                & 8                   & 275.8               & 180                 & 3.07                & 4.070               & 17.40               & 0                   & 0                   & 3                   & 3                   & 22.50000            & 6.097561           \\\\\n",
       "\t Merc 450SL          & 17.3                & 8                   & 275.8               & 180                 & 3.07                & 3.730               & 17.60               & 0                   & 0                   & 3                   & 3                   & 22.50000            & 5.780347           \\\\\n",
       "\t Merc 450SLC         & 15.2                & 8                   & 275.8               & 180                 & 3.07                & 3.780               & 18.00               & 0                   & 0                   & 3                   & 3                   & 22.50000            & 6.578947           \\\\\n",
       "\t Cadillac Fleetwood  & 10.4                & 8                   & 472.0               & 205                 & 2.93                & 5.250               & 17.98               & 0                   & 0                   & 3                   & 4                   & 25.62500            & 9.615385           \\\\\n",
       "\t Lincoln Continental & 10.4                & 8                   & 460.0               & 215                 & 3.00                & 5.424               & 17.82               & 0                   & 0                   & 3                   & 4                   & 26.87500            & 9.615385           \\\\\n",
       "\t Chrysler Imperial   & 14.7                & 8                   & 440.0               & 230                 & 3.23                & 5.345               & 17.42               & 0                   & 0                   & 3                   & 4                   & 28.75000            & 6.802721           \\\\\n",
       "\t Fiat 128            & 32.4                & 4                   &  78.7               &  66                 & 4.08                & 2.200               & 19.47               & 1                   & 1                   & 4                   & 1                   & 16.50000            & 3.086420           \\\\\n",
       "\t Honda Civic         & 30.4                & 4                   &  75.7               &  52                 & 4.93                & 1.615               & 18.52               & 1                   & 1                   & 4                   & 2                   & 13.00000            & 3.289474           \\\\\n",
       "\t Toyota Corolla      & 33.9                & 4                   &  71.1               &  65                 & 4.22                & 1.835               & 19.90               & 1                   & 1                   & 4                   & 1                   & 16.25000            & 2.949853           \\\\\n",
       "\t Toyota Corona       & 21.5                & 4                   & 120.1               &  97                 & 3.70                & 2.465               & 20.01               & 1                   & 0                   & 3                   & 1                   & 24.25000            & 4.651163           \\\\\n",
       "\t Dodge Challenger    & 15.5                & 8                   & 318.0               & 150                 & 2.76                & 3.520               & 16.87               & 0                   & 0                   & 3                   & 2                   & 18.75000            & 6.451613           \\\\\n",
       "\t AMC Javelin         & 15.2                & 8                   & 304.0               & 150                 & 3.15                & 3.435               & 17.30               & 0                   & 0                   & 3                   & 2                   & 18.75000            & 6.578947           \\\\\n",
       "\t Camaro Z28          & 13.3                & 8                   & 350.0               & 245                 & 3.73                & 3.840               & 15.41               & 0                   & 0                   & 3                   & 4                   & 30.62500            & 7.518797           \\\\\n",
       "\t Pontiac Firebird    & 19.2                & 8                   & 400.0               & 175                 & 3.08                & 3.845               & 17.05               & 0                   & 0                   & 3                   & 2                   & 21.87500            & 5.208333           \\\\\n",
       "\t Fiat X1-9           & 27.3                & 4                   &  79.0               &  66                 & 4.08                & 1.935               & 18.90               & 1                   & 1                   & 4                   & 1                   & 16.50000            & 3.663004           \\\\\n",
       "\t Porsche 914-2       & 26.0                & 4                   & 120.3               &  91                 & 4.43                & 2.140               & 16.70               & 0                   & 1                   & 5                   & 2                   & 22.75000            & 3.846154           \\\\\n",
       "\t Lotus Europa        & 30.4                & 4                   &  95.1               & 113                 & 3.77                & 1.513               & 16.90               & 1                   & 1                   & 5                   & 2                   & 28.25000            & 3.289474           \\\\\n",
       "\t Ford Pantera L      & 15.8                & 8                   & 351.0               & 264                 & 4.22                & 3.170               & 14.50               & 0                   & 1                   & 5                   & 4                   & 33.00000            & 6.329114           \\\\\n",
       "\t Ferrari Dino        & 19.7                & 6                   & 145.0               & 175                 & 3.62                & 2.770               & 15.50               & 0                   & 1                   & 5                   & 6                   & 29.16667            & 5.076142           \\\\\n",
       "\t Maserati Bora       & 15.0                & 8                   & 301.0               & 335                 & 3.54                & 3.570               & 14.60               & 0                   & 1                   & 5                   & 8                   & 41.87500            & 6.666667           \\\\\n",
       "\t Volvo 142E          & 21.4                & 4                   & 121.0               & 109                 & 4.11                & 2.780               & 18.60               & 1                   & 1                   & 4                   & 2                   & 27.25000            & 4.672897           \\\\\n",
       "\\end{tabular}\n"
      ],
      "text/markdown": [
       "\n",
       "| car_name | mpg | cyl | disp | hp | drat | wt | qsec | vs | am | gear | carb | hp_cyl | gpm100 |\n",
       "|---|---|---|---|---|---|---|---|---|---|---|---|---|---|\n",
       "| Mazda RX4           | 21.0                | 6                   | 160.0               | 110                 | 3.90                | 2.620               | 16.46               | 0                   | 1                   | 4                   | 4                   | 18.33333            | 4.761905            |\n",
       "| Mazda RX4 Wag       | 21.0                | 6                   | 160.0               | 110                 | 3.90                | 2.875               | 17.02               | 0                   | 1                   | 4                   | 4                   | 18.33333            | 4.761905            |\n",
       "| Datsun 710          | 22.8                | 4                   | 108.0               |  93                 | 3.85                | 2.320               | 18.61               | 1                   | 1                   | 4                   | 1                   | 23.25000            | 4.385965            |\n",
       "| Hornet 4 Drive      | 21.4                | 6                   | 258.0               | 110                 | 3.08                | 3.215               | 19.44               | 1                   | 0                   | 3                   | 1                   | 18.33333            | 4.672897            |\n",
       "| Hornet Sportabout   | 18.7                | 8                   | 360.0               | 175                 | 3.15                | 3.440               | 17.02               | 0                   | 0                   | 3                   | 2                   | 21.87500            | 5.347594            |\n",
       "| Valiant             | 18.1                | 6                   | 225.0               | 105                 | 2.76                | 3.460               | 20.22               | 1                   | 0                   | 3                   | 1                   | 17.50000            | 5.524862            |\n",
       "| Duster 360          | 14.3                | 8                   | 360.0               | 245                 | 3.21                | 3.570               | 15.84               | 0                   | 0                   | 3                   | 4                   | 30.62500            | 6.993007            |\n",
       "| Merc 240D           | 24.4                | 4                   | 146.7               |  62                 | 3.69                | 3.190               | 20.00               | 1                   | 0                   | 4                   | 2                   | 15.50000            | 4.098361            |\n",
       "| Merc 230            | 22.8                | 4                   | 140.8               |  95                 | 3.92                | 3.150               | 22.90               | 1                   | 0                   | 4                   | 2                   | 23.75000            | 4.385965            |\n",
       "| Merc 280            | 19.2                | 6                   | 167.6               | 123                 | 3.92                | 3.440               | 18.30               | 1                   | 0                   | 4                   | 4                   | 20.50000            | 5.208333            |\n",
       "| Merc 280C           | 17.8                | 6                   | 167.6               | 123                 | 3.92                | 3.440               | 18.90               | 1                   | 0                   | 4                   | 4                   | 20.50000            | 5.617978            |\n",
       "| Merc 450SE          | 16.4                | 8                   | 275.8               | 180                 | 3.07                | 4.070               | 17.40               | 0                   | 0                   | 3                   | 3                   | 22.50000            | 6.097561            |\n",
       "| Merc 450SL          | 17.3                | 8                   | 275.8               | 180                 | 3.07                | 3.730               | 17.60               | 0                   | 0                   | 3                   | 3                   | 22.50000            | 5.780347            |\n",
       "| Merc 450SLC         | 15.2                | 8                   | 275.8               | 180                 | 3.07                | 3.780               | 18.00               | 0                   | 0                   | 3                   | 3                   | 22.50000            | 6.578947            |\n",
       "| Cadillac Fleetwood  | 10.4                | 8                   | 472.0               | 205                 | 2.93                | 5.250               | 17.98               | 0                   | 0                   | 3                   | 4                   | 25.62500            | 9.615385            |\n",
       "| Lincoln Continental | 10.4                | 8                   | 460.0               | 215                 | 3.00                | 5.424               | 17.82               | 0                   | 0                   | 3                   | 4                   | 26.87500            | 9.615385            |\n",
       "| Chrysler Imperial   | 14.7                | 8                   | 440.0               | 230                 | 3.23                | 5.345               | 17.42               | 0                   | 0                   | 3                   | 4                   | 28.75000            | 6.802721            |\n",
       "| Fiat 128            | 32.4                | 4                   |  78.7               |  66                 | 4.08                | 2.200               | 19.47               | 1                   | 1                   | 4                   | 1                   | 16.50000            | 3.086420            |\n",
       "| Honda Civic         | 30.4                | 4                   |  75.7               |  52                 | 4.93                | 1.615               | 18.52               | 1                   | 1                   | 4                   | 2                   | 13.00000            | 3.289474            |\n",
       "| Toyota Corolla      | 33.9                | 4                   |  71.1               |  65                 | 4.22                | 1.835               | 19.90               | 1                   | 1                   | 4                   | 1                   | 16.25000            | 2.949853            |\n",
       "| Toyota Corona       | 21.5                | 4                   | 120.1               |  97                 | 3.70                | 2.465               | 20.01               | 1                   | 0                   | 3                   | 1                   | 24.25000            | 4.651163            |\n",
       "| Dodge Challenger    | 15.5                | 8                   | 318.0               | 150                 | 2.76                | 3.520               | 16.87               | 0                   | 0                   | 3                   | 2                   | 18.75000            | 6.451613            |\n",
       "| AMC Javelin         | 15.2                | 8                   | 304.0               | 150                 | 3.15                | 3.435               | 17.30               | 0                   | 0                   | 3                   | 2                   | 18.75000            | 6.578947            |\n",
       "| Camaro Z28          | 13.3                | 8                   | 350.0               | 245                 | 3.73                | 3.840               | 15.41               | 0                   | 0                   | 3                   | 4                   | 30.62500            | 7.518797            |\n",
       "| Pontiac Firebird    | 19.2                | 8                   | 400.0               | 175                 | 3.08                | 3.845               | 17.05               | 0                   | 0                   | 3                   | 2                   | 21.87500            | 5.208333            |\n",
       "| Fiat X1-9           | 27.3                | 4                   |  79.0               |  66                 | 4.08                | 1.935               | 18.90               | 1                   | 1                   | 4                   | 1                   | 16.50000            | 3.663004            |\n",
       "| Porsche 914-2       | 26.0                | 4                   | 120.3               |  91                 | 4.43                | 2.140               | 16.70               | 0                   | 1                   | 5                   | 2                   | 22.75000            | 3.846154            |\n",
       "| Lotus Europa        | 30.4                | 4                   |  95.1               | 113                 | 3.77                | 1.513               | 16.90               | 1                   | 1                   | 5                   | 2                   | 28.25000            | 3.289474            |\n",
       "| Ford Pantera L      | 15.8                | 8                   | 351.0               | 264                 | 4.22                | 3.170               | 14.50               | 0                   | 1                   | 5                   | 4                   | 33.00000            | 6.329114            |\n",
       "| Ferrari Dino        | 19.7                | 6                   | 145.0               | 175                 | 3.62                | 2.770               | 15.50               | 0                   | 1                   | 5                   | 6                   | 29.16667            | 5.076142            |\n",
       "| Maserati Bora       | 15.0                | 8                   | 301.0               | 335                 | 3.54                | 3.570               | 14.60               | 0                   | 1                   | 5                   | 8                   | 41.87500            | 6.666667            |\n",
       "| Volvo 142E          | 21.4                | 4                   | 121.0               | 109                 | 4.11                | 2.780               | 18.60               | 1                   | 1                   | 4                   | 2                   | 27.25000            | 4.672897            |\n",
       "\n"
      ],
      "text/plain": [
       "   car_name            mpg  cyl disp  hp  drat wt    qsec  vs am gear carb\n",
       "1  Mazda RX4           21.0 6   160.0 110 3.90 2.620 16.46 0  1  4    4   \n",
       "2  Mazda RX4 Wag       21.0 6   160.0 110 3.90 2.875 17.02 0  1  4    4   \n",
       "3  Datsun 710          22.8 4   108.0  93 3.85 2.320 18.61 1  1  4    1   \n",
       "4  Hornet 4 Drive      21.4 6   258.0 110 3.08 3.215 19.44 1  0  3    1   \n",
       "5  Hornet Sportabout   18.7 8   360.0 175 3.15 3.440 17.02 0  0  3    2   \n",
       "6  Valiant             18.1 6   225.0 105 2.76 3.460 20.22 1  0  3    1   \n",
       "7  Duster 360          14.3 8   360.0 245 3.21 3.570 15.84 0  0  3    4   \n",
       "8  Merc 240D           24.4 4   146.7  62 3.69 3.190 20.00 1  0  4    2   \n",
       "9  Merc 230            22.8 4   140.8  95 3.92 3.150 22.90 1  0  4    2   \n",
       "10 Merc 280            19.2 6   167.6 123 3.92 3.440 18.30 1  0  4    4   \n",
       "11 Merc 280C           17.8 6   167.6 123 3.92 3.440 18.90 1  0  4    4   \n",
       "12 Merc 450SE          16.4 8   275.8 180 3.07 4.070 17.40 0  0  3    3   \n",
       "13 Merc 450SL          17.3 8   275.8 180 3.07 3.730 17.60 0  0  3    3   \n",
       "14 Merc 450SLC         15.2 8   275.8 180 3.07 3.780 18.00 0  0  3    3   \n",
       "15 Cadillac Fleetwood  10.4 8   472.0 205 2.93 5.250 17.98 0  0  3    4   \n",
       "16 Lincoln Continental 10.4 8   460.0 215 3.00 5.424 17.82 0  0  3    4   \n",
       "17 Chrysler Imperial   14.7 8   440.0 230 3.23 5.345 17.42 0  0  3    4   \n",
       "18 Fiat 128            32.4 4    78.7  66 4.08 2.200 19.47 1  1  4    1   \n",
       "19 Honda Civic         30.4 4    75.7  52 4.93 1.615 18.52 1  1  4    2   \n",
       "20 Toyota Corolla      33.9 4    71.1  65 4.22 1.835 19.90 1  1  4    1   \n",
       "21 Toyota Corona       21.5 4   120.1  97 3.70 2.465 20.01 1  0  3    1   \n",
       "22 Dodge Challenger    15.5 8   318.0 150 2.76 3.520 16.87 0  0  3    2   \n",
       "23 AMC Javelin         15.2 8   304.0 150 3.15 3.435 17.30 0  0  3    2   \n",
       "24 Camaro Z28          13.3 8   350.0 245 3.73 3.840 15.41 0  0  3    4   \n",
       "25 Pontiac Firebird    19.2 8   400.0 175 3.08 3.845 17.05 0  0  3    2   \n",
       "26 Fiat X1-9           27.3 4    79.0  66 4.08 1.935 18.90 1  1  4    1   \n",
       "27 Porsche 914-2       26.0 4   120.3  91 4.43 2.140 16.70 0  1  5    2   \n",
       "28 Lotus Europa        30.4 4    95.1 113 3.77 1.513 16.90 1  1  5    2   \n",
       "29 Ford Pantera L      15.8 8   351.0 264 4.22 3.170 14.50 0  1  5    4   \n",
       "30 Ferrari Dino        19.7 6   145.0 175 3.62 2.770 15.50 0  1  5    6   \n",
       "31 Maserati Bora       15.0 8   301.0 335 3.54 3.570 14.60 0  1  5    8   \n",
       "32 Volvo 142E          21.4 4   121.0 109 4.11 2.780 18.60 1  1  4    2   \n",
       "   hp_cyl   gpm100  \n",
       "1  18.33333 4.761905\n",
       "2  18.33333 4.761905\n",
       "3  23.25000 4.385965\n",
       "4  18.33333 4.672897\n",
       "5  21.87500 5.347594\n",
       "6  17.50000 5.524862\n",
       "7  30.62500 6.993007\n",
       "8  15.50000 4.098361\n",
       "9  23.75000 4.385965\n",
       "10 20.50000 5.208333\n",
       "11 20.50000 5.617978\n",
       "12 22.50000 6.097561\n",
       "13 22.50000 5.780347\n",
       "14 22.50000 6.578947\n",
       "15 25.62500 9.615385\n",
       "16 26.87500 9.615385\n",
       "17 28.75000 6.802721\n",
       "18 16.50000 3.086420\n",
       "19 13.00000 3.289474\n",
       "20 16.25000 2.949853\n",
       "21 24.25000 4.651163\n",
       "22 18.75000 6.451613\n",
       "23 18.75000 6.578947\n",
       "24 30.62500 7.518797\n",
       "25 21.87500 5.208333\n",
       "26 16.50000 3.663004\n",
       "27 22.75000 3.846154\n",
       "28 28.25000 3.289474\n",
       "29 33.00000 6.329114\n",
       "30 29.16667 5.076142\n",
       "31 41.87500 6.666667\n",
       "32 27.25000 4.672897"
      ]
     },
     "metadata": {},
     "output_type": "display_data"
    }
   ],
   "source": [
    "tbl_mtcars <- tbl_mtcars %>%\n",
    "    mutate(hp_cyl = hp/cyl,\n",
    "           gpm100 = 1/mpg*100)\n",
    "tbl_mtcars"
   ]
  },
  {
   "cell_type": "code",
   "execution_count": 61,
   "metadata": {},
   "outputs": [
    {
     "data": {
      "text/html": [
       "<table>\n",
       "<thead><tr><th scope=col>car_name</th><th scope=col>mpg</th><th scope=col>cyl</th><th scope=col>disp</th><th scope=col>hp</th><th scope=col>drat</th><th scope=col>wt</th><th scope=col>qsec</th><th scope=col>vs</th><th scope=col>am</th><th scope=col>gear</th><th scope=col>carb</th><th scope=col>hp_cyl</th><th scope=col>gpm100</th><th scope=col>max1</th><th scope=col>max2</th></tr></thead>\n",
       "<tbody>\n",
       "\t<tr><td>Mazda RX4          </td><td>21.0               </td><td>6                  </td><td>160.0              </td><td>110                </td><td>3.90               </td><td>2.620              </td><td>16.46              </td><td>0                  </td><td>1                  </td><td>4                  </td><td>4                  </td><td>18.33333           </td><td>4.761905           </td><td>8                  </td><td>4                  </td></tr>\n",
       "\t<tr><td>Mazda RX4 Wag      </td><td>21.0               </td><td>6                  </td><td>160.0              </td><td>110                </td><td>3.90               </td><td>2.875              </td><td>17.02              </td><td>0                  </td><td>1                  </td><td>4                  </td><td>4                  </td><td>18.33333           </td><td>4.761905           </td><td>8                  </td><td>4                  </td></tr>\n",
       "\t<tr><td>Datsun 710         </td><td>22.8               </td><td>4                  </td><td>108.0              </td><td> 93                </td><td>3.85               </td><td>2.320              </td><td>18.61              </td><td>1                  </td><td>1                  </td><td>4                  </td><td>1                  </td><td>23.25000           </td><td>4.385965           </td><td>8                  </td><td>4                  </td></tr>\n",
       "\t<tr><td>Hornet 4 Drive     </td><td>21.4               </td><td>6                  </td><td>258.0              </td><td>110                </td><td>3.08               </td><td>3.215              </td><td>19.44              </td><td>1                  </td><td>0                  </td><td>3                  </td><td>1                  </td><td>18.33333           </td><td>4.672897           </td><td>8                  </td><td>3                  </td></tr>\n",
       "\t<tr><td>Hornet Sportabout  </td><td>18.7               </td><td>8                  </td><td>360.0              </td><td>175                </td><td>3.15               </td><td>3.440              </td><td>17.02              </td><td>0                  </td><td>0                  </td><td>3                  </td><td>2                  </td><td>21.87500           </td><td>5.347594           </td><td>8                  </td><td>3                  </td></tr>\n",
       "\t<tr><td>Valiant            </td><td>18.1               </td><td>6                  </td><td>225.0              </td><td>105                </td><td>2.76               </td><td>3.460              </td><td>20.22              </td><td>1                  </td><td>0                  </td><td>3                  </td><td>1                  </td><td>17.50000           </td><td>5.524862           </td><td>8                  </td><td>3                  </td></tr>\n",
       "\t<tr><td>Duster 360         </td><td>14.3               </td><td>8                  </td><td>360.0              </td><td>245                </td><td>3.21               </td><td>3.570              </td><td>15.84              </td><td>0                  </td><td>0                  </td><td>3                  </td><td>4                  </td><td>30.62500           </td><td>6.993007           </td><td>8                  </td><td>4                  </td></tr>\n",
       "\t<tr><td>Merc 240D          </td><td>24.4               </td><td>4                  </td><td>146.7              </td><td> 62                </td><td>3.69               </td><td>3.190              </td><td>20.00              </td><td>1                  </td><td>0                  </td><td>4                  </td><td>2                  </td><td>15.50000           </td><td>4.098361           </td><td>8                  </td><td>4                  </td></tr>\n",
       "\t<tr><td>Merc 230           </td><td>22.8               </td><td>4                  </td><td>140.8              </td><td> 95                </td><td>3.92               </td><td>3.150              </td><td>22.90              </td><td>1                  </td><td>0                  </td><td>4                  </td><td>2                  </td><td>23.75000           </td><td>4.385965           </td><td>8                  </td><td>4                  </td></tr>\n",
       "\t<tr><td>Merc 280           </td><td>19.2               </td><td>6                  </td><td>167.6              </td><td>123                </td><td>3.92               </td><td>3.440              </td><td>18.30              </td><td>1                  </td><td>0                  </td><td>4                  </td><td>4                  </td><td>20.50000           </td><td>5.208333           </td><td>8                  </td><td>4                  </td></tr>\n",
       "\t<tr><td>Merc 280C          </td><td>17.8               </td><td>6                  </td><td>167.6              </td><td>123                </td><td>3.92               </td><td>3.440              </td><td>18.90              </td><td>1                  </td><td>0                  </td><td>4                  </td><td>4                  </td><td>20.50000           </td><td>5.617978           </td><td>8                  </td><td>4                  </td></tr>\n",
       "\t<tr><td>Merc 450SE         </td><td>16.4               </td><td>8                  </td><td>275.8              </td><td>180                </td><td>3.07               </td><td>4.070              </td><td>17.40              </td><td>0                  </td><td>0                  </td><td>3                  </td><td>3                  </td><td>22.50000           </td><td>6.097561           </td><td>8                  </td><td>3                  </td></tr>\n",
       "\t<tr><td>Merc 450SL         </td><td>17.3               </td><td>8                  </td><td>275.8              </td><td>180                </td><td>3.07               </td><td>3.730              </td><td>17.60              </td><td>0                  </td><td>0                  </td><td>3                  </td><td>3                  </td><td>22.50000           </td><td>5.780347           </td><td>8                  </td><td>3                  </td></tr>\n",
       "\t<tr><td>Merc 450SLC        </td><td>15.2               </td><td>8                  </td><td>275.8              </td><td>180                </td><td>3.07               </td><td>3.780              </td><td>18.00              </td><td>0                  </td><td>0                  </td><td>3                  </td><td>3                  </td><td>22.50000           </td><td>6.578947           </td><td>8                  </td><td>3                  </td></tr>\n",
       "\t<tr><td>Cadillac Fleetwood </td><td>10.4               </td><td>8                  </td><td>472.0              </td><td>205                </td><td>2.93               </td><td>5.250              </td><td>17.98              </td><td>0                  </td><td>0                  </td><td>3                  </td><td>4                  </td><td>25.62500           </td><td>9.615385           </td><td>8                  </td><td>4                  </td></tr>\n",
       "\t<tr><td>Lincoln Continental</td><td>10.4               </td><td>8                  </td><td>460.0              </td><td>215                </td><td>3.00               </td><td>5.424              </td><td>17.82              </td><td>0                  </td><td>0                  </td><td>3                  </td><td>4                  </td><td>26.87500           </td><td>9.615385           </td><td>8                  </td><td>4                  </td></tr>\n",
       "\t<tr><td>Chrysler Imperial  </td><td>14.7               </td><td>8                  </td><td>440.0              </td><td>230                </td><td>3.23               </td><td>5.345              </td><td>17.42              </td><td>0                  </td><td>0                  </td><td>3                  </td><td>4                  </td><td>28.75000           </td><td>6.802721           </td><td>8                  </td><td>4                  </td></tr>\n",
       "\t<tr><td>Fiat 128           </td><td>32.4               </td><td>4                  </td><td> 78.7              </td><td> 66                </td><td>4.08               </td><td>2.200              </td><td>19.47              </td><td>1                  </td><td>1                  </td><td>4                  </td><td>1                  </td><td>16.50000           </td><td>3.086420           </td><td>8                  </td><td>4                  </td></tr>\n",
       "\t<tr><td>Honda Civic        </td><td>30.4               </td><td>4                  </td><td> 75.7              </td><td> 52                </td><td>4.93               </td><td>1.615              </td><td>18.52              </td><td>1                  </td><td>1                  </td><td>4                  </td><td>2                  </td><td>13.00000           </td><td>3.289474           </td><td>8                  </td><td>4                  </td></tr>\n",
       "\t<tr><td>Toyota Corolla     </td><td>33.9               </td><td>4                  </td><td> 71.1              </td><td> 65                </td><td>4.22               </td><td>1.835              </td><td>19.90              </td><td>1                  </td><td>1                  </td><td>4                  </td><td>1                  </td><td>16.25000           </td><td>2.949853           </td><td>8                  </td><td>4                  </td></tr>\n",
       "\t<tr><td>Toyota Corona      </td><td>21.5               </td><td>4                  </td><td>120.1              </td><td> 97                </td><td>3.70               </td><td>2.465              </td><td>20.01              </td><td>1                  </td><td>0                  </td><td>3                  </td><td>1                  </td><td>24.25000           </td><td>4.651163           </td><td>8                  </td><td>3                  </td></tr>\n",
       "\t<tr><td>Dodge Challenger   </td><td>15.5               </td><td>8                  </td><td>318.0              </td><td>150                </td><td>2.76               </td><td>3.520              </td><td>16.87              </td><td>0                  </td><td>0                  </td><td>3                  </td><td>2                  </td><td>18.75000           </td><td>6.451613           </td><td>8                  </td><td>3                  </td></tr>\n",
       "\t<tr><td>AMC Javelin        </td><td>15.2               </td><td>8                  </td><td>304.0              </td><td>150                </td><td>3.15               </td><td>3.435              </td><td>17.30              </td><td>0                  </td><td>0                  </td><td>3                  </td><td>2                  </td><td>18.75000           </td><td>6.578947           </td><td>8                  </td><td>3                  </td></tr>\n",
       "\t<tr><td>Camaro Z28         </td><td>13.3               </td><td>8                  </td><td>350.0              </td><td>245                </td><td>3.73               </td><td>3.840              </td><td>15.41              </td><td>0                  </td><td>0                  </td><td>3                  </td><td>4                  </td><td>30.62500           </td><td>7.518797           </td><td>8                  </td><td>4                  </td></tr>\n",
       "\t<tr><td>Pontiac Firebird   </td><td>19.2               </td><td>8                  </td><td>400.0              </td><td>175                </td><td>3.08               </td><td>3.845              </td><td>17.05              </td><td>0                  </td><td>0                  </td><td>3                  </td><td>2                  </td><td>21.87500           </td><td>5.208333           </td><td>8                  </td><td>3                  </td></tr>\n",
       "\t<tr><td>Fiat X1-9          </td><td>27.3               </td><td>4                  </td><td> 79.0              </td><td> 66                </td><td>4.08               </td><td>1.935              </td><td>18.90              </td><td>1                  </td><td>1                  </td><td>4                  </td><td>1                  </td><td>16.50000           </td><td>3.663004           </td><td>8                  </td><td>4                  </td></tr>\n",
       "\t<tr><td>Porsche 914-2      </td><td>26.0               </td><td>4                  </td><td>120.3              </td><td> 91                </td><td>4.43               </td><td>2.140              </td><td>16.70              </td><td>0                  </td><td>1                  </td><td>5                  </td><td>2                  </td><td>22.75000           </td><td>3.846154           </td><td>8                  </td><td>5                  </td></tr>\n",
       "\t<tr><td>Lotus Europa       </td><td>30.4               </td><td>4                  </td><td> 95.1              </td><td>113                </td><td>3.77               </td><td>1.513              </td><td>16.90              </td><td>1                  </td><td>1                  </td><td>5                  </td><td>2                  </td><td>28.25000           </td><td>3.289474           </td><td>8                  </td><td>5                  </td></tr>\n",
       "\t<tr><td>Ford Pantera L     </td><td>15.8               </td><td>8                  </td><td>351.0              </td><td>264                </td><td>4.22               </td><td>3.170              </td><td>14.50              </td><td>0                  </td><td>1                  </td><td>5                  </td><td>4                  </td><td>33.00000           </td><td>6.329114           </td><td>8                  </td><td>5                  </td></tr>\n",
       "\t<tr><td>Ferrari Dino       </td><td>19.7               </td><td>6                  </td><td>145.0              </td><td>175                </td><td>3.62               </td><td>2.770              </td><td>15.50              </td><td>0                  </td><td>1                  </td><td>5                  </td><td>6                  </td><td>29.16667           </td><td>5.076142           </td><td>8                  </td><td>6                  </td></tr>\n",
       "\t<tr><td>Maserati Bora      </td><td>15.0               </td><td>8                  </td><td>301.0              </td><td>335                </td><td>3.54               </td><td>3.570              </td><td>14.60              </td><td>0                  </td><td>1                  </td><td>5                  </td><td>8                  </td><td>41.87500           </td><td>6.666667           </td><td>8                  </td><td>8                  </td></tr>\n",
       "\t<tr><td>Volvo 142E         </td><td>21.4               </td><td>4                  </td><td>121.0              </td><td>109                </td><td>4.11               </td><td>2.780              </td><td>18.60              </td><td>1                  </td><td>1                  </td><td>4                  </td><td>2                  </td><td>27.25000           </td><td>4.672897           </td><td>8                  </td><td>4                  </td></tr>\n",
       "</tbody>\n",
       "</table>\n"
      ],
      "text/latex": [
       "\\begin{tabular}{r|llllllllllllllll}\n",
       " car\\_name & mpg & cyl & disp & hp & drat & wt & qsec & vs & am & gear & carb & hp\\_cyl & gpm100 & max1 & max2\\\\\n",
       "\\hline\n",
       "\t Mazda RX4           & 21.0                & 6                   & 160.0               & 110                 & 3.90                & 2.620               & 16.46               & 0                   & 1                   & 4                   & 4                   & 18.33333            & 4.761905            & 8                   & 4                  \\\\\n",
       "\t Mazda RX4 Wag       & 21.0                & 6                   & 160.0               & 110                 & 3.90                & 2.875               & 17.02               & 0                   & 1                   & 4                   & 4                   & 18.33333            & 4.761905            & 8                   & 4                  \\\\\n",
       "\t Datsun 710          & 22.8                & 4                   & 108.0               &  93                 & 3.85                & 2.320               & 18.61               & 1                   & 1                   & 4                   & 1                   & 23.25000            & 4.385965            & 8                   & 4                  \\\\\n",
       "\t Hornet 4 Drive      & 21.4                & 6                   & 258.0               & 110                 & 3.08                & 3.215               & 19.44               & 1                   & 0                   & 3                   & 1                   & 18.33333            & 4.672897            & 8                   & 3                  \\\\\n",
       "\t Hornet Sportabout   & 18.7                & 8                   & 360.0               & 175                 & 3.15                & 3.440               & 17.02               & 0                   & 0                   & 3                   & 2                   & 21.87500            & 5.347594            & 8                   & 3                  \\\\\n",
       "\t Valiant             & 18.1                & 6                   & 225.0               & 105                 & 2.76                & 3.460               & 20.22               & 1                   & 0                   & 3                   & 1                   & 17.50000            & 5.524862            & 8                   & 3                  \\\\\n",
       "\t Duster 360          & 14.3                & 8                   & 360.0               & 245                 & 3.21                & 3.570               & 15.84               & 0                   & 0                   & 3                   & 4                   & 30.62500            & 6.993007            & 8                   & 4                  \\\\\n",
       "\t Merc 240D           & 24.4                & 4                   & 146.7               &  62                 & 3.69                & 3.190               & 20.00               & 1                   & 0                   & 4                   & 2                   & 15.50000            & 4.098361            & 8                   & 4                  \\\\\n",
       "\t Merc 230            & 22.8                & 4                   & 140.8               &  95                 & 3.92                & 3.150               & 22.90               & 1                   & 0                   & 4                   & 2                   & 23.75000            & 4.385965            & 8                   & 4                  \\\\\n",
       "\t Merc 280            & 19.2                & 6                   & 167.6               & 123                 & 3.92                & 3.440               & 18.30               & 1                   & 0                   & 4                   & 4                   & 20.50000            & 5.208333            & 8                   & 4                  \\\\\n",
       "\t Merc 280C           & 17.8                & 6                   & 167.6               & 123                 & 3.92                & 3.440               & 18.90               & 1                   & 0                   & 4                   & 4                   & 20.50000            & 5.617978            & 8                   & 4                  \\\\\n",
       "\t Merc 450SE          & 16.4                & 8                   & 275.8               & 180                 & 3.07                & 4.070               & 17.40               & 0                   & 0                   & 3                   & 3                   & 22.50000            & 6.097561            & 8                   & 3                  \\\\\n",
       "\t Merc 450SL          & 17.3                & 8                   & 275.8               & 180                 & 3.07                & 3.730               & 17.60               & 0                   & 0                   & 3                   & 3                   & 22.50000            & 5.780347            & 8                   & 3                  \\\\\n",
       "\t Merc 450SLC         & 15.2                & 8                   & 275.8               & 180                 & 3.07                & 3.780               & 18.00               & 0                   & 0                   & 3                   & 3                   & 22.50000            & 6.578947            & 8                   & 3                  \\\\\n",
       "\t Cadillac Fleetwood  & 10.4                & 8                   & 472.0               & 205                 & 2.93                & 5.250               & 17.98               & 0                   & 0                   & 3                   & 4                   & 25.62500            & 9.615385            & 8                   & 4                  \\\\\n",
       "\t Lincoln Continental & 10.4                & 8                   & 460.0               & 215                 & 3.00                & 5.424               & 17.82               & 0                   & 0                   & 3                   & 4                   & 26.87500            & 9.615385            & 8                   & 4                  \\\\\n",
       "\t Chrysler Imperial   & 14.7                & 8                   & 440.0               & 230                 & 3.23                & 5.345               & 17.42               & 0                   & 0                   & 3                   & 4                   & 28.75000            & 6.802721            & 8                   & 4                  \\\\\n",
       "\t Fiat 128            & 32.4                & 4                   &  78.7               &  66                 & 4.08                & 2.200               & 19.47               & 1                   & 1                   & 4                   & 1                   & 16.50000            & 3.086420            & 8                   & 4                  \\\\\n",
       "\t Honda Civic         & 30.4                & 4                   &  75.7               &  52                 & 4.93                & 1.615               & 18.52               & 1                   & 1                   & 4                   & 2                   & 13.00000            & 3.289474            & 8                   & 4                  \\\\\n",
       "\t Toyota Corolla      & 33.9                & 4                   &  71.1               &  65                 & 4.22                & 1.835               & 19.90               & 1                   & 1                   & 4                   & 1                   & 16.25000            & 2.949853            & 8                   & 4                  \\\\\n",
       "\t Toyota Corona       & 21.5                & 4                   & 120.1               &  97                 & 3.70                & 2.465               & 20.01               & 1                   & 0                   & 3                   & 1                   & 24.25000            & 4.651163            & 8                   & 3                  \\\\\n",
       "\t Dodge Challenger    & 15.5                & 8                   & 318.0               & 150                 & 2.76                & 3.520               & 16.87               & 0                   & 0                   & 3                   & 2                   & 18.75000            & 6.451613            & 8                   & 3                  \\\\\n",
       "\t AMC Javelin         & 15.2                & 8                   & 304.0               & 150                 & 3.15                & 3.435               & 17.30               & 0                   & 0                   & 3                   & 2                   & 18.75000            & 6.578947            & 8                   & 3                  \\\\\n",
       "\t Camaro Z28          & 13.3                & 8                   & 350.0               & 245                 & 3.73                & 3.840               & 15.41               & 0                   & 0                   & 3                   & 4                   & 30.62500            & 7.518797            & 8                   & 4                  \\\\\n",
       "\t Pontiac Firebird    & 19.2                & 8                   & 400.0               & 175                 & 3.08                & 3.845               & 17.05               & 0                   & 0                   & 3                   & 2                   & 21.87500            & 5.208333            & 8                   & 3                  \\\\\n",
       "\t Fiat X1-9           & 27.3                & 4                   &  79.0               &  66                 & 4.08                & 1.935               & 18.90               & 1                   & 1                   & 4                   & 1                   & 16.50000            & 3.663004            & 8                   & 4                  \\\\\n",
       "\t Porsche 914-2       & 26.0                & 4                   & 120.3               &  91                 & 4.43                & 2.140               & 16.70               & 0                   & 1                   & 5                   & 2                   & 22.75000            & 3.846154            & 8                   & 5                  \\\\\n",
       "\t Lotus Europa        & 30.4                & 4                   &  95.1               & 113                 & 3.77                & 1.513               & 16.90               & 1                   & 1                   & 5                   & 2                   & 28.25000            & 3.289474            & 8                   & 5                  \\\\\n",
       "\t Ford Pantera L      & 15.8                & 8                   & 351.0               & 264                 & 4.22                & 3.170               & 14.50               & 0                   & 1                   & 5                   & 4                   & 33.00000            & 6.329114            & 8                   & 5                  \\\\\n",
       "\t Ferrari Dino        & 19.7                & 6                   & 145.0               & 175                 & 3.62                & 2.770               & 15.50               & 0                   & 1                   & 5                   & 6                   & 29.16667            & 5.076142            & 8                   & 6                  \\\\\n",
       "\t Maserati Bora       & 15.0                & 8                   & 301.0               & 335                 & 3.54                & 3.570               & 14.60               & 0                   & 1                   & 5                   & 8                   & 41.87500            & 6.666667            & 8                   & 8                  \\\\\n",
       "\t Volvo 142E          & 21.4                & 4                   & 121.0               & 109                 & 4.11                & 2.780               & 18.60               & 1                   & 1                   & 4                   & 2                   & 27.25000            & 4.672897            & 8                   & 4                  \\\\\n",
       "\\end{tabular}\n"
      ],
      "text/markdown": [
       "\n",
       "| car_name | mpg | cyl | disp | hp | drat | wt | qsec | vs | am | gear | carb | hp_cyl | gpm100 | max1 | max2 |\n",
       "|---|---|---|---|---|---|---|---|---|---|---|---|---|---|---|---|\n",
       "| Mazda RX4           | 21.0                | 6                   | 160.0               | 110                 | 3.90                | 2.620               | 16.46               | 0                   | 1                   | 4                   | 4                   | 18.33333            | 4.761905            | 8                   | 4                   |\n",
       "| Mazda RX4 Wag       | 21.0                | 6                   | 160.0               | 110                 | 3.90                | 2.875               | 17.02               | 0                   | 1                   | 4                   | 4                   | 18.33333            | 4.761905            | 8                   | 4                   |\n",
       "| Datsun 710          | 22.8                | 4                   | 108.0               |  93                 | 3.85                | 2.320               | 18.61               | 1                   | 1                   | 4                   | 1                   | 23.25000            | 4.385965            | 8                   | 4                   |\n",
       "| Hornet 4 Drive      | 21.4                | 6                   | 258.0               | 110                 | 3.08                | 3.215               | 19.44               | 1                   | 0                   | 3                   | 1                   | 18.33333            | 4.672897            | 8                   | 3                   |\n",
       "| Hornet Sportabout   | 18.7                | 8                   | 360.0               | 175                 | 3.15                | 3.440               | 17.02               | 0                   | 0                   | 3                   | 2                   | 21.87500            | 5.347594            | 8                   | 3                   |\n",
       "| Valiant             | 18.1                | 6                   | 225.0               | 105                 | 2.76                | 3.460               | 20.22               | 1                   | 0                   | 3                   | 1                   | 17.50000            | 5.524862            | 8                   | 3                   |\n",
       "| Duster 360          | 14.3                | 8                   | 360.0               | 245                 | 3.21                | 3.570               | 15.84               | 0                   | 0                   | 3                   | 4                   | 30.62500            | 6.993007            | 8                   | 4                   |\n",
       "| Merc 240D           | 24.4                | 4                   | 146.7               |  62                 | 3.69                | 3.190               | 20.00               | 1                   | 0                   | 4                   | 2                   | 15.50000            | 4.098361            | 8                   | 4                   |\n",
       "| Merc 230            | 22.8                | 4                   | 140.8               |  95                 | 3.92                | 3.150               | 22.90               | 1                   | 0                   | 4                   | 2                   | 23.75000            | 4.385965            | 8                   | 4                   |\n",
       "| Merc 280            | 19.2                | 6                   | 167.6               | 123                 | 3.92                | 3.440               | 18.30               | 1                   | 0                   | 4                   | 4                   | 20.50000            | 5.208333            | 8                   | 4                   |\n",
       "| Merc 280C           | 17.8                | 6                   | 167.6               | 123                 | 3.92                | 3.440               | 18.90               | 1                   | 0                   | 4                   | 4                   | 20.50000            | 5.617978            | 8                   | 4                   |\n",
       "| Merc 450SE          | 16.4                | 8                   | 275.8               | 180                 | 3.07                | 4.070               | 17.40               | 0                   | 0                   | 3                   | 3                   | 22.50000            | 6.097561            | 8                   | 3                   |\n",
       "| Merc 450SL          | 17.3                | 8                   | 275.8               | 180                 | 3.07                | 3.730               | 17.60               | 0                   | 0                   | 3                   | 3                   | 22.50000            | 5.780347            | 8                   | 3                   |\n",
       "| Merc 450SLC         | 15.2                | 8                   | 275.8               | 180                 | 3.07                | 3.780               | 18.00               | 0                   | 0                   | 3                   | 3                   | 22.50000            | 6.578947            | 8                   | 3                   |\n",
       "| Cadillac Fleetwood  | 10.4                | 8                   | 472.0               | 205                 | 2.93                | 5.250               | 17.98               | 0                   | 0                   | 3                   | 4                   | 25.62500            | 9.615385            | 8                   | 4                   |\n",
       "| Lincoln Continental | 10.4                | 8                   | 460.0               | 215                 | 3.00                | 5.424               | 17.82               | 0                   | 0                   | 3                   | 4                   | 26.87500            | 9.615385            | 8                   | 4                   |\n",
       "| Chrysler Imperial   | 14.7                | 8                   | 440.0               | 230                 | 3.23                | 5.345               | 17.42               | 0                   | 0                   | 3                   | 4                   | 28.75000            | 6.802721            | 8                   | 4                   |\n",
       "| Fiat 128            | 32.4                | 4                   |  78.7               |  66                 | 4.08                | 2.200               | 19.47               | 1                   | 1                   | 4                   | 1                   | 16.50000            | 3.086420            | 8                   | 4                   |\n",
       "| Honda Civic         | 30.4                | 4                   |  75.7               |  52                 | 4.93                | 1.615               | 18.52               | 1                   | 1                   | 4                   | 2                   | 13.00000            | 3.289474            | 8                   | 4                   |\n",
       "| Toyota Corolla      | 33.9                | 4                   |  71.1               |  65                 | 4.22                | 1.835               | 19.90               | 1                   | 1                   | 4                   | 1                   | 16.25000            | 2.949853            | 8                   | 4                   |\n",
       "| Toyota Corona       | 21.5                | 4                   | 120.1               |  97                 | 3.70                | 2.465               | 20.01               | 1                   | 0                   | 3                   | 1                   | 24.25000            | 4.651163            | 8                   | 3                   |\n",
       "| Dodge Challenger    | 15.5                | 8                   | 318.0               | 150                 | 2.76                | 3.520               | 16.87               | 0                   | 0                   | 3                   | 2                   | 18.75000            | 6.451613            | 8                   | 3                   |\n",
       "| AMC Javelin         | 15.2                | 8                   | 304.0               | 150                 | 3.15                | 3.435               | 17.30               | 0                   | 0                   | 3                   | 2                   | 18.75000            | 6.578947            | 8                   | 3                   |\n",
       "| Camaro Z28          | 13.3                | 8                   | 350.0               | 245                 | 3.73                | 3.840               | 15.41               | 0                   | 0                   | 3                   | 4                   | 30.62500            | 7.518797            | 8                   | 4                   |\n",
       "| Pontiac Firebird    | 19.2                | 8                   | 400.0               | 175                 | 3.08                | 3.845               | 17.05               | 0                   | 0                   | 3                   | 2                   | 21.87500            | 5.208333            | 8                   | 3                   |\n",
       "| Fiat X1-9           | 27.3                | 4                   |  79.0               |  66                 | 4.08                | 1.935               | 18.90               | 1                   | 1                   | 4                   | 1                   | 16.50000            | 3.663004            | 8                   | 4                   |\n",
       "| Porsche 914-2       | 26.0                | 4                   | 120.3               |  91                 | 4.43                | 2.140               | 16.70               | 0                   | 1                   | 5                   | 2                   | 22.75000            | 3.846154            | 8                   | 5                   |\n",
       "| Lotus Europa        | 30.4                | 4                   |  95.1               | 113                 | 3.77                | 1.513               | 16.90               | 1                   | 1                   | 5                   | 2                   | 28.25000            | 3.289474            | 8                   | 5                   |\n",
       "| Ford Pantera L      | 15.8                | 8                   | 351.0               | 264                 | 4.22                | 3.170               | 14.50               | 0                   | 1                   | 5                   | 4                   | 33.00000            | 6.329114            | 8                   | 5                   |\n",
       "| Ferrari Dino        | 19.7                | 6                   | 145.0               | 175                 | 3.62                | 2.770               | 15.50               | 0                   | 1                   | 5                   | 6                   | 29.16667            | 5.076142            | 8                   | 6                   |\n",
       "| Maserati Bora       | 15.0                | 8                   | 301.0               | 335                 | 3.54                | 3.570               | 14.60               | 0                   | 1                   | 5                   | 8                   | 41.87500            | 6.666667            | 8                   | 8                   |\n",
       "| Volvo 142E          | 21.4                | 4                   | 121.0               | 109                 | 4.11                | 2.780               | 18.60               | 1                   | 1                   | 4                   | 2                   | 27.25000            | 4.672897            | 8                   | 4                   |\n",
       "\n"
      ],
      "text/plain": [
       "   car_name            mpg  cyl disp  hp  drat wt    qsec  vs am gear carb\n",
       "1  Mazda RX4           21.0 6   160.0 110 3.90 2.620 16.46 0  1  4    4   \n",
       "2  Mazda RX4 Wag       21.0 6   160.0 110 3.90 2.875 17.02 0  1  4    4   \n",
       "3  Datsun 710          22.8 4   108.0  93 3.85 2.320 18.61 1  1  4    1   \n",
       "4  Hornet 4 Drive      21.4 6   258.0 110 3.08 3.215 19.44 1  0  3    1   \n",
       "5  Hornet Sportabout   18.7 8   360.0 175 3.15 3.440 17.02 0  0  3    2   \n",
       "6  Valiant             18.1 6   225.0 105 2.76 3.460 20.22 1  0  3    1   \n",
       "7  Duster 360          14.3 8   360.0 245 3.21 3.570 15.84 0  0  3    4   \n",
       "8  Merc 240D           24.4 4   146.7  62 3.69 3.190 20.00 1  0  4    2   \n",
       "9  Merc 230            22.8 4   140.8  95 3.92 3.150 22.90 1  0  4    2   \n",
       "10 Merc 280            19.2 6   167.6 123 3.92 3.440 18.30 1  0  4    4   \n",
       "11 Merc 280C           17.8 6   167.6 123 3.92 3.440 18.90 1  0  4    4   \n",
       "12 Merc 450SE          16.4 8   275.8 180 3.07 4.070 17.40 0  0  3    3   \n",
       "13 Merc 450SL          17.3 8   275.8 180 3.07 3.730 17.60 0  0  3    3   \n",
       "14 Merc 450SLC         15.2 8   275.8 180 3.07 3.780 18.00 0  0  3    3   \n",
       "15 Cadillac Fleetwood  10.4 8   472.0 205 2.93 5.250 17.98 0  0  3    4   \n",
       "16 Lincoln Continental 10.4 8   460.0 215 3.00 5.424 17.82 0  0  3    4   \n",
       "17 Chrysler Imperial   14.7 8   440.0 230 3.23 5.345 17.42 0  0  3    4   \n",
       "18 Fiat 128            32.4 4    78.7  66 4.08 2.200 19.47 1  1  4    1   \n",
       "19 Honda Civic         30.4 4    75.7  52 4.93 1.615 18.52 1  1  4    2   \n",
       "20 Toyota Corolla      33.9 4    71.1  65 4.22 1.835 19.90 1  1  4    1   \n",
       "21 Toyota Corona       21.5 4   120.1  97 3.70 2.465 20.01 1  0  3    1   \n",
       "22 Dodge Challenger    15.5 8   318.0 150 2.76 3.520 16.87 0  0  3    2   \n",
       "23 AMC Javelin         15.2 8   304.0 150 3.15 3.435 17.30 0  0  3    2   \n",
       "24 Camaro Z28          13.3 8   350.0 245 3.73 3.840 15.41 0  0  3    4   \n",
       "25 Pontiac Firebird    19.2 8   400.0 175 3.08 3.845 17.05 0  0  3    2   \n",
       "26 Fiat X1-9           27.3 4    79.0  66 4.08 1.935 18.90 1  1  4    1   \n",
       "27 Porsche 914-2       26.0 4   120.3  91 4.43 2.140 16.70 0  1  5    2   \n",
       "28 Lotus Europa        30.4 4    95.1 113 3.77 1.513 16.90 1  1  5    2   \n",
       "29 Ford Pantera L      15.8 8   351.0 264 4.22 3.170 14.50 0  1  5    4   \n",
       "30 Ferrari Dino        19.7 6   145.0 175 3.62 2.770 15.50 0  1  5    6   \n",
       "31 Maserati Bora       15.0 8   301.0 335 3.54 3.570 14.60 0  1  5    8   \n",
       "32 Volvo 142E          21.4 4   121.0 109 4.11 2.780 18.60 1  1  4    2   \n",
       "   hp_cyl   gpm100   max1 max2\n",
       "1  18.33333 4.761905 8    4   \n",
       "2  18.33333 4.761905 8    4   \n",
       "3  23.25000 4.385965 8    4   \n",
       "4  18.33333 4.672897 8    3   \n",
       "5  21.87500 5.347594 8    3   \n",
       "6  17.50000 5.524862 8    3   \n",
       "7  30.62500 6.993007 8    4   \n",
       "8  15.50000 4.098361 8    4   \n",
       "9  23.75000 4.385965 8    4   \n",
       "10 20.50000 5.208333 8    4   \n",
       "11 20.50000 5.617978 8    4   \n",
       "12 22.50000 6.097561 8    3   \n",
       "13 22.50000 5.780347 8    3   \n",
       "14 22.50000 6.578947 8    3   \n",
       "15 25.62500 9.615385 8    4   \n",
       "16 26.87500 9.615385 8    4   \n",
       "17 28.75000 6.802721 8    4   \n",
       "18 16.50000 3.086420 8    4   \n",
       "19 13.00000 3.289474 8    4   \n",
       "20 16.25000 2.949853 8    4   \n",
       "21 24.25000 4.651163 8    3   \n",
       "22 18.75000 6.451613 8    3   \n",
       "23 18.75000 6.578947 8    3   \n",
       "24 30.62500 7.518797 8    4   \n",
       "25 21.87500 5.208333 8    3   \n",
       "26 16.50000 3.663004 8    4   \n",
       "27 22.75000 3.846154 8    5   \n",
       "28 28.25000 3.289474 8    5   \n",
       "29 33.00000 6.329114 8    5   \n",
       "30 29.16667 5.076142 8    6   \n",
       "31 41.87500 6.666667 8    8   \n",
       "32 27.25000 4.672897 8    4   "
      ]
     },
     "metadata": {},
     "output_type": "display_data"
    }
   ],
   "source": [
    "tbl_mtcars %>%\n",
    "    mutate(max1 = max(gear, carb),\n",
    "           max2 = map2(gear, carb, max))"
   ]
  },
  {
   "cell_type": "code",
   "execution_count": 62,
   "metadata": {},
   "outputs": [
    {
     "data": {
      "text/html": [
       "<table>\n",
       "<thead><tr><th scope=col>car_name</th><th scope=col>mpg</th><th scope=col>cyl</th><th scope=col>disp</th><th scope=col>hp</th><th scope=col>drat</th><th scope=col>wt</th><th scope=col>qsec</th><th scope=col>vs</th><th scope=col>am</th><th scope=col>gear</th><th scope=col>carb</th><th scope=col>hp_cyl</th><th scope=col>gpm100</th><th scope=col>+1</th></tr></thead>\n",
       "<tbody>\n",
       "\t<tr><td>Mazda RX4          </td><td>21.0               </td><td>6                  </td><td>160.0              </td><td>110                </td><td>3.90               </td><td>2.620              </td><td>16.46              </td><td>0                  </td><td>1                  </td><td>4                  </td><td>4                  </td><td>18.33333           </td><td>4.761905           </td><td>5                  </td></tr>\n",
       "\t<tr><td>Mazda RX4 Wag      </td><td>21.0               </td><td>6                  </td><td>160.0              </td><td>110                </td><td>3.90               </td><td>2.875              </td><td>17.02              </td><td>0                  </td><td>1                  </td><td>4                  </td><td>4                  </td><td>18.33333           </td><td>4.761905           </td><td>5                  </td></tr>\n",
       "\t<tr><td>Datsun 710         </td><td>22.8               </td><td>4                  </td><td>108.0              </td><td> 93                </td><td>3.85               </td><td>2.320              </td><td>18.61              </td><td>1                  </td><td>1                  </td><td>4                  </td><td>1                  </td><td>23.25000           </td><td>4.385965           </td><td>5                  </td></tr>\n",
       "\t<tr><td>Hornet 4 Drive     </td><td>21.4               </td><td>6                  </td><td>258.0              </td><td>110                </td><td>3.08               </td><td>3.215              </td><td>19.44              </td><td>1                  </td><td>0                  </td><td>3                  </td><td>1                  </td><td>18.33333           </td><td>4.672897           </td><td>4                  </td></tr>\n",
       "\t<tr><td>Hornet Sportabout  </td><td>18.7               </td><td>8                  </td><td>360.0              </td><td>175                </td><td>3.15               </td><td>3.440              </td><td>17.02              </td><td>0                  </td><td>0                  </td><td>3                  </td><td>2                  </td><td>21.87500           </td><td>5.347594           </td><td>4                  </td></tr>\n",
       "\t<tr><td>Valiant            </td><td>18.1               </td><td>6                  </td><td>225.0              </td><td>105                </td><td>2.76               </td><td>3.460              </td><td>20.22              </td><td>1                  </td><td>0                  </td><td>3                  </td><td>1                  </td><td>17.50000           </td><td>5.524862           </td><td>4                  </td></tr>\n",
       "\t<tr><td>Duster 360         </td><td>14.3               </td><td>8                  </td><td>360.0              </td><td>245                </td><td>3.21               </td><td>3.570              </td><td>15.84              </td><td>0                  </td><td>0                  </td><td>3                  </td><td>4                  </td><td>30.62500           </td><td>6.993007           </td><td>4                  </td></tr>\n",
       "\t<tr><td>Merc 240D          </td><td>24.4               </td><td>4                  </td><td>146.7              </td><td> 62                </td><td>3.69               </td><td>3.190              </td><td>20.00              </td><td>1                  </td><td>0                  </td><td>4                  </td><td>2                  </td><td>15.50000           </td><td>4.098361           </td><td>5                  </td></tr>\n",
       "\t<tr><td>Merc 230           </td><td>22.8               </td><td>4                  </td><td>140.8              </td><td> 95                </td><td>3.92               </td><td>3.150              </td><td>22.90              </td><td>1                  </td><td>0                  </td><td>4                  </td><td>2                  </td><td>23.75000           </td><td>4.385965           </td><td>5                  </td></tr>\n",
       "\t<tr><td>Merc 280           </td><td>19.2               </td><td>6                  </td><td>167.6              </td><td>123                </td><td>3.92               </td><td>3.440              </td><td>18.30              </td><td>1                  </td><td>0                  </td><td>4                  </td><td>4                  </td><td>20.50000           </td><td>5.208333           </td><td>5                  </td></tr>\n",
       "\t<tr><td>Merc 280C          </td><td>17.8               </td><td>6                  </td><td>167.6              </td><td>123                </td><td>3.92               </td><td>3.440              </td><td>18.90              </td><td>1                  </td><td>0                  </td><td>4                  </td><td>4                  </td><td>20.50000           </td><td>5.617978           </td><td>5                  </td></tr>\n",
       "\t<tr><td>Merc 450SE         </td><td>16.4               </td><td>8                  </td><td>275.8              </td><td>180                </td><td>3.07               </td><td>4.070              </td><td>17.40              </td><td>0                  </td><td>0                  </td><td>3                  </td><td>3                  </td><td>22.50000           </td><td>6.097561           </td><td>4                  </td></tr>\n",
       "\t<tr><td>Merc 450SL         </td><td>17.3               </td><td>8                  </td><td>275.8              </td><td>180                </td><td>3.07               </td><td>3.730              </td><td>17.60              </td><td>0                  </td><td>0                  </td><td>3                  </td><td>3                  </td><td>22.50000           </td><td>5.780347           </td><td>4                  </td></tr>\n",
       "\t<tr><td>Merc 450SLC        </td><td>15.2               </td><td>8                  </td><td>275.8              </td><td>180                </td><td>3.07               </td><td>3.780              </td><td>18.00              </td><td>0                  </td><td>0                  </td><td>3                  </td><td>3                  </td><td>22.50000           </td><td>6.578947           </td><td>4                  </td></tr>\n",
       "\t<tr><td>Cadillac Fleetwood </td><td>10.4               </td><td>8                  </td><td>472.0              </td><td>205                </td><td>2.93               </td><td>5.250              </td><td>17.98              </td><td>0                  </td><td>0                  </td><td>3                  </td><td>4                  </td><td>25.62500           </td><td>9.615385           </td><td>4                  </td></tr>\n",
       "\t<tr><td>Lincoln Continental</td><td>10.4               </td><td>8                  </td><td>460.0              </td><td>215                </td><td>3.00               </td><td>5.424              </td><td>17.82              </td><td>0                  </td><td>0                  </td><td>3                  </td><td>4                  </td><td>26.87500           </td><td>9.615385           </td><td>4                  </td></tr>\n",
       "\t<tr><td>Chrysler Imperial  </td><td>14.7               </td><td>8                  </td><td>440.0              </td><td>230                </td><td>3.23               </td><td>5.345              </td><td>17.42              </td><td>0                  </td><td>0                  </td><td>3                  </td><td>4                  </td><td>28.75000           </td><td>6.802721           </td><td>4                  </td></tr>\n",
       "\t<tr><td>Fiat 128           </td><td>32.4               </td><td>4                  </td><td> 78.7              </td><td> 66                </td><td>4.08               </td><td>2.200              </td><td>19.47              </td><td>1                  </td><td>1                  </td><td>4                  </td><td>1                  </td><td>16.50000           </td><td>3.086420           </td><td>5                  </td></tr>\n",
       "\t<tr><td>Honda Civic        </td><td>30.4               </td><td>4                  </td><td> 75.7              </td><td> 52                </td><td>4.93               </td><td>1.615              </td><td>18.52              </td><td>1                  </td><td>1                  </td><td>4                  </td><td>2                  </td><td>13.00000           </td><td>3.289474           </td><td>5                  </td></tr>\n",
       "\t<tr><td>Toyota Corolla     </td><td>33.9               </td><td>4                  </td><td> 71.1              </td><td> 65                </td><td>4.22               </td><td>1.835              </td><td>19.90              </td><td>1                  </td><td>1                  </td><td>4                  </td><td>1                  </td><td>16.25000           </td><td>2.949853           </td><td>5                  </td></tr>\n",
       "\t<tr><td>Toyota Corona      </td><td>21.5               </td><td>4                  </td><td>120.1              </td><td> 97                </td><td>3.70               </td><td>2.465              </td><td>20.01              </td><td>1                  </td><td>0                  </td><td>3                  </td><td>1                  </td><td>24.25000           </td><td>4.651163           </td><td>4                  </td></tr>\n",
       "\t<tr><td>Dodge Challenger   </td><td>15.5               </td><td>8                  </td><td>318.0              </td><td>150                </td><td>2.76               </td><td>3.520              </td><td>16.87              </td><td>0                  </td><td>0                  </td><td>3                  </td><td>2                  </td><td>18.75000           </td><td>6.451613           </td><td>4                  </td></tr>\n",
       "\t<tr><td>AMC Javelin        </td><td>15.2               </td><td>8                  </td><td>304.0              </td><td>150                </td><td>3.15               </td><td>3.435              </td><td>17.30              </td><td>0                  </td><td>0                  </td><td>3                  </td><td>2                  </td><td>18.75000           </td><td>6.578947           </td><td>4                  </td></tr>\n",
       "\t<tr><td>Camaro Z28         </td><td>13.3               </td><td>8                  </td><td>350.0              </td><td>245                </td><td>3.73               </td><td>3.840              </td><td>15.41              </td><td>0                  </td><td>0                  </td><td>3                  </td><td>4                  </td><td>30.62500           </td><td>7.518797           </td><td>4                  </td></tr>\n",
       "\t<tr><td>Pontiac Firebird   </td><td>19.2               </td><td>8                  </td><td>400.0              </td><td>175                </td><td>3.08               </td><td>3.845              </td><td>17.05              </td><td>0                  </td><td>0                  </td><td>3                  </td><td>2                  </td><td>21.87500           </td><td>5.208333           </td><td>4                  </td></tr>\n",
       "\t<tr><td>Fiat X1-9          </td><td>27.3               </td><td>4                  </td><td> 79.0              </td><td> 66                </td><td>4.08               </td><td>1.935              </td><td>18.90              </td><td>1                  </td><td>1                  </td><td>4                  </td><td>1                  </td><td>16.50000           </td><td>3.663004           </td><td>5                  </td></tr>\n",
       "\t<tr><td>Porsche 914-2      </td><td>26.0               </td><td>4                  </td><td>120.3              </td><td> 91                </td><td>4.43               </td><td>2.140              </td><td>16.70              </td><td>0                  </td><td>1                  </td><td>5                  </td><td>2                  </td><td>22.75000           </td><td>3.846154           </td><td>6                  </td></tr>\n",
       "\t<tr><td>Lotus Europa       </td><td>30.4               </td><td>4                  </td><td> 95.1              </td><td>113                </td><td>3.77               </td><td>1.513              </td><td>16.90              </td><td>1                  </td><td>1                  </td><td>5                  </td><td>2                  </td><td>28.25000           </td><td>3.289474           </td><td>6                  </td></tr>\n",
       "\t<tr><td>Ford Pantera L     </td><td>15.8               </td><td>8                  </td><td>351.0              </td><td>264                </td><td>4.22               </td><td>3.170              </td><td>14.50              </td><td>0                  </td><td>1                  </td><td>5                  </td><td>4                  </td><td>33.00000           </td><td>6.329114           </td><td>6                  </td></tr>\n",
       "\t<tr><td>Ferrari Dino       </td><td>19.7               </td><td>6                  </td><td>145.0              </td><td>175                </td><td>3.62               </td><td>2.770              </td><td>15.50              </td><td>0                  </td><td>1                  </td><td>5                  </td><td>6                  </td><td>29.16667           </td><td>5.076142           </td><td>6                  </td></tr>\n",
       "\t<tr><td>Maserati Bora      </td><td>15.0               </td><td>8                  </td><td>301.0              </td><td>335                </td><td>3.54               </td><td>3.570              </td><td>14.60              </td><td>0                  </td><td>1                  </td><td>5                  </td><td>8                  </td><td>41.87500           </td><td>6.666667           </td><td>6                  </td></tr>\n",
       "\t<tr><td>Volvo 142E         </td><td>21.4               </td><td>4                  </td><td>121.0              </td><td>109                </td><td>4.11               </td><td>2.780              </td><td>18.60              </td><td>1                  </td><td>1                  </td><td>4                  </td><td>2                  </td><td>27.25000           </td><td>4.672897           </td><td>5                  </td></tr>\n",
       "</tbody>\n",
       "</table>\n"
      ],
      "text/latex": [
       "\\begin{tabular}{r|lllllllllllllll}\n",
       " car\\_name & mpg & cyl & disp & hp & drat & wt & qsec & vs & am & gear & carb & hp\\_cyl & gpm100 & +1\\\\\n",
       "\\hline\n",
       "\t Mazda RX4           & 21.0                & 6                   & 160.0               & 110                 & 3.90                & 2.620               & 16.46               & 0                   & 1                   & 4                   & 4                   & 18.33333            & 4.761905            & 5                  \\\\\n",
       "\t Mazda RX4 Wag       & 21.0                & 6                   & 160.0               & 110                 & 3.90                & 2.875               & 17.02               & 0                   & 1                   & 4                   & 4                   & 18.33333            & 4.761905            & 5                  \\\\\n",
       "\t Datsun 710          & 22.8                & 4                   & 108.0               &  93                 & 3.85                & 2.320               & 18.61               & 1                   & 1                   & 4                   & 1                   & 23.25000            & 4.385965            & 5                  \\\\\n",
       "\t Hornet 4 Drive      & 21.4                & 6                   & 258.0               & 110                 & 3.08                & 3.215               & 19.44               & 1                   & 0                   & 3                   & 1                   & 18.33333            & 4.672897            & 4                  \\\\\n",
       "\t Hornet Sportabout   & 18.7                & 8                   & 360.0               & 175                 & 3.15                & 3.440               & 17.02               & 0                   & 0                   & 3                   & 2                   & 21.87500            & 5.347594            & 4                  \\\\\n",
       "\t Valiant             & 18.1                & 6                   & 225.0               & 105                 & 2.76                & 3.460               & 20.22               & 1                   & 0                   & 3                   & 1                   & 17.50000            & 5.524862            & 4                  \\\\\n",
       "\t Duster 360          & 14.3                & 8                   & 360.0               & 245                 & 3.21                & 3.570               & 15.84               & 0                   & 0                   & 3                   & 4                   & 30.62500            & 6.993007            & 4                  \\\\\n",
       "\t Merc 240D           & 24.4                & 4                   & 146.7               &  62                 & 3.69                & 3.190               & 20.00               & 1                   & 0                   & 4                   & 2                   & 15.50000            & 4.098361            & 5                  \\\\\n",
       "\t Merc 230            & 22.8                & 4                   & 140.8               &  95                 & 3.92                & 3.150               & 22.90               & 1                   & 0                   & 4                   & 2                   & 23.75000            & 4.385965            & 5                  \\\\\n",
       "\t Merc 280            & 19.2                & 6                   & 167.6               & 123                 & 3.92                & 3.440               & 18.30               & 1                   & 0                   & 4                   & 4                   & 20.50000            & 5.208333            & 5                  \\\\\n",
       "\t Merc 280C           & 17.8                & 6                   & 167.6               & 123                 & 3.92                & 3.440               & 18.90               & 1                   & 0                   & 4                   & 4                   & 20.50000            & 5.617978            & 5                  \\\\\n",
       "\t Merc 450SE          & 16.4                & 8                   & 275.8               & 180                 & 3.07                & 4.070               & 17.40               & 0                   & 0                   & 3                   & 3                   & 22.50000            & 6.097561            & 4                  \\\\\n",
       "\t Merc 450SL          & 17.3                & 8                   & 275.8               & 180                 & 3.07                & 3.730               & 17.60               & 0                   & 0                   & 3                   & 3                   & 22.50000            & 5.780347            & 4                  \\\\\n",
       "\t Merc 450SLC         & 15.2                & 8                   & 275.8               & 180                 & 3.07                & 3.780               & 18.00               & 0                   & 0                   & 3                   & 3                   & 22.50000            & 6.578947            & 4                  \\\\\n",
       "\t Cadillac Fleetwood  & 10.4                & 8                   & 472.0               & 205                 & 2.93                & 5.250               & 17.98               & 0                   & 0                   & 3                   & 4                   & 25.62500            & 9.615385            & 4                  \\\\\n",
       "\t Lincoln Continental & 10.4                & 8                   & 460.0               & 215                 & 3.00                & 5.424               & 17.82               & 0                   & 0                   & 3                   & 4                   & 26.87500            & 9.615385            & 4                  \\\\\n",
       "\t Chrysler Imperial   & 14.7                & 8                   & 440.0               & 230                 & 3.23                & 5.345               & 17.42               & 0                   & 0                   & 3                   & 4                   & 28.75000            & 6.802721            & 4                  \\\\\n",
       "\t Fiat 128            & 32.4                & 4                   &  78.7               &  66                 & 4.08                & 2.200               & 19.47               & 1                   & 1                   & 4                   & 1                   & 16.50000            & 3.086420            & 5                  \\\\\n",
       "\t Honda Civic         & 30.4                & 4                   &  75.7               &  52                 & 4.93                & 1.615               & 18.52               & 1                   & 1                   & 4                   & 2                   & 13.00000            & 3.289474            & 5                  \\\\\n",
       "\t Toyota Corolla      & 33.9                & 4                   &  71.1               &  65                 & 4.22                & 1.835               & 19.90               & 1                   & 1                   & 4                   & 1                   & 16.25000            & 2.949853            & 5                  \\\\\n",
       "\t Toyota Corona       & 21.5                & 4                   & 120.1               &  97                 & 3.70                & 2.465               & 20.01               & 1                   & 0                   & 3                   & 1                   & 24.25000            & 4.651163            & 4                  \\\\\n",
       "\t Dodge Challenger    & 15.5                & 8                   & 318.0               & 150                 & 2.76                & 3.520               & 16.87               & 0                   & 0                   & 3                   & 2                   & 18.75000            & 6.451613            & 4                  \\\\\n",
       "\t AMC Javelin         & 15.2                & 8                   & 304.0               & 150                 & 3.15                & 3.435               & 17.30               & 0                   & 0                   & 3                   & 2                   & 18.75000            & 6.578947            & 4                  \\\\\n",
       "\t Camaro Z28          & 13.3                & 8                   & 350.0               & 245                 & 3.73                & 3.840               & 15.41               & 0                   & 0                   & 3                   & 4                   & 30.62500            & 7.518797            & 4                  \\\\\n",
       "\t Pontiac Firebird    & 19.2                & 8                   & 400.0               & 175                 & 3.08                & 3.845               & 17.05               & 0                   & 0                   & 3                   & 2                   & 21.87500            & 5.208333            & 4                  \\\\\n",
       "\t Fiat X1-9           & 27.3                & 4                   &  79.0               &  66                 & 4.08                & 1.935               & 18.90               & 1                   & 1                   & 4                   & 1                   & 16.50000            & 3.663004            & 5                  \\\\\n",
       "\t Porsche 914-2       & 26.0                & 4                   & 120.3               &  91                 & 4.43                & 2.140               & 16.70               & 0                   & 1                   & 5                   & 2                   & 22.75000            & 3.846154            & 6                  \\\\\n",
       "\t Lotus Europa        & 30.4                & 4                   &  95.1               & 113                 & 3.77                & 1.513               & 16.90               & 1                   & 1                   & 5                   & 2                   & 28.25000            & 3.289474            & 6                  \\\\\n",
       "\t Ford Pantera L      & 15.8                & 8                   & 351.0               & 264                 & 4.22                & 3.170               & 14.50               & 0                   & 1                   & 5                   & 4                   & 33.00000            & 6.329114            & 6                  \\\\\n",
       "\t Ferrari Dino        & 19.7                & 6                   & 145.0               & 175                 & 3.62                & 2.770               & 15.50               & 0                   & 1                   & 5                   & 6                   & 29.16667            & 5.076142            & 6                  \\\\\n",
       "\t Maserati Bora       & 15.0                & 8                   & 301.0               & 335                 & 3.54                & 3.570               & 14.60               & 0                   & 1                   & 5                   & 8                   & 41.87500            & 6.666667            & 6                  \\\\\n",
       "\t Volvo 142E          & 21.4                & 4                   & 121.0               & 109                 & 4.11                & 2.780               & 18.60               & 1                   & 1                   & 4                   & 2                   & 27.25000            & 4.672897            & 5                  \\\\\n",
       "\\end{tabular}\n"
      ],
      "text/markdown": [
       "\n",
       "| car_name | mpg | cyl | disp | hp | drat | wt | qsec | vs | am | gear | carb | hp_cyl | gpm100 | +1 |\n",
       "|---|---|---|---|---|---|---|---|---|---|---|---|---|---|---|\n",
       "| Mazda RX4           | 21.0                | 6                   | 160.0               | 110                 | 3.90                | 2.620               | 16.46               | 0                   | 1                   | 4                   | 4                   | 18.33333            | 4.761905            | 5                   |\n",
       "| Mazda RX4 Wag       | 21.0                | 6                   | 160.0               | 110                 | 3.90                | 2.875               | 17.02               | 0                   | 1                   | 4                   | 4                   | 18.33333            | 4.761905            | 5                   |\n",
       "| Datsun 710          | 22.8                | 4                   | 108.0               |  93                 | 3.85                | 2.320               | 18.61               | 1                   | 1                   | 4                   | 1                   | 23.25000            | 4.385965            | 5                   |\n",
       "| Hornet 4 Drive      | 21.4                | 6                   | 258.0               | 110                 | 3.08                | 3.215               | 19.44               | 1                   | 0                   | 3                   | 1                   | 18.33333            | 4.672897            | 4                   |\n",
       "| Hornet Sportabout   | 18.7                | 8                   | 360.0               | 175                 | 3.15                | 3.440               | 17.02               | 0                   | 0                   | 3                   | 2                   | 21.87500            | 5.347594            | 4                   |\n",
       "| Valiant             | 18.1                | 6                   | 225.0               | 105                 | 2.76                | 3.460               | 20.22               | 1                   | 0                   | 3                   | 1                   | 17.50000            | 5.524862            | 4                   |\n",
       "| Duster 360          | 14.3                | 8                   | 360.0               | 245                 | 3.21                | 3.570               | 15.84               | 0                   | 0                   | 3                   | 4                   | 30.62500            | 6.993007            | 4                   |\n",
       "| Merc 240D           | 24.4                | 4                   | 146.7               |  62                 | 3.69                | 3.190               | 20.00               | 1                   | 0                   | 4                   | 2                   | 15.50000            | 4.098361            | 5                   |\n",
       "| Merc 230            | 22.8                | 4                   | 140.8               |  95                 | 3.92                | 3.150               | 22.90               | 1                   | 0                   | 4                   | 2                   | 23.75000            | 4.385965            | 5                   |\n",
       "| Merc 280            | 19.2                | 6                   | 167.6               | 123                 | 3.92                | 3.440               | 18.30               | 1                   | 0                   | 4                   | 4                   | 20.50000            | 5.208333            | 5                   |\n",
       "| Merc 280C           | 17.8                | 6                   | 167.6               | 123                 | 3.92                | 3.440               | 18.90               | 1                   | 0                   | 4                   | 4                   | 20.50000            | 5.617978            | 5                   |\n",
       "| Merc 450SE          | 16.4                | 8                   | 275.8               | 180                 | 3.07                | 4.070               | 17.40               | 0                   | 0                   | 3                   | 3                   | 22.50000            | 6.097561            | 4                   |\n",
       "| Merc 450SL          | 17.3                | 8                   | 275.8               | 180                 | 3.07                | 3.730               | 17.60               | 0                   | 0                   | 3                   | 3                   | 22.50000            | 5.780347            | 4                   |\n",
       "| Merc 450SLC         | 15.2                | 8                   | 275.8               | 180                 | 3.07                | 3.780               | 18.00               | 0                   | 0                   | 3                   | 3                   | 22.50000            | 6.578947            | 4                   |\n",
       "| Cadillac Fleetwood  | 10.4                | 8                   | 472.0               | 205                 | 2.93                | 5.250               | 17.98               | 0                   | 0                   | 3                   | 4                   | 25.62500            | 9.615385            | 4                   |\n",
       "| Lincoln Continental | 10.4                | 8                   | 460.0               | 215                 | 3.00                | 5.424               | 17.82               | 0                   | 0                   | 3                   | 4                   | 26.87500            | 9.615385            | 4                   |\n",
       "| Chrysler Imperial   | 14.7                | 8                   | 440.0               | 230                 | 3.23                | 5.345               | 17.42               | 0                   | 0                   | 3                   | 4                   | 28.75000            | 6.802721            | 4                   |\n",
       "| Fiat 128            | 32.4                | 4                   |  78.7               |  66                 | 4.08                | 2.200               | 19.47               | 1                   | 1                   | 4                   | 1                   | 16.50000            | 3.086420            | 5                   |\n",
       "| Honda Civic         | 30.4                | 4                   |  75.7               |  52                 | 4.93                | 1.615               | 18.52               | 1                   | 1                   | 4                   | 2                   | 13.00000            | 3.289474            | 5                   |\n",
       "| Toyota Corolla      | 33.9                | 4                   |  71.1               |  65                 | 4.22                | 1.835               | 19.90               | 1                   | 1                   | 4                   | 1                   | 16.25000            | 2.949853            | 5                   |\n",
       "| Toyota Corona       | 21.5                | 4                   | 120.1               |  97                 | 3.70                | 2.465               | 20.01               | 1                   | 0                   | 3                   | 1                   | 24.25000            | 4.651163            | 4                   |\n",
       "| Dodge Challenger    | 15.5                | 8                   | 318.0               | 150                 | 2.76                | 3.520               | 16.87               | 0                   | 0                   | 3                   | 2                   | 18.75000            | 6.451613            | 4                   |\n",
       "| AMC Javelin         | 15.2                | 8                   | 304.0               | 150                 | 3.15                | 3.435               | 17.30               | 0                   | 0                   | 3                   | 2                   | 18.75000            | 6.578947            | 4                   |\n",
       "| Camaro Z28          | 13.3                | 8                   | 350.0               | 245                 | 3.73                | 3.840               | 15.41               | 0                   | 0                   | 3                   | 4                   | 30.62500            | 7.518797            | 4                   |\n",
       "| Pontiac Firebird    | 19.2                | 8                   | 400.0               | 175                 | 3.08                | 3.845               | 17.05               | 0                   | 0                   | 3                   | 2                   | 21.87500            | 5.208333            | 4                   |\n",
       "| Fiat X1-9           | 27.3                | 4                   |  79.0               |  66                 | 4.08                | 1.935               | 18.90               | 1                   | 1                   | 4                   | 1                   | 16.50000            | 3.663004            | 5                   |\n",
       "| Porsche 914-2       | 26.0                | 4                   | 120.3               |  91                 | 4.43                | 2.140               | 16.70               | 0                   | 1                   | 5                   | 2                   | 22.75000            | 3.846154            | 6                   |\n",
       "| Lotus Europa        | 30.4                | 4                   |  95.1               | 113                 | 3.77                | 1.513               | 16.90               | 1                   | 1                   | 5                   | 2                   | 28.25000            | 3.289474            | 6                   |\n",
       "| Ford Pantera L      | 15.8                | 8                   | 351.0               | 264                 | 4.22                | 3.170               | 14.50               | 0                   | 1                   | 5                   | 4                   | 33.00000            | 6.329114            | 6                   |\n",
       "| Ferrari Dino        | 19.7                | 6                   | 145.0               | 175                 | 3.62                | 2.770               | 15.50               | 0                   | 1                   | 5                   | 6                   | 29.16667            | 5.076142            | 6                   |\n",
       "| Maserati Bora       | 15.0                | 8                   | 301.0               | 335                 | 3.54                | 3.570               | 14.60               | 0                   | 1                   | 5                   | 8                   | 41.87500            | 6.666667            | 6                   |\n",
       "| Volvo 142E          | 21.4                | 4                   | 121.0               | 109                 | 4.11                | 2.780               | 18.60               | 1                   | 1                   | 4                   | 2                   | 27.25000            | 4.672897            | 5                   |\n",
       "\n"
      ],
      "text/plain": [
       "   car_name            mpg  cyl disp  hp  drat wt    qsec  vs am gear carb\n",
       "1  Mazda RX4           21.0 6   160.0 110 3.90 2.620 16.46 0  1  4    4   \n",
       "2  Mazda RX4 Wag       21.0 6   160.0 110 3.90 2.875 17.02 0  1  4    4   \n",
       "3  Datsun 710          22.8 4   108.0  93 3.85 2.320 18.61 1  1  4    1   \n",
       "4  Hornet 4 Drive      21.4 6   258.0 110 3.08 3.215 19.44 1  0  3    1   \n",
       "5  Hornet Sportabout   18.7 8   360.0 175 3.15 3.440 17.02 0  0  3    2   \n",
       "6  Valiant             18.1 6   225.0 105 2.76 3.460 20.22 1  0  3    1   \n",
       "7  Duster 360          14.3 8   360.0 245 3.21 3.570 15.84 0  0  3    4   \n",
       "8  Merc 240D           24.4 4   146.7  62 3.69 3.190 20.00 1  0  4    2   \n",
       "9  Merc 230            22.8 4   140.8  95 3.92 3.150 22.90 1  0  4    2   \n",
       "10 Merc 280            19.2 6   167.6 123 3.92 3.440 18.30 1  0  4    4   \n",
       "11 Merc 280C           17.8 6   167.6 123 3.92 3.440 18.90 1  0  4    4   \n",
       "12 Merc 450SE          16.4 8   275.8 180 3.07 4.070 17.40 0  0  3    3   \n",
       "13 Merc 450SL          17.3 8   275.8 180 3.07 3.730 17.60 0  0  3    3   \n",
       "14 Merc 450SLC         15.2 8   275.8 180 3.07 3.780 18.00 0  0  3    3   \n",
       "15 Cadillac Fleetwood  10.4 8   472.0 205 2.93 5.250 17.98 0  0  3    4   \n",
       "16 Lincoln Continental 10.4 8   460.0 215 3.00 5.424 17.82 0  0  3    4   \n",
       "17 Chrysler Imperial   14.7 8   440.0 230 3.23 5.345 17.42 0  0  3    4   \n",
       "18 Fiat 128            32.4 4    78.7  66 4.08 2.200 19.47 1  1  4    1   \n",
       "19 Honda Civic         30.4 4    75.7  52 4.93 1.615 18.52 1  1  4    2   \n",
       "20 Toyota Corolla      33.9 4    71.1  65 4.22 1.835 19.90 1  1  4    1   \n",
       "21 Toyota Corona       21.5 4   120.1  97 3.70 2.465 20.01 1  0  3    1   \n",
       "22 Dodge Challenger    15.5 8   318.0 150 2.76 3.520 16.87 0  0  3    2   \n",
       "23 AMC Javelin         15.2 8   304.0 150 3.15 3.435 17.30 0  0  3    2   \n",
       "24 Camaro Z28          13.3 8   350.0 245 3.73 3.840 15.41 0  0  3    4   \n",
       "25 Pontiac Firebird    19.2 8   400.0 175 3.08 3.845 17.05 0  0  3    2   \n",
       "26 Fiat X1-9           27.3 4    79.0  66 4.08 1.935 18.90 1  1  4    1   \n",
       "27 Porsche 914-2       26.0 4   120.3  91 4.43 2.140 16.70 0  1  5    2   \n",
       "28 Lotus Europa        30.4 4    95.1 113 3.77 1.513 16.90 1  1  5    2   \n",
       "29 Ford Pantera L      15.8 8   351.0 264 4.22 3.170 14.50 0  1  5    4   \n",
       "30 Ferrari Dino        19.7 6   145.0 175 3.62 2.770 15.50 0  1  5    6   \n",
       "31 Maserati Bora       15.0 8   301.0 335 3.54 3.570 14.60 0  1  5    8   \n",
       "32 Volvo 142E          21.4 4   121.0 109 4.11 2.780 18.60 1  1  4    2   \n",
       "   hp_cyl   gpm100   +1\n",
       "1  18.33333 4.761905 5 \n",
       "2  18.33333 4.761905 5 \n",
       "3  23.25000 4.385965 5 \n",
       "4  18.33333 4.672897 4 \n",
       "5  21.87500 5.347594 4 \n",
       "6  17.50000 5.524862 4 \n",
       "7  30.62500 6.993007 4 \n",
       "8  15.50000 4.098361 5 \n",
       "9  23.75000 4.385965 5 \n",
       "10 20.50000 5.208333 5 \n",
       "11 20.50000 5.617978 5 \n",
       "12 22.50000 6.097561 4 \n",
       "13 22.50000 5.780347 4 \n",
       "14 22.50000 6.578947 4 \n",
       "15 25.62500 9.615385 4 \n",
       "16 26.87500 9.615385 4 \n",
       "17 28.75000 6.802721 4 \n",
       "18 16.50000 3.086420 5 \n",
       "19 13.00000 3.289474 5 \n",
       "20 16.25000 2.949853 5 \n",
       "21 24.25000 4.651163 4 \n",
       "22 18.75000 6.451613 4 \n",
       "23 18.75000 6.578947 4 \n",
       "24 30.62500 7.518797 4 \n",
       "25 21.87500 5.208333 4 \n",
       "26 16.50000 3.663004 5 \n",
       "27 22.75000 3.846154 6 \n",
       "28 28.25000 3.289474 6 \n",
       "29 33.00000 6.329114 6 \n",
       "30 29.16667 5.076142 6 \n",
       "31 41.87500 6.666667 6 \n",
       "32 27.25000 4.672897 5 "
      ]
     },
     "metadata": {},
     "output_type": "display_data"
    }
   ],
   "source": [
    "variable_name <- \"+1\"\n",
    "tbl_mtcars %>%\n",
    "    mutate(!!variable_name := gear + 1)"
   ]
  },
  {
   "cell_type": "code",
   "execution_count": 63,
   "metadata": {},
   "outputs": [
    {
     "data": {
      "text/html": [
       "<table>\n",
       "<thead><tr><th scope=col>car_name</th><th scope=col>mpg</th><th scope=col>cyl</th><th scope=col>disp</th><th scope=col>hp</th><th scope=col>drat</th><th scope=col>wt</th><th scope=col>qsec</th><th scope=col>vs</th><th scope=col>am</th><th scope=col>gear</th><th scope=col>carb</th><th scope=col>hp_cyl</th><th scope=col>gpm100</th><th scope=col>n</th></tr></thead>\n",
       "<tbody>\n",
       "\t<tr><td>Mazda RX4          </td><td>21.0               </td><td>6                  </td><td>160.0              </td><td>110                </td><td>3.90               </td><td>2.620              </td><td>16.46              </td><td>0                  </td><td>1                  </td><td>4                  </td><td>4                  </td><td>18.33333           </td><td>4.761905           </td><td>12                 </td></tr>\n",
       "\t<tr><td>Mazda RX4 Wag      </td><td>21.0               </td><td>6                  </td><td>160.0              </td><td>110                </td><td>3.90               </td><td>2.875              </td><td>17.02              </td><td>0                  </td><td>1                  </td><td>4                  </td><td>4                  </td><td>18.33333           </td><td>4.761905           </td><td>12                 </td></tr>\n",
       "\t<tr><td>Datsun 710         </td><td>22.8               </td><td>4                  </td><td>108.0              </td><td> 93                </td><td>3.85               </td><td>2.320              </td><td>18.61              </td><td>1                  </td><td>1                  </td><td>4                  </td><td>1                  </td><td>23.25000           </td><td>4.385965           </td><td>12                 </td></tr>\n",
       "\t<tr><td>Hornet 4 Drive     </td><td>21.4               </td><td>6                  </td><td>258.0              </td><td>110                </td><td>3.08               </td><td>3.215              </td><td>19.44              </td><td>1                  </td><td>0                  </td><td>3                  </td><td>1                  </td><td>18.33333           </td><td>4.672897           </td><td>15                 </td></tr>\n",
       "\t<tr><td>Hornet Sportabout  </td><td>18.7               </td><td>8                  </td><td>360.0              </td><td>175                </td><td>3.15               </td><td>3.440              </td><td>17.02              </td><td>0                  </td><td>0                  </td><td>3                  </td><td>2                  </td><td>21.87500           </td><td>5.347594           </td><td>15                 </td></tr>\n",
       "\t<tr><td>Valiant            </td><td>18.1               </td><td>6                  </td><td>225.0              </td><td>105                </td><td>2.76               </td><td>3.460              </td><td>20.22              </td><td>1                  </td><td>0                  </td><td>3                  </td><td>1                  </td><td>17.50000           </td><td>5.524862           </td><td>15                 </td></tr>\n",
       "\t<tr><td>Duster 360         </td><td>14.3               </td><td>8                  </td><td>360.0              </td><td>245                </td><td>3.21               </td><td>3.570              </td><td>15.84              </td><td>0                  </td><td>0                  </td><td>3                  </td><td>4                  </td><td>30.62500           </td><td>6.993007           </td><td>15                 </td></tr>\n",
       "\t<tr><td>Merc 240D          </td><td>24.4               </td><td>4                  </td><td>146.7              </td><td> 62                </td><td>3.69               </td><td>3.190              </td><td>20.00              </td><td>1                  </td><td>0                  </td><td>4                  </td><td>2                  </td><td>15.50000           </td><td>4.098361           </td><td>12                 </td></tr>\n",
       "\t<tr><td>Merc 230           </td><td>22.8               </td><td>4                  </td><td>140.8              </td><td> 95                </td><td>3.92               </td><td>3.150              </td><td>22.90              </td><td>1                  </td><td>0                  </td><td>4                  </td><td>2                  </td><td>23.75000           </td><td>4.385965           </td><td>12                 </td></tr>\n",
       "\t<tr><td>Merc 280           </td><td>19.2               </td><td>6                  </td><td>167.6              </td><td>123                </td><td>3.92               </td><td>3.440              </td><td>18.30              </td><td>1                  </td><td>0                  </td><td>4                  </td><td>4                  </td><td>20.50000           </td><td>5.208333           </td><td>12                 </td></tr>\n",
       "\t<tr><td>Merc 280C          </td><td>17.8               </td><td>6                  </td><td>167.6              </td><td>123                </td><td>3.92               </td><td>3.440              </td><td>18.90              </td><td>1                  </td><td>0                  </td><td>4                  </td><td>4                  </td><td>20.50000           </td><td>5.617978           </td><td>12                 </td></tr>\n",
       "\t<tr><td>Merc 450SE         </td><td>16.4               </td><td>8                  </td><td>275.8              </td><td>180                </td><td>3.07               </td><td>4.070              </td><td>17.40              </td><td>0                  </td><td>0                  </td><td>3                  </td><td>3                  </td><td>22.50000           </td><td>6.097561           </td><td>15                 </td></tr>\n",
       "\t<tr><td>Merc 450SL         </td><td>17.3               </td><td>8                  </td><td>275.8              </td><td>180                </td><td>3.07               </td><td>3.730              </td><td>17.60              </td><td>0                  </td><td>0                  </td><td>3                  </td><td>3                  </td><td>22.50000           </td><td>5.780347           </td><td>15                 </td></tr>\n",
       "\t<tr><td>Merc 450SLC        </td><td>15.2               </td><td>8                  </td><td>275.8              </td><td>180                </td><td>3.07               </td><td>3.780              </td><td>18.00              </td><td>0                  </td><td>0                  </td><td>3                  </td><td>3                  </td><td>22.50000           </td><td>6.578947           </td><td>15                 </td></tr>\n",
       "\t<tr><td>Cadillac Fleetwood </td><td>10.4               </td><td>8                  </td><td>472.0              </td><td>205                </td><td>2.93               </td><td>5.250              </td><td>17.98              </td><td>0                  </td><td>0                  </td><td>3                  </td><td>4                  </td><td>25.62500           </td><td>9.615385           </td><td>15                 </td></tr>\n",
       "\t<tr><td>Lincoln Continental</td><td>10.4               </td><td>8                  </td><td>460.0              </td><td>215                </td><td>3.00               </td><td>5.424              </td><td>17.82              </td><td>0                  </td><td>0                  </td><td>3                  </td><td>4                  </td><td>26.87500           </td><td>9.615385           </td><td>15                 </td></tr>\n",
       "\t<tr><td>Chrysler Imperial  </td><td>14.7               </td><td>8                  </td><td>440.0              </td><td>230                </td><td>3.23               </td><td>5.345              </td><td>17.42              </td><td>0                  </td><td>0                  </td><td>3                  </td><td>4                  </td><td>28.75000           </td><td>6.802721           </td><td>15                 </td></tr>\n",
       "\t<tr><td>Fiat 128           </td><td>32.4               </td><td>4                  </td><td> 78.7              </td><td> 66                </td><td>4.08               </td><td>2.200              </td><td>19.47              </td><td>1                  </td><td>1                  </td><td>4                  </td><td>1                  </td><td>16.50000           </td><td>3.086420           </td><td>12                 </td></tr>\n",
       "\t<tr><td>Honda Civic        </td><td>30.4               </td><td>4                  </td><td> 75.7              </td><td> 52                </td><td>4.93               </td><td>1.615              </td><td>18.52              </td><td>1                  </td><td>1                  </td><td>4                  </td><td>2                  </td><td>13.00000           </td><td>3.289474           </td><td>12                 </td></tr>\n",
       "\t<tr><td>Toyota Corolla     </td><td>33.9               </td><td>4                  </td><td> 71.1              </td><td> 65                </td><td>4.22               </td><td>1.835              </td><td>19.90              </td><td>1                  </td><td>1                  </td><td>4                  </td><td>1                  </td><td>16.25000           </td><td>2.949853           </td><td>12                 </td></tr>\n",
       "\t<tr><td>Toyota Corona      </td><td>21.5               </td><td>4                  </td><td>120.1              </td><td> 97                </td><td>3.70               </td><td>2.465              </td><td>20.01              </td><td>1                  </td><td>0                  </td><td>3                  </td><td>1                  </td><td>24.25000           </td><td>4.651163           </td><td>15                 </td></tr>\n",
       "\t<tr><td>Dodge Challenger   </td><td>15.5               </td><td>8                  </td><td>318.0              </td><td>150                </td><td>2.76               </td><td>3.520              </td><td>16.87              </td><td>0                  </td><td>0                  </td><td>3                  </td><td>2                  </td><td>18.75000           </td><td>6.451613           </td><td>15                 </td></tr>\n",
       "\t<tr><td>AMC Javelin        </td><td>15.2               </td><td>8                  </td><td>304.0              </td><td>150                </td><td>3.15               </td><td>3.435              </td><td>17.30              </td><td>0                  </td><td>0                  </td><td>3                  </td><td>2                  </td><td>18.75000           </td><td>6.578947           </td><td>15                 </td></tr>\n",
       "\t<tr><td>Camaro Z28         </td><td>13.3               </td><td>8                  </td><td>350.0              </td><td>245                </td><td>3.73               </td><td>3.840              </td><td>15.41              </td><td>0                  </td><td>0                  </td><td>3                  </td><td>4                  </td><td>30.62500           </td><td>7.518797           </td><td>15                 </td></tr>\n",
       "\t<tr><td>Pontiac Firebird   </td><td>19.2               </td><td>8                  </td><td>400.0              </td><td>175                </td><td>3.08               </td><td>3.845              </td><td>17.05              </td><td>0                  </td><td>0                  </td><td>3                  </td><td>2                  </td><td>21.87500           </td><td>5.208333           </td><td>15                 </td></tr>\n",
       "\t<tr><td>Fiat X1-9          </td><td>27.3               </td><td>4                  </td><td> 79.0              </td><td> 66                </td><td>4.08               </td><td>1.935              </td><td>18.90              </td><td>1                  </td><td>1                  </td><td>4                  </td><td>1                  </td><td>16.50000           </td><td>3.663004           </td><td>12                 </td></tr>\n",
       "\t<tr><td>Porsche 914-2      </td><td>26.0               </td><td>4                  </td><td>120.3              </td><td> 91                </td><td>4.43               </td><td>2.140              </td><td>16.70              </td><td>0                  </td><td>1                  </td><td>5                  </td><td>2                  </td><td>22.75000           </td><td>3.846154           </td><td> 5                 </td></tr>\n",
       "\t<tr><td>Lotus Europa       </td><td>30.4               </td><td>4                  </td><td> 95.1              </td><td>113                </td><td>3.77               </td><td>1.513              </td><td>16.90              </td><td>1                  </td><td>1                  </td><td>5                  </td><td>2                  </td><td>28.25000           </td><td>3.289474           </td><td> 5                 </td></tr>\n",
       "\t<tr><td>Ford Pantera L     </td><td>15.8               </td><td>8                  </td><td>351.0              </td><td>264                </td><td>4.22               </td><td>3.170              </td><td>14.50              </td><td>0                  </td><td>1                  </td><td>5                  </td><td>4                  </td><td>33.00000           </td><td>6.329114           </td><td> 5                 </td></tr>\n",
       "\t<tr><td>Ferrari Dino       </td><td>19.7               </td><td>6                  </td><td>145.0              </td><td>175                </td><td>3.62               </td><td>2.770              </td><td>15.50              </td><td>0                  </td><td>1                  </td><td>5                  </td><td>6                  </td><td>29.16667           </td><td>5.076142           </td><td> 5                 </td></tr>\n",
       "\t<tr><td>Maserati Bora      </td><td>15.0               </td><td>8                  </td><td>301.0              </td><td>335                </td><td>3.54               </td><td>3.570              </td><td>14.60              </td><td>0                  </td><td>1                  </td><td>5                  </td><td>8                  </td><td>41.87500           </td><td>6.666667           </td><td> 5                 </td></tr>\n",
       "\t<tr><td>Volvo 142E         </td><td>21.4               </td><td>4                  </td><td>121.0              </td><td>109                </td><td>4.11               </td><td>2.780              </td><td>18.60              </td><td>1                  </td><td>1                  </td><td>4                  </td><td>2                  </td><td>27.25000           </td><td>4.672897           </td><td>12                 </td></tr>\n",
       "</tbody>\n",
       "</table>\n"
      ],
      "text/latex": [
       "\\begin{tabular}{r|lllllllllllllll}\n",
       " car\\_name & mpg & cyl & disp & hp & drat & wt & qsec & vs & am & gear & carb & hp\\_cyl & gpm100 & n\\\\\n",
       "\\hline\n",
       "\t Mazda RX4           & 21.0                & 6                   & 160.0               & 110                 & 3.90                & 2.620               & 16.46               & 0                   & 1                   & 4                   & 4                   & 18.33333            & 4.761905            & 12                 \\\\\n",
       "\t Mazda RX4 Wag       & 21.0                & 6                   & 160.0               & 110                 & 3.90                & 2.875               & 17.02               & 0                   & 1                   & 4                   & 4                   & 18.33333            & 4.761905            & 12                 \\\\\n",
       "\t Datsun 710          & 22.8                & 4                   & 108.0               &  93                 & 3.85                & 2.320               & 18.61               & 1                   & 1                   & 4                   & 1                   & 23.25000            & 4.385965            & 12                 \\\\\n",
       "\t Hornet 4 Drive      & 21.4                & 6                   & 258.0               & 110                 & 3.08                & 3.215               & 19.44               & 1                   & 0                   & 3                   & 1                   & 18.33333            & 4.672897            & 15                 \\\\\n",
       "\t Hornet Sportabout   & 18.7                & 8                   & 360.0               & 175                 & 3.15                & 3.440               & 17.02               & 0                   & 0                   & 3                   & 2                   & 21.87500            & 5.347594            & 15                 \\\\\n",
       "\t Valiant             & 18.1                & 6                   & 225.0               & 105                 & 2.76                & 3.460               & 20.22               & 1                   & 0                   & 3                   & 1                   & 17.50000            & 5.524862            & 15                 \\\\\n",
       "\t Duster 360          & 14.3                & 8                   & 360.0               & 245                 & 3.21                & 3.570               & 15.84               & 0                   & 0                   & 3                   & 4                   & 30.62500            & 6.993007            & 15                 \\\\\n",
       "\t Merc 240D           & 24.4                & 4                   & 146.7               &  62                 & 3.69                & 3.190               & 20.00               & 1                   & 0                   & 4                   & 2                   & 15.50000            & 4.098361            & 12                 \\\\\n",
       "\t Merc 230            & 22.8                & 4                   & 140.8               &  95                 & 3.92                & 3.150               & 22.90               & 1                   & 0                   & 4                   & 2                   & 23.75000            & 4.385965            & 12                 \\\\\n",
       "\t Merc 280            & 19.2                & 6                   & 167.6               & 123                 & 3.92                & 3.440               & 18.30               & 1                   & 0                   & 4                   & 4                   & 20.50000            & 5.208333            & 12                 \\\\\n",
       "\t Merc 280C           & 17.8                & 6                   & 167.6               & 123                 & 3.92                & 3.440               & 18.90               & 1                   & 0                   & 4                   & 4                   & 20.50000            & 5.617978            & 12                 \\\\\n",
       "\t Merc 450SE          & 16.4                & 8                   & 275.8               & 180                 & 3.07                & 4.070               & 17.40               & 0                   & 0                   & 3                   & 3                   & 22.50000            & 6.097561            & 15                 \\\\\n",
       "\t Merc 450SL          & 17.3                & 8                   & 275.8               & 180                 & 3.07                & 3.730               & 17.60               & 0                   & 0                   & 3                   & 3                   & 22.50000            & 5.780347            & 15                 \\\\\n",
       "\t Merc 450SLC         & 15.2                & 8                   & 275.8               & 180                 & 3.07                & 3.780               & 18.00               & 0                   & 0                   & 3                   & 3                   & 22.50000            & 6.578947            & 15                 \\\\\n",
       "\t Cadillac Fleetwood  & 10.4                & 8                   & 472.0               & 205                 & 2.93                & 5.250               & 17.98               & 0                   & 0                   & 3                   & 4                   & 25.62500            & 9.615385            & 15                 \\\\\n",
       "\t Lincoln Continental & 10.4                & 8                   & 460.0               & 215                 & 3.00                & 5.424               & 17.82               & 0                   & 0                   & 3                   & 4                   & 26.87500            & 9.615385            & 15                 \\\\\n",
       "\t Chrysler Imperial   & 14.7                & 8                   & 440.0               & 230                 & 3.23                & 5.345               & 17.42               & 0                   & 0                   & 3                   & 4                   & 28.75000            & 6.802721            & 15                 \\\\\n",
       "\t Fiat 128            & 32.4                & 4                   &  78.7               &  66                 & 4.08                & 2.200               & 19.47               & 1                   & 1                   & 4                   & 1                   & 16.50000            & 3.086420            & 12                 \\\\\n",
       "\t Honda Civic         & 30.4                & 4                   &  75.7               &  52                 & 4.93                & 1.615               & 18.52               & 1                   & 1                   & 4                   & 2                   & 13.00000            & 3.289474            & 12                 \\\\\n",
       "\t Toyota Corolla      & 33.9                & 4                   &  71.1               &  65                 & 4.22                & 1.835               & 19.90               & 1                   & 1                   & 4                   & 1                   & 16.25000            & 2.949853            & 12                 \\\\\n",
       "\t Toyota Corona       & 21.5                & 4                   & 120.1               &  97                 & 3.70                & 2.465               & 20.01               & 1                   & 0                   & 3                   & 1                   & 24.25000            & 4.651163            & 15                 \\\\\n",
       "\t Dodge Challenger    & 15.5                & 8                   & 318.0               & 150                 & 2.76                & 3.520               & 16.87               & 0                   & 0                   & 3                   & 2                   & 18.75000            & 6.451613            & 15                 \\\\\n",
       "\t AMC Javelin         & 15.2                & 8                   & 304.0               & 150                 & 3.15                & 3.435               & 17.30               & 0                   & 0                   & 3                   & 2                   & 18.75000            & 6.578947            & 15                 \\\\\n",
       "\t Camaro Z28          & 13.3                & 8                   & 350.0               & 245                 & 3.73                & 3.840               & 15.41               & 0                   & 0                   & 3                   & 4                   & 30.62500            & 7.518797            & 15                 \\\\\n",
       "\t Pontiac Firebird    & 19.2                & 8                   & 400.0               & 175                 & 3.08                & 3.845               & 17.05               & 0                   & 0                   & 3                   & 2                   & 21.87500            & 5.208333            & 15                 \\\\\n",
       "\t Fiat X1-9           & 27.3                & 4                   &  79.0               &  66                 & 4.08                & 1.935               & 18.90               & 1                   & 1                   & 4                   & 1                   & 16.50000            & 3.663004            & 12                 \\\\\n",
       "\t Porsche 914-2       & 26.0                & 4                   & 120.3               &  91                 & 4.43                & 2.140               & 16.70               & 0                   & 1                   & 5                   & 2                   & 22.75000            & 3.846154            &  5                 \\\\\n",
       "\t Lotus Europa        & 30.4                & 4                   &  95.1               & 113                 & 3.77                & 1.513               & 16.90               & 1                   & 1                   & 5                   & 2                   & 28.25000            & 3.289474            &  5                 \\\\\n",
       "\t Ford Pantera L      & 15.8                & 8                   & 351.0               & 264                 & 4.22                & 3.170               & 14.50               & 0                   & 1                   & 5                   & 4                   & 33.00000            & 6.329114            &  5                 \\\\\n",
       "\t Ferrari Dino        & 19.7                & 6                   & 145.0               & 175                 & 3.62                & 2.770               & 15.50               & 0                   & 1                   & 5                   & 6                   & 29.16667            & 5.076142            &  5                 \\\\\n",
       "\t Maserati Bora       & 15.0                & 8                   & 301.0               & 335                 & 3.54                & 3.570               & 14.60               & 0                   & 1                   & 5                   & 8                   & 41.87500            & 6.666667            &  5                 \\\\\n",
       "\t Volvo 142E          & 21.4                & 4                   & 121.0               & 109                 & 4.11                & 2.780               & 18.60               & 1                   & 1                   & 4                   & 2                   & 27.25000            & 4.672897            & 12                 \\\\\n",
       "\\end{tabular}\n"
      ],
      "text/markdown": [
       "\n",
       "| car_name | mpg | cyl | disp | hp | drat | wt | qsec | vs | am | gear | carb | hp_cyl | gpm100 | n |\n",
       "|---|---|---|---|---|---|---|---|---|---|---|---|---|---|---|\n",
       "| Mazda RX4           | 21.0                | 6                   | 160.0               | 110                 | 3.90                | 2.620               | 16.46               | 0                   | 1                   | 4                   | 4                   | 18.33333            | 4.761905            | 12                  |\n",
       "| Mazda RX4 Wag       | 21.0                | 6                   | 160.0               | 110                 | 3.90                | 2.875               | 17.02               | 0                   | 1                   | 4                   | 4                   | 18.33333            | 4.761905            | 12                  |\n",
       "| Datsun 710          | 22.8                | 4                   | 108.0               |  93                 | 3.85                | 2.320               | 18.61               | 1                   | 1                   | 4                   | 1                   | 23.25000            | 4.385965            | 12                  |\n",
       "| Hornet 4 Drive      | 21.4                | 6                   | 258.0               | 110                 | 3.08                | 3.215               | 19.44               | 1                   | 0                   | 3                   | 1                   | 18.33333            | 4.672897            | 15                  |\n",
       "| Hornet Sportabout   | 18.7                | 8                   | 360.0               | 175                 | 3.15                | 3.440               | 17.02               | 0                   | 0                   | 3                   | 2                   | 21.87500            | 5.347594            | 15                  |\n",
       "| Valiant             | 18.1                | 6                   | 225.0               | 105                 | 2.76                | 3.460               | 20.22               | 1                   | 0                   | 3                   | 1                   | 17.50000            | 5.524862            | 15                  |\n",
       "| Duster 360          | 14.3                | 8                   | 360.0               | 245                 | 3.21                | 3.570               | 15.84               | 0                   | 0                   | 3                   | 4                   | 30.62500            | 6.993007            | 15                  |\n",
       "| Merc 240D           | 24.4                | 4                   | 146.7               |  62                 | 3.69                | 3.190               | 20.00               | 1                   | 0                   | 4                   | 2                   | 15.50000            | 4.098361            | 12                  |\n",
       "| Merc 230            | 22.8                | 4                   | 140.8               |  95                 | 3.92                | 3.150               | 22.90               | 1                   | 0                   | 4                   | 2                   | 23.75000            | 4.385965            | 12                  |\n",
       "| Merc 280            | 19.2                | 6                   | 167.6               | 123                 | 3.92                | 3.440               | 18.30               | 1                   | 0                   | 4                   | 4                   | 20.50000            | 5.208333            | 12                  |\n",
       "| Merc 280C           | 17.8                | 6                   | 167.6               | 123                 | 3.92                | 3.440               | 18.90               | 1                   | 0                   | 4                   | 4                   | 20.50000            | 5.617978            | 12                  |\n",
       "| Merc 450SE          | 16.4                | 8                   | 275.8               | 180                 | 3.07                | 4.070               | 17.40               | 0                   | 0                   | 3                   | 3                   | 22.50000            | 6.097561            | 15                  |\n",
       "| Merc 450SL          | 17.3                | 8                   | 275.8               | 180                 | 3.07                | 3.730               | 17.60               | 0                   | 0                   | 3                   | 3                   | 22.50000            | 5.780347            | 15                  |\n",
       "| Merc 450SLC         | 15.2                | 8                   | 275.8               | 180                 | 3.07                | 3.780               | 18.00               | 0                   | 0                   | 3                   | 3                   | 22.50000            | 6.578947            | 15                  |\n",
       "| Cadillac Fleetwood  | 10.4                | 8                   | 472.0               | 205                 | 2.93                | 5.250               | 17.98               | 0                   | 0                   | 3                   | 4                   | 25.62500            | 9.615385            | 15                  |\n",
       "| Lincoln Continental | 10.4                | 8                   | 460.0               | 215                 | 3.00                | 5.424               | 17.82               | 0                   | 0                   | 3                   | 4                   | 26.87500            | 9.615385            | 15                  |\n",
       "| Chrysler Imperial   | 14.7                | 8                   | 440.0               | 230                 | 3.23                | 5.345               | 17.42               | 0                   | 0                   | 3                   | 4                   | 28.75000            | 6.802721            | 15                  |\n",
       "| Fiat 128            | 32.4                | 4                   |  78.7               |  66                 | 4.08                | 2.200               | 19.47               | 1                   | 1                   | 4                   | 1                   | 16.50000            | 3.086420            | 12                  |\n",
       "| Honda Civic         | 30.4                | 4                   |  75.7               |  52                 | 4.93                | 1.615               | 18.52               | 1                   | 1                   | 4                   | 2                   | 13.00000            | 3.289474            | 12                  |\n",
       "| Toyota Corolla      | 33.9                | 4                   |  71.1               |  65                 | 4.22                | 1.835               | 19.90               | 1                   | 1                   | 4                   | 1                   | 16.25000            | 2.949853            | 12                  |\n",
       "| Toyota Corona       | 21.5                | 4                   | 120.1               |  97                 | 3.70                | 2.465               | 20.01               | 1                   | 0                   | 3                   | 1                   | 24.25000            | 4.651163            | 15                  |\n",
       "| Dodge Challenger    | 15.5                | 8                   | 318.0               | 150                 | 2.76                | 3.520               | 16.87               | 0                   | 0                   | 3                   | 2                   | 18.75000            | 6.451613            | 15                  |\n",
       "| AMC Javelin         | 15.2                | 8                   | 304.0               | 150                 | 3.15                | 3.435               | 17.30               | 0                   | 0                   | 3                   | 2                   | 18.75000            | 6.578947            | 15                  |\n",
       "| Camaro Z28          | 13.3                | 8                   | 350.0               | 245                 | 3.73                | 3.840               | 15.41               | 0                   | 0                   | 3                   | 4                   | 30.62500            | 7.518797            | 15                  |\n",
       "| Pontiac Firebird    | 19.2                | 8                   | 400.0               | 175                 | 3.08                | 3.845               | 17.05               | 0                   | 0                   | 3                   | 2                   | 21.87500            | 5.208333            | 15                  |\n",
       "| Fiat X1-9           | 27.3                | 4                   |  79.0               |  66                 | 4.08                | 1.935               | 18.90               | 1                   | 1                   | 4                   | 1                   | 16.50000            | 3.663004            | 12                  |\n",
       "| Porsche 914-2       | 26.0                | 4                   | 120.3               |  91                 | 4.43                | 2.140               | 16.70               | 0                   | 1                   | 5                   | 2                   | 22.75000            | 3.846154            |  5                  |\n",
       "| Lotus Europa        | 30.4                | 4                   |  95.1               | 113                 | 3.77                | 1.513               | 16.90               | 1                   | 1                   | 5                   | 2                   | 28.25000            | 3.289474            |  5                  |\n",
       "| Ford Pantera L      | 15.8                | 8                   | 351.0               | 264                 | 4.22                | 3.170               | 14.50               | 0                   | 1                   | 5                   | 4                   | 33.00000            | 6.329114            |  5                  |\n",
       "| Ferrari Dino        | 19.7                | 6                   | 145.0               | 175                 | 3.62                | 2.770               | 15.50               | 0                   | 1                   | 5                   | 6                   | 29.16667            | 5.076142            |  5                  |\n",
       "| Maserati Bora       | 15.0                | 8                   | 301.0               | 335                 | 3.54                | 3.570               | 14.60               | 0                   | 1                   | 5                   | 8                   | 41.87500            | 6.666667            |  5                  |\n",
       "| Volvo 142E          | 21.4                | 4                   | 121.0               | 109                 | 4.11                | 2.780               | 18.60               | 1                   | 1                   | 4                   | 2                   | 27.25000            | 4.672897            | 12                  |\n",
       "\n"
      ],
      "text/plain": [
       "   car_name            mpg  cyl disp  hp  drat wt    qsec  vs am gear carb\n",
       "1  Mazda RX4           21.0 6   160.0 110 3.90 2.620 16.46 0  1  4    4   \n",
       "2  Mazda RX4 Wag       21.0 6   160.0 110 3.90 2.875 17.02 0  1  4    4   \n",
       "3  Datsun 710          22.8 4   108.0  93 3.85 2.320 18.61 1  1  4    1   \n",
       "4  Hornet 4 Drive      21.4 6   258.0 110 3.08 3.215 19.44 1  0  3    1   \n",
       "5  Hornet Sportabout   18.7 8   360.0 175 3.15 3.440 17.02 0  0  3    2   \n",
       "6  Valiant             18.1 6   225.0 105 2.76 3.460 20.22 1  0  3    1   \n",
       "7  Duster 360          14.3 8   360.0 245 3.21 3.570 15.84 0  0  3    4   \n",
       "8  Merc 240D           24.4 4   146.7  62 3.69 3.190 20.00 1  0  4    2   \n",
       "9  Merc 230            22.8 4   140.8  95 3.92 3.150 22.90 1  0  4    2   \n",
       "10 Merc 280            19.2 6   167.6 123 3.92 3.440 18.30 1  0  4    4   \n",
       "11 Merc 280C           17.8 6   167.6 123 3.92 3.440 18.90 1  0  4    4   \n",
       "12 Merc 450SE          16.4 8   275.8 180 3.07 4.070 17.40 0  0  3    3   \n",
       "13 Merc 450SL          17.3 8   275.8 180 3.07 3.730 17.60 0  0  3    3   \n",
       "14 Merc 450SLC         15.2 8   275.8 180 3.07 3.780 18.00 0  0  3    3   \n",
       "15 Cadillac Fleetwood  10.4 8   472.0 205 2.93 5.250 17.98 0  0  3    4   \n",
       "16 Lincoln Continental 10.4 8   460.0 215 3.00 5.424 17.82 0  0  3    4   \n",
       "17 Chrysler Imperial   14.7 8   440.0 230 3.23 5.345 17.42 0  0  3    4   \n",
       "18 Fiat 128            32.4 4    78.7  66 4.08 2.200 19.47 1  1  4    1   \n",
       "19 Honda Civic         30.4 4    75.7  52 4.93 1.615 18.52 1  1  4    2   \n",
       "20 Toyota Corolla      33.9 4    71.1  65 4.22 1.835 19.90 1  1  4    1   \n",
       "21 Toyota Corona       21.5 4   120.1  97 3.70 2.465 20.01 1  0  3    1   \n",
       "22 Dodge Challenger    15.5 8   318.0 150 2.76 3.520 16.87 0  0  3    2   \n",
       "23 AMC Javelin         15.2 8   304.0 150 3.15 3.435 17.30 0  0  3    2   \n",
       "24 Camaro Z28          13.3 8   350.0 245 3.73 3.840 15.41 0  0  3    4   \n",
       "25 Pontiac Firebird    19.2 8   400.0 175 3.08 3.845 17.05 0  0  3    2   \n",
       "26 Fiat X1-9           27.3 4    79.0  66 4.08 1.935 18.90 1  1  4    1   \n",
       "27 Porsche 914-2       26.0 4   120.3  91 4.43 2.140 16.70 0  1  5    2   \n",
       "28 Lotus Europa        30.4 4    95.1 113 3.77 1.513 16.90 1  1  5    2   \n",
       "29 Ford Pantera L      15.8 8   351.0 264 4.22 3.170 14.50 0  1  5    4   \n",
       "30 Ferrari Dino        19.7 6   145.0 175 3.62 2.770 15.50 0  1  5    6   \n",
       "31 Maserati Bora       15.0 8   301.0 335 3.54 3.570 14.60 0  1  5    8   \n",
       "32 Volvo 142E          21.4 4   121.0 109 4.11 2.780 18.60 1  1  4    2   \n",
       "   hp_cyl   gpm100   n \n",
       "1  18.33333 4.761905 12\n",
       "2  18.33333 4.761905 12\n",
       "3  23.25000 4.385965 12\n",
       "4  18.33333 4.672897 15\n",
       "5  21.87500 5.347594 15\n",
       "6  17.50000 5.524862 15\n",
       "7  30.62500 6.993007 15\n",
       "8  15.50000 4.098361 12\n",
       "9  23.75000 4.385965 12\n",
       "10 20.50000 5.208333 12\n",
       "11 20.50000 5.617978 12\n",
       "12 22.50000 6.097561 15\n",
       "13 22.50000 5.780347 15\n",
       "14 22.50000 6.578947 15\n",
       "15 25.62500 9.615385 15\n",
       "16 26.87500 9.615385 15\n",
       "17 28.75000 6.802721 15\n",
       "18 16.50000 3.086420 12\n",
       "19 13.00000 3.289474 12\n",
       "20 16.25000 2.949853 12\n",
       "21 24.25000 4.651163 15\n",
       "22 18.75000 6.451613 15\n",
       "23 18.75000 6.578947 15\n",
       "24 30.62500 7.518797 15\n",
       "25 21.87500 5.208333 15\n",
       "26 16.50000 3.663004 12\n",
       "27 22.75000 3.846154  5\n",
       "28 28.25000 3.289474  5\n",
       "29 33.00000 6.329114  5\n",
       "30 29.16667 5.076142  5\n",
       "31 41.87500 6.666667  5\n",
       "32 27.25000 4.672897 12"
      ]
     },
     "metadata": {},
     "output_type": "display_data"
    }
   ],
   "source": [
    "tbl_mtcars %>%\n",
    "    add_count(gear)"
   ]
  },
  {
   "cell_type": "markdown",
   "metadata": {},
   "source": [
    "### Aggregating, grouping, summarizing"
   ]
  },
  {
   "cell_type": "code",
   "execution_count": 64,
   "metadata": {},
   "outputs": [
    {
     "data": {
      "text/html": [
       "<table>\n",
       "<thead><tr><th scope=col>cyl</th></tr></thead>\n",
       "<tbody>\n",
       "\t<tr><td>6</td></tr>\n",
       "\t<tr><td>4</td></tr>\n",
       "\t<tr><td>8</td></tr>\n",
       "</tbody>\n",
       "</table>\n"
      ],
      "text/latex": [
       "\\begin{tabular}{r|l}\n",
       " cyl\\\\\n",
       "\\hline\n",
       "\t 6\\\\\n",
       "\t 4\\\\\n",
       "\t 8\\\\\n",
       "\\end{tabular}\n"
      ],
      "text/markdown": [
       "\n",
       "| cyl |\n",
       "|---|\n",
       "| 6 |\n",
       "| 4 |\n",
       "| 8 |\n",
       "\n"
      ],
      "text/plain": [
       "  cyl\n",
       "1 6  \n",
       "2 4  \n",
       "3 8  "
      ]
     },
     "metadata": {},
     "output_type": "display_data"
    }
   ],
   "source": [
    "mtcars %>%\n",
    "    distinct(cyl)"
   ]
  },
  {
   "cell_type": "code",
   "execution_count": 65,
   "metadata": {},
   "outputs": [
    {
     "data": {
      "text/html": [
       "<table>\n",
       "<thead><tr><th scope=col>cyl</th><th scope=col>gear</th></tr></thead>\n",
       "<tbody>\n",
       "\t<tr><td>6</td><td>4</td></tr>\n",
       "\t<tr><td>4</td><td>4</td></tr>\n",
       "\t<tr><td>6</td><td>3</td></tr>\n",
       "\t<tr><td>8</td><td>3</td></tr>\n",
       "\t<tr><td>4</td><td>3</td></tr>\n",
       "\t<tr><td>4</td><td>5</td></tr>\n",
       "\t<tr><td>8</td><td>5</td></tr>\n",
       "\t<tr><td>6</td><td>5</td></tr>\n",
       "</tbody>\n",
       "</table>\n"
      ],
      "text/latex": [
       "\\begin{tabular}{r|ll}\n",
       " cyl & gear\\\\\n",
       "\\hline\n",
       "\t 6 & 4\\\\\n",
       "\t 4 & 4\\\\\n",
       "\t 6 & 3\\\\\n",
       "\t 8 & 3\\\\\n",
       "\t 4 & 3\\\\\n",
       "\t 4 & 5\\\\\n",
       "\t 8 & 5\\\\\n",
       "\t 6 & 5\\\\\n",
       "\\end{tabular}\n"
      ],
      "text/markdown": [
       "\n",
       "| cyl | gear |\n",
       "|---|---|\n",
       "| 6 | 4 |\n",
       "| 4 | 4 |\n",
       "| 6 | 3 |\n",
       "| 8 | 3 |\n",
       "| 4 | 3 |\n",
       "| 4 | 5 |\n",
       "| 8 | 5 |\n",
       "| 6 | 5 |\n",
       "\n"
      ],
      "text/plain": [
       "  cyl gear\n",
       "1 6   4   \n",
       "2 4   4   \n",
       "3 6   3   \n",
       "4 8   3   \n",
       "5 4   3   \n",
       "6 4   5   \n",
       "7 8   5   \n",
       "8 6   5   "
      ]
     },
     "metadata": {},
     "output_type": "display_data"
    }
   ],
   "source": [
    "mtcars %>%\n",
    "    distinct(cyl, gear)"
   ]
  },
  {
   "cell_type": "code",
   "execution_count": 66,
   "metadata": {},
   "outputs": [
    {
     "data": {
      "text/html": [
       "<table>\n",
       "<thead><tr><th scope=col>cyl</th><th scope=col>min_hp</th><th scope=col>mean_hp</th><th scope=col>max_hp</th><th scope=col>count</th></tr></thead>\n",
       "<tbody>\n",
       "\t<tr><td>4        </td><td> 52      </td><td> 82.63636</td><td>113      </td><td>11       </td></tr>\n",
       "\t<tr><td>6        </td><td>105      </td><td>122.28571</td><td>175      </td><td> 7       </td></tr>\n",
       "\t<tr><td>8        </td><td>150      </td><td>209.21429</td><td>335      </td><td>14       </td></tr>\n",
       "</tbody>\n",
       "</table>\n"
      ],
      "text/latex": [
       "\\begin{tabular}{r|lllll}\n",
       " cyl & min\\_hp & mean\\_hp & max\\_hp & count\\\\\n",
       "\\hline\n",
       "\t 4         &  52       &  82.63636 & 113       & 11       \\\\\n",
       "\t 6         & 105       & 122.28571 & 175       &  7       \\\\\n",
       "\t 8         & 150       & 209.21429 & 335       & 14       \\\\\n",
       "\\end{tabular}\n"
      ],
      "text/markdown": [
       "\n",
       "| cyl | min_hp | mean_hp | max_hp | count |\n",
       "|---|---|---|---|---|\n",
       "| 4         |  52       |  82.63636 | 113       | 11        |\n",
       "| 6         | 105       | 122.28571 | 175       |  7        |\n",
       "| 8         | 150       | 209.21429 | 335       | 14        |\n",
       "\n"
      ],
      "text/plain": [
       "  cyl min_hp mean_hp   max_hp count\n",
       "1 4    52     82.63636 113    11   \n",
       "2 6   105    122.28571 175     7   \n",
       "3 8   150    209.21429 335    14   "
      ]
     },
     "metadata": {},
     "output_type": "display_data"
    }
   ],
   "source": [
    "mtcars %>%\n",
    "    group_by(cyl) %>%\n",
    "    summarize(min_hp = min(hp),\n",
    "              mean_hp = mean(hp),\n",
    "              max_hp = max(hp),\n",
    "              count = n())"
   ]
  },
  {
   "cell_type": "code",
   "execution_count": 67,
   "metadata": {},
   "outputs": [
    {
     "data": {
      "text/html": [
       "<table>\n",
       "<thead><tr><th scope=col>cyl</th><th scope=col>disp</th><th scope=col>min_hp</th><th scope=col>mean_hp</th><th scope=col>max_hp</th><th scope=col>count</th></tr></thead>\n",
       "<tbody>\n",
       "\t<tr><td>4    </td><td> 71.1</td><td> 65  </td><td> 65  </td><td> 65  </td><td>1    </td></tr>\n",
       "\t<tr><td>4    </td><td> 75.7</td><td> 52  </td><td> 52  </td><td> 52  </td><td>1    </td></tr>\n",
       "\t<tr><td>4    </td><td> 78.7</td><td> 66  </td><td> 66  </td><td> 66  </td><td>1    </td></tr>\n",
       "\t<tr><td>4    </td><td> 79.0</td><td> 66  </td><td> 66  </td><td> 66  </td><td>1    </td></tr>\n",
       "\t<tr><td>4    </td><td> 95.1</td><td>113  </td><td>113  </td><td>113  </td><td>1    </td></tr>\n",
       "\t<tr><td>4    </td><td>108.0</td><td> 93  </td><td> 93  </td><td> 93  </td><td>1    </td></tr>\n",
       "\t<tr><td>4    </td><td>120.1</td><td> 97  </td><td> 97  </td><td> 97  </td><td>1    </td></tr>\n",
       "\t<tr><td>4    </td><td>120.3</td><td> 91  </td><td> 91  </td><td> 91  </td><td>1    </td></tr>\n",
       "\t<tr><td>4    </td><td>121.0</td><td>109  </td><td>109  </td><td>109  </td><td>1    </td></tr>\n",
       "\t<tr><td>4    </td><td>140.8</td><td> 95  </td><td> 95  </td><td> 95  </td><td>1    </td></tr>\n",
       "\t<tr><td>4    </td><td>146.7</td><td> 62  </td><td> 62  </td><td> 62  </td><td>1    </td></tr>\n",
       "\t<tr><td>6    </td><td>145.0</td><td>175  </td><td>175  </td><td>175  </td><td>1    </td></tr>\n",
       "\t<tr><td>6    </td><td>160.0</td><td>110  </td><td>110  </td><td>110  </td><td>2    </td></tr>\n",
       "\t<tr><td>6    </td><td>167.6</td><td>123  </td><td>123  </td><td>123  </td><td>2    </td></tr>\n",
       "\t<tr><td>6    </td><td>225.0</td><td>105  </td><td>105  </td><td>105  </td><td>1    </td></tr>\n",
       "\t<tr><td>6    </td><td>258.0</td><td>110  </td><td>110  </td><td>110  </td><td>1    </td></tr>\n",
       "\t<tr><td>8    </td><td>275.8</td><td>180  </td><td>180  </td><td>180  </td><td>3    </td></tr>\n",
       "\t<tr><td>8    </td><td>301.0</td><td>335  </td><td>335  </td><td>335  </td><td>1    </td></tr>\n",
       "\t<tr><td>8    </td><td>304.0</td><td>150  </td><td>150  </td><td>150  </td><td>1    </td></tr>\n",
       "\t<tr><td>8    </td><td>318.0</td><td>150  </td><td>150  </td><td>150  </td><td>1    </td></tr>\n",
       "\t<tr><td>8    </td><td>350.0</td><td>245  </td><td>245  </td><td>245  </td><td>1    </td></tr>\n",
       "\t<tr><td>8    </td><td>351.0</td><td>264  </td><td>264  </td><td>264  </td><td>1    </td></tr>\n",
       "\t<tr><td>8    </td><td>360.0</td><td>175  </td><td>210  </td><td>245  </td><td>2    </td></tr>\n",
       "\t<tr><td>8    </td><td>400.0</td><td>175  </td><td>175  </td><td>175  </td><td>1    </td></tr>\n",
       "\t<tr><td>8    </td><td>440.0</td><td>230  </td><td>230  </td><td>230  </td><td>1    </td></tr>\n",
       "\t<tr><td>8    </td><td>460.0</td><td>215  </td><td>215  </td><td>215  </td><td>1    </td></tr>\n",
       "\t<tr><td>8    </td><td>472.0</td><td>205  </td><td>205  </td><td>205  </td><td>1    </td></tr>\n",
       "</tbody>\n",
       "</table>\n"
      ],
      "text/latex": [
       "\\begin{tabular}{r|llllll}\n",
       " cyl & disp & min\\_hp & mean\\_hp & max\\_hp & count\\\\\n",
       "\\hline\n",
       "\t 4     &  71.1 &  65   &  65   &  65   & 1    \\\\\n",
       "\t 4     &  75.7 &  52   &  52   &  52   & 1    \\\\\n",
       "\t 4     &  78.7 &  66   &  66   &  66   & 1    \\\\\n",
       "\t 4     &  79.0 &  66   &  66   &  66   & 1    \\\\\n",
       "\t 4     &  95.1 & 113   & 113   & 113   & 1    \\\\\n",
       "\t 4     & 108.0 &  93   &  93   &  93   & 1    \\\\\n",
       "\t 4     & 120.1 &  97   &  97   &  97   & 1    \\\\\n",
       "\t 4     & 120.3 &  91   &  91   &  91   & 1    \\\\\n",
       "\t 4     & 121.0 & 109   & 109   & 109   & 1    \\\\\n",
       "\t 4     & 140.8 &  95   &  95   &  95   & 1    \\\\\n",
       "\t 4     & 146.7 &  62   &  62   &  62   & 1    \\\\\n",
       "\t 6     & 145.0 & 175   & 175   & 175   & 1    \\\\\n",
       "\t 6     & 160.0 & 110   & 110   & 110   & 2    \\\\\n",
       "\t 6     & 167.6 & 123   & 123   & 123   & 2    \\\\\n",
       "\t 6     & 225.0 & 105   & 105   & 105   & 1    \\\\\n",
       "\t 6     & 258.0 & 110   & 110   & 110   & 1    \\\\\n",
       "\t 8     & 275.8 & 180   & 180   & 180   & 3    \\\\\n",
       "\t 8     & 301.0 & 335   & 335   & 335   & 1    \\\\\n",
       "\t 8     & 304.0 & 150   & 150   & 150   & 1    \\\\\n",
       "\t 8     & 318.0 & 150   & 150   & 150   & 1    \\\\\n",
       "\t 8     & 350.0 & 245   & 245   & 245   & 1    \\\\\n",
       "\t 8     & 351.0 & 264   & 264   & 264   & 1    \\\\\n",
       "\t 8     & 360.0 & 175   & 210   & 245   & 2    \\\\\n",
       "\t 8     & 400.0 & 175   & 175   & 175   & 1    \\\\\n",
       "\t 8     & 440.0 & 230   & 230   & 230   & 1    \\\\\n",
       "\t 8     & 460.0 & 215   & 215   & 215   & 1    \\\\\n",
       "\t 8     & 472.0 & 205   & 205   & 205   & 1    \\\\\n",
       "\\end{tabular}\n"
      ],
      "text/markdown": [
       "\n",
       "| cyl | disp | min_hp | mean_hp | max_hp | count |\n",
       "|---|---|---|---|---|---|\n",
       "| 4     |  71.1 |  65   |  65   |  65   | 1     |\n",
       "| 4     |  75.7 |  52   |  52   |  52   | 1     |\n",
       "| 4     |  78.7 |  66   |  66   |  66   | 1     |\n",
       "| 4     |  79.0 |  66   |  66   |  66   | 1     |\n",
       "| 4     |  95.1 | 113   | 113   | 113   | 1     |\n",
       "| 4     | 108.0 |  93   |  93   |  93   | 1     |\n",
       "| 4     | 120.1 |  97   |  97   |  97   | 1     |\n",
       "| 4     | 120.3 |  91   |  91   |  91   | 1     |\n",
       "| 4     | 121.0 | 109   | 109   | 109   | 1     |\n",
       "| 4     | 140.8 |  95   |  95   |  95   | 1     |\n",
       "| 4     | 146.7 |  62   |  62   |  62   | 1     |\n",
       "| 6     | 145.0 | 175   | 175   | 175   | 1     |\n",
       "| 6     | 160.0 | 110   | 110   | 110   | 2     |\n",
       "| 6     | 167.6 | 123   | 123   | 123   | 2     |\n",
       "| 6     | 225.0 | 105   | 105   | 105   | 1     |\n",
       "| 6     | 258.0 | 110   | 110   | 110   | 1     |\n",
       "| 8     | 275.8 | 180   | 180   | 180   | 3     |\n",
       "| 8     | 301.0 | 335   | 335   | 335   | 1     |\n",
       "| 8     | 304.0 | 150   | 150   | 150   | 1     |\n",
       "| 8     | 318.0 | 150   | 150   | 150   | 1     |\n",
       "| 8     | 350.0 | 245   | 245   | 245   | 1     |\n",
       "| 8     | 351.0 | 264   | 264   | 264   | 1     |\n",
       "| 8     | 360.0 | 175   | 210   | 245   | 2     |\n",
       "| 8     | 400.0 | 175   | 175   | 175   | 1     |\n",
       "| 8     | 440.0 | 230   | 230   | 230   | 1     |\n",
       "| 8     | 460.0 | 215   | 215   | 215   | 1     |\n",
       "| 8     | 472.0 | 205   | 205   | 205   | 1     |\n",
       "\n"
      ],
      "text/plain": [
       "   cyl disp  min_hp mean_hp max_hp count\n",
       "1  4    71.1  65     65      65    1    \n",
       "2  4    75.7  52     52      52    1    \n",
       "3  4    78.7  66     66      66    1    \n",
       "4  4    79.0  66     66      66    1    \n",
       "5  4    95.1 113    113     113    1    \n",
       "6  4   108.0  93     93      93    1    \n",
       "7  4   120.1  97     97      97    1    \n",
       "8  4   120.3  91     91      91    1    \n",
       "9  4   121.0 109    109     109    1    \n",
       "10 4   140.8  95     95      95    1    \n",
       "11 4   146.7  62     62      62    1    \n",
       "12 6   145.0 175    175     175    1    \n",
       "13 6   160.0 110    110     110    2    \n",
       "14 6   167.6 123    123     123    2    \n",
       "15 6   225.0 105    105     105    1    \n",
       "16 6   258.0 110    110     110    1    \n",
       "17 8   275.8 180    180     180    3    \n",
       "18 8   301.0 335    335     335    1    \n",
       "19 8   304.0 150    150     150    1    \n",
       "20 8   318.0 150    150     150    1    \n",
       "21 8   350.0 245    245     245    1    \n",
       "22 8   351.0 264    264     264    1    \n",
       "23 8   360.0 175    210     245    2    \n",
       "24 8   400.0 175    175     175    1    \n",
       "25 8   440.0 230    230     230    1    \n",
       "26 8   460.0 215    215     215    1    \n",
       "27 8   472.0 205    205     205    1    "
      ]
     },
     "metadata": {},
     "output_type": "display_data"
    }
   ],
   "source": [
    "mtcars %>%\n",
    "    group_by(cyl, disp) %>%\n",
    "    summarize(min_hp = min(hp),\n",
    "              mean_hp = mean(hp),\n",
    "              max_hp = max(hp),\n",
    "              count = n())"
   ]
  },
  {
   "cell_type": "code",
   "execution_count": 93,
   "metadata": {},
   "outputs": [
    {
     "data": {
      "text/html": [
       "<table>\n",
       "<thead><tr><th scope=col>cyl</th><th scope=col>intervals</th><th scope=col>min_hp</th><th scope=col>mean_hp</th><th scope=col>max_hp</th><th scope=col>count</th></tr></thead>\n",
       "<tbody>\n",
       "\t<tr><td>4         </td><td>[71.1,120]</td><td> 52       </td><td> 78.85714 </td><td>113       </td><td>7         </td></tr>\n",
       "\t<tr><td>4         </td><td>(120,160] </td><td> 62       </td><td> 89.25000 </td><td>109       </td><td>4         </td></tr>\n",
       "\t<tr><td>6         </td><td>(120,160] </td><td>110       </td><td>131.66667 </td><td>175       </td><td>3         </td></tr>\n",
       "\t<tr><td>6         </td><td>(160,276] </td><td>105       </td><td>115.25000 </td><td>123       </td><td>4         </td></tr>\n",
       "\t<tr><td>8         </td><td>(160,276] </td><td>180       </td><td>180.00000 </td><td>180       </td><td>3         </td></tr>\n",
       "\t<tr><td>8         </td><td>(276,351] </td><td>150       </td><td>220.00000 </td><td>335       </td><td>4         </td></tr>\n",
       "\t<tr><td>8         </td><td>(351,472] </td><td>175       </td><td>215.57143 </td><td>264       </td><td>7         </td></tr>\n",
       "</tbody>\n",
       "</table>\n"
      ],
      "text/latex": [
       "\\begin{tabular}{r|llllll}\n",
       " cyl & intervals & min\\_hp & mean\\_hp & max\\_hp & count\\\\\n",
       "\\hline\n",
       "\t 4              & {[}71.1,120{]} &  52            &  78.85714      & 113            & 7             \\\\\n",
       "\t 4            & (120,160{]}  &  62          &  89.25000    & 109          & 4           \\\\\n",
       "\t 6            & (120,160{]}  & 110          & 131.66667    & 175          & 3           \\\\\n",
       "\t 6            & (160,276{]}  & 105          & 115.25000    & 123          & 4           \\\\\n",
       "\t 8            & (160,276{]}  & 180          & 180.00000    & 180          & 3           \\\\\n",
       "\t 8            & (276,351{]}  & 150          & 220.00000    & 335          & 4           \\\\\n",
       "\t 8            & (351,472{]}  & 175          & 215.57143    & 264          & 7           \\\\\n",
       "\\end{tabular}\n"
      ],
      "text/markdown": [
       "\n",
       "| cyl | intervals | min_hp | mean_hp | max_hp | count |\n",
       "|---|---|---|---|---|---|\n",
       "| 4          | [71.1,120] |  52        |  78.85714  | 113        | 7          |\n",
       "| 4          | (120,160]  |  62        |  89.25000  | 109        | 4          |\n",
       "| 6          | (120,160]  | 110        | 131.66667  | 175        | 3          |\n",
       "| 6          | (160,276]  | 105        | 115.25000  | 123        | 4          |\n",
       "| 8          | (160,276]  | 180        | 180.00000  | 180        | 3          |\n",
       "| 8          | (276,351]  | 150        | 220.00000  | 335        | 4          |\n",
       "| 8          | (351,472]  | 175        | 215.57143  | 264        | 7          |\n",
       "\n"
      ],
      "text/plain": [
       "  cyl intervals  min_hp mean_hp   max_hp count\n",
       "1 4   [71.1,120]  52     78.85714 113    7    \n",
       "2 4   (120,160]   62     89.25000 109    4    \n",
       "3 6   (120,160]  110    131.66667 175    3    \n",
       "4 6   (160,276]  105    115.25000 123    4    \n",
       "5 8   (160,276]  180    180.00000 180    3    \n",
       "6 8   (276,351]  150    220.00000 335    4    \n",
       "7 8   (351,472]  175    215.57143 264    7    "
      ]
     },
     "metadata": {},
     "output_type": "display_data"
    }
   ],
   "source": [
    "tbl_mtcars %>%\n",
    "    mutate(intervals = ggplot2::cut_number(disp, n = 5)) %>%\n",
    "    group_by(cyl, intervals) %>%\n",
    "    summarize(min_hp = min(hp),\n",
    "              mean_hp = mean(hp),\n",
    "              max_hp = max(hp),\n",
    "              count = n())"
   ]
  },
  {
   "cell_type": "code",
   "execution_count": 95,
   "metadata": {},
   "outputs": [
    {
     "data": {
      "text/plain": [
       "   car_name              mpg             cyl             disp      \n",
       " Length:32          Min.   :10.40   Min.   :4.000   Min.   : 71.1  \n",
       " Class :character   1st Qu.:15.43   1st Qu.:4.000   1st Qu.:120.8  \n",
       " Mode  :character   Median :19.20   Median :6.000   Median :196.3  \n",
       "                    Mean   :20.09   Mean   :6.188   Mean   :230.7  \n",
       "                    3rd Qu.:22.80   3rd Qu.:8.000   3rd Qu.:326.0  \n",
       "                    Max.   :33.90   Max.   :8.000   Max.   :472.0  \n",
       "       hp             drat             wt             qsec      \n",
       " Min.   : 52.0   Min.   :2.760   Min.   :1.513   Min.   :14.50  \n",
       " 1st Qu.: 96.5   1st Qu.:3.080   1st Qu.:2.581   1st Qu.:16.89  \n",
       " Median :123.0   Median :3.695   Median :3.325   Median :17.71  \n",
       " Mean   :146.7   Mean   :3.597   Mean   :3.217   Mean   :17.85  \n",
       " 3rd Qu.:180.0   3rd Qu.:3.920   3rd Qu.:3.610   3rd Qu.:18.90  \n",
       " Max.   :335.0   Max.   :4.930   Max.   :5.424   Max.   :22.90  \n",
       "       vs               am              gear            carb      \n",
       " Min.   :0.0000   Min.   :0.0000   Min.   :3.000   Min.   :1.000  \n",
       " 1st Qu.:0.0000   1st Qu.:0.0000   1st Qu.:3.000   1st Qu.:2.000  \n",
       " Median :0.0000   Median :0.0000   Median :4.000   Median :2.000  \n",
       " Mean   :0.4375   Mean   :0.4062   Mean   :3.688   Mean   :2.812  \n",
       " 3rd Qu.:1.0000   3rd Qu.:1.0000   3rd Qu.:4.000   3rd Qu.:4.000  \n",
       " Max.   :1.0000   Max.   :1.0000   Max.   :5.000   Max.   :8.000  \n",
       "     hp_cyl          gpm100     \n",
       " Min.   :13.00   Min.   :2.950  \n",
       " 1st Qu.:18.33   1st Qu.:4.386  \n",
       " Median :22.50   Median :5.208  \n",
       " Mean   :23.00   Mean   :5.423  \n",
       " 3rd Qu.:26.97   3rd Qu.:6.483  \n",
       " Max.   :41.88   Max.   :9.615  "
      ]
     },
     "metadata": {},
     "output_type": "display_data"
    }
   ],
   "source": [
    "tbl_mtcars %>% summary #equivalent to summary(tbl_mtcars)"
   ]
  },
  {
   "cell_type": "code",
   "execution_count": 102,
   "metadata": {},
   "outputs": [
    {
     "data": {
      "text/html": [
       "<table>\n",
       "<thead><tr><th scope=col>cyl</th><th scope=col>mpg_min</th><th scope=col>disp_min</th><th scope=col>hp_min</th><th scope=col>drat_min</th><th scope=col>wt_min</th><th scope=col>qsec_min</th><th scope=col>vs_min</th><th scope=col>am_min</th><th scope=col>gear_min</th><th scope=col>⋯</th><th scope=col>mpg_max</th><th scope=col>disp_max</th><th scope=col>hp_max</th><th scope=col>drat_max</th><th scope=col>wt_max</th><th scope=col>qsec_max</th><th scope=col>vs_max</th><th scope=col>am_max</th><th scope=col>gear_max</th><th scope=col>carb_max</th></tr></thead>\n",
       "<tbody>\n",
       "\t<tr><td>4    </td><td>21.4 </td><td> 71.1</td><td> 52  </td><td>3.69 </td><td>1.513</td><td>16.7 </td><td>0    </td><td>0    </td><td>3    </td><td>⋯    </td><td>33.9 </td><td>146.7</td><td>113  </td><td>4.93 </td><td>3.190</td><td>22.90</td><td>1    </td><td>1    </td><td>5    </td><td>2    </td></tr>\n",
       "\t<tr><td>6    </td><td>17.8 </td><td>145.0</td><td>105  </td><td>2.76 </td><td>2.620</td><td>15.5 </td><td>0    </td><td>0    </td><td>3    </td><td>⋯    </td><td>21.4 </td><td>258.0</td><td>175  </td><td>3.92 </td><td>3.460</td><td>20.22</td><td>1    </td><td>1    </td><td>5    </td><td>6    </td></tr>\n",
       "\t<tr><td>8    </td><td>10.4 </td><td>275.8</td><td>150  </td><td>2.76 </td><td>3.170</td><td>14.5 </td><td>0    </td><td>0    </td><td>3    </td><td>⋯    </td><td>19.2 </td><td>472.0</td><td>335  </td><td>4.22 </td><td>5.424</td><td>18.00</td><td>0    </td><td>1    </td><td>5    </td><td>8    </td></tr>\n",
       "</tbody>\n",
       "</table>\n"
      ],
      "text/latex": [
       "\\begin{tabular}{r|lllllllllllllllllllll}\n",
       " cyl & mpg\\_min & disp\\_min & hp\\_min & drat\\_min & wt\\_min & qsec\\_min & vs\\_min & am\\_min & gear\\_min & ⋯ & mpg\\_max & disp\\_max & hp\\_max & drat\\_max & wt\\_max & qsec\\_max & vs\\_max & am\\_max & gear\\_max & carb\\_max\\\\\n",
       "\\hline\n",
       "\t 4     & 21.4  &  71.1 &  52   & 3.69  & 1.513 & 16.7  & 0     & 0     & 3     & ⋯     & 33.9  & 146.7 & 113   & 4.93  & 3.190 & 22.90 & 1     & 1     & 5     & 2    \\\\\n",
       "\t 6     & 17.8  & 145.0 & 105   & 2.76  & 2.620 & 15.5  & 0     & 0     & 3     & ⋯     & 21.4  & 258.0 & 175   & 3.92  & 3.460 & 20.22 & 1     & 1     & 5     & 6    \\\\\n",
       "\t 8     & 10.4  & 275.8 & 150   & 2.76  & 3.170 & 14.5  & 0     & 0     & 3     & ⋯     & 19.2  & 472.0 & 335   & 4.22  & 5.424 & 18.00 & 0     & 1     & 5     & 8    \\\\\n",
       "\\end{tabular}\n"
      ],
      "text/markdown": [
       "\n",
       "| cyl | mpg_min | disp_min | hp_min | drat_min | wt_min | qsec_min | vs_min | am_min | gear_min | ⋯ | mpg_max | disp_max | hp_max | drat_max | wt_max | qsec_max | vs_max | am_max | gear_max | carb_max |\n",
       "|---|---|---|---|---|---|---|---|---|---|---|---|---|---|---|---|---|---|---|---|---|\n",
       "| 4     | 21.4  |  71.1 |  52   | 3.69  | 1.513 | 16.7  | 0     | 0     | 3     | ⋯     | 33.9  | 146.7 | 113   | 4.93  | 3.190 | 22.90 | 1     | 1     | 5     | 2     |\n",
       "| 6     | 17.8  | 145.0 | 105   | 2.76  | 2.620 | 15.5  | 0     | 0     | 3     | ⋯     | 21.4  | 258.0 | 175   | 3.92  | 3.460 | 20.22 | 1     | 1     | 5     | 6     |\n",
       "| 8     | 10.4  | 275.8 | 150   | 2.76  | 3.170 | 14.5  | 0     | 0     | 3     | ⋯     | 19.2  | 472.0 | 335   | 4.22  | 5.424 | 18.00 | 0     | 1     | 5     | 8     |\n",
       "\n"
      ],
      "text/plain": [
       "  cyl mpg_min disp_min hp_min drat_min wt_min qsec_min vs_min am_min gear_min ⋯\n",
       "1 4   21.4     71.1     52    3.69     1.513  16.7     0      0      3        ⋯\n",
       "2 6   17.8    145.0    105    2.76     2.620  15.5     0      0      3        ⋯\n",
       "3 8   10.4    275.8    150    2.76     3.170  14.5     0      0      3        ⋯\n",
       "  mpg_max disp_max hp_max drat_max wt_max qsec_max vs_max am_max gear_max\n",
       "1 33.9    146.7    113    4.93     3.190  22.90    1      1      5       \n",
       "2 21.4    258.0    175    3.92     3.460  20.22    1      1      5       \n",
       "3 19.2    472.0    335    4.22     5.424  18.00    0      1      5       \n",
       "  carb_max\n",
       "1 2       \n",
       "2 6       \n",
       "3 8       "
      ]
     },
     "metadata": {},
     "output_type": "display_data"
    }
   ],
   "source": [
    "tbl_mtcars %>%\n",
    "    group_by(cyl) %>%\n",
    "    select(-car_name, -hp_cyl, -gpm100) %>%\n",
    "    summarize_all(funs(min = min, max = max))"
   ]
  },
  {
   "cell_type": "markdown",
   "metadata": {},
   "source": [
    "### Map"
   ]
  },
  {
   "cell_type": "code",
   "execution_count": null,
   "metadata": {},
   "outputs": [],
   "source": []
  },
  {
   "cell_type": "code",
   "execution_count": null,
   "metadata": {},
   "outputs": [],
   "source": []
  },
  {
   "cell_type": "code",
   "execution_count": null,
   "metadata": {},
   "outputs": [],
   "source": []
  },
  {
   "cell_type": "code",
   "execution_count": null,
   "metadata": {},
   "outputs": [],
   "source": []
  },
  {
   "cell_type": "code",
   "execution_count": 69,
   "metadata": {},
   "outputs": [
    {
     "data": {
      "text/html": [
       "<table>\n",
       "<thead><tr><th scope=col>name</th><th scope=col>height</th><th scope=col>mass</th><th scope=col>hair_color</th><th scope=col>skin_color</th><th scope=col>eye_color</th><th scope=col>birth_year</th><th scope=col>gender</th><th scope=col>homeworld</th><th scope=col>species</th><th scope=col>films</th><th scope=col>vehicles</th><th scope=col>starships</th></tr></thead>\n",
       "<tbody>\n",
       "\t<tr><td>Luke Skywalker                                                                                                             </td><td>172                                                                                                                        </td><td>  77.0                                                                                                                     </td><td>blond                                                                                                                      </td><td>fair                                                                                                                       </td><td>blue                                                                                                                       </td><td> 19.0                                                                                                                      </td><td>male                                                                                                                       </td><td>Tatooine                                                                                                                   </td><td>Human                                                                                                                      </td><td>Revenge of the Sith    , Return of the Jedi     , The Empire Strikes Back, A New Hope             , The Force Awakens      </td><td>Snowspeeder          , Imperial Speeder Bike                                                                               </td><td>X-wing          , Imperial shuttle                                                                                         </td></tr>\n",
       "\t<tr><td>C-3PO                                                                                                                                               </td><td>167                                                                                                                                                 </td><td>  75.0                                                                                                                                              </td><td>NA                                                                                                                                                  </td><td>gold                                                                                                                                                </td><td>yellow                                                                                                                                              </td><td>112.0                                                                                                                                               </td><td>NA                                                                                                                                                  </td><td>Tatooine                                                                                                                                            </td><td>Droid                                                                                                                                               </td><td>Attack of the Clones   , The Phantom Menace     , Revenge of the Sith    , Return of the Jedi     , The Empire Strikes Back, A New Hope             </td><td>                                                                                                                                                    </td><td>                                                                                                                                                    </td></tr>\n",
       "\t<tr><td>R2-D2                                                                                                                                                                        </td><td> 96                                                                                                                                                                          </td><td>  32.0                                                                                                                                                                       </td><td>NA                                                                                                                                                                           </td><td>white, blue                                                                                                                                                                  </td><td>red                                                                                                                                                                          </td><td> 33.0                                                                                                                                                                        </td><td>NA                                                                                                                                                                           </td><td>Naboo                                                                                                                                                                        </td><td>Droid                                                                                                                                                                        </td><td>Attack of the Clones   , The Phantom Menace     , Revenge of the Sith    , Return of the Jedi     , The Empire Strikes Back, A New Hope             , The Force Awakens      </td><td>                                                                                                                                                                             </td><td>                                                                                                                                                                             </td></tr>\n",
       "\t<tr><td>Darth Vader                                                                                       </td><td>202                                                                                               </td><td> 136.0                                                                                            </td><td>none                                                                                              </td><td>white                                                                                             </td><td>yellow                                                                                            </td><td> 41.9                                                                                             </td><td>male                                                                                              </td><td>Tatooine                                                                                          </td><td>Human                                                                                             </td><td>Revenge of the Sith    , Return of the Jedi     , The Empire Strikes Back, A New Hope             </td><td>                                                                                                  </td><td>TIE Advanced x1                                                                                   </td></tr>\n",
       "\t<tr><td>Leia Organa                                                                                                                </td><td>150                                                                                                                        </td><td>  49.0                                                                                                                     </td><td>brown                                                                                                                      </td><td>light                                                                                                                      </td><td>brown                                                                                                                      </td><td> 19.0                                                                                                                      </td><td>female                                                                                                                     </td><td>Alderaan                                                                                                                   </td><td>Human                                                                                                                      </td><td>Revenge of the Sith    , Return of the Jedi     , The Empire Strikes Back, A New Hope             , The Force Awakens      </td><td>Imperial Speeder Bike                                                                                                      </td><td>                                                                                                                           </td></tr>\n",
       "\t<tr><td>Owen Lars                                                       </td><td>178                                                             </td><td> 120.0                                                          </td><td>brown, grey                                                     </td><td>light                                                           </td><td>blue                                                            </td><td> 52.0                                                           </td><td>male                                                            </td><td>Tatooine                                                        </td><td>Human                                                           </td><td>Attack of the Clones, Revenge of the Sith , A New Hope          </td><td>                                                                </td><td>                                                                </td></tr>\n",
       "\t<tr><td>Beru Whitesun lars                                              </td><td>165                                                             </td><td>  75.0                                                          </td><td>brown                                                           </td><td>light                                                           </td><td>blue                                                            </td><td> 47.0                                                           </td><td>female                                                          </td><td>Tatooine                                                        </td><td>Human                                                           </td><td>Attack of the Clones, Revenge of the Sith , A New Hope          </td><td>                                                                </td><td>                                                                </td></tr>\n",
       "\t<tr><td>R5-D4                </td><td> 97                  </td><td>  32.0               </td><td>NA                   </td><td>white, red           </td><td>red                  </td><td>   NA                </td><td>NA                   </td><td>Tatooine             </td><td>Droid                </td><td>A New Hope           </td><td>                     </td><td>                     </td></tr>\n",
       "\t<tr><td>Biggs Darklighter    </td><td>183                  </td><td>  84.0               </td><td>black                </td><td>light                </td><td>brown                </td><td> 24.0                </td><td>male                 </td><td>Tatooine             </td><td>Human                </td><td>A New Hope           </td><td>                     </td><td>X-wing               </td></tr>\n",
       "\t<tr><td>Obi-Wan Kenobi                                                                                                                                      </td><td>182                                                                                                                                                 </td><td>  77.0                                                                                                                                              </td><td>auburn, white                                                                                                                                       </td><td>fair                                                                                                                                                </td><td>blue-gray                                                                                                                                           </td><td> 57.0                                                                                                                                               </td><td>male                                                                                                                                                </td><td>Stewjon                                                                                                                                             </td><td>Human                                                                                                                                               </td><td>Attack of the Clones   , The Phantom Menace     , Revenge of the Sith    , Return of the Jedi     , The Empire Strikes Back, A New Hope             </td><td>Tribubble bongo                                                                                                                                     </td><td>Jedi starfighter        , Trade Federation cruiser, Naboo star skiff        , Jedi Interceptor        , Belbullab-22 starfighter                    </td></tr>\n",
       "\t<tr><td>Anakin Skywalker                                                            </td><td>188                                                                         </td><td>  84.0                                                                      </td><td>blond                                                                       </td><td>fair                                                                        </td><td>blue                                                                        </td><td> 41.9                                                                       </td><td>male                                                                        </td><td>Tatooine                                                                    </td><td>Human                                                                       </td><td>Attack of the Clones, The Phantom Menace  , Revenge of the Sith             </td><td>Zephyr-G swoop bike, XJ-6 airspeeder                                        </td><td>Trade Federation cruiser, Jedi Interceptor        , Naboo fighter           </td></tr>\n",
       "\t<tr><td>Wilhuff Tarkin                          </td><td>180                                     </td><td>    NA                                  </td><td>auburn, grey                            </td><td>fair                                    </td><td>blue                                    </td><td> 64.0                                   </td><td>male                                    </td><td>Eriadu                                  </td><td>Human                                   </td><td>Revenge of the Sith, A New Hope         </td><td>                                        </td><td>                                        </td></tr>\n",
       "\t<tr><td>Chewbacca                                                                                                                  </td><td>228                                                                                                                        </td><td> 112.0                                                                                                                     </td><td>brown                                                                                                                      </td><td>unknown                                                                                                                    </td><td>blue                                                                                                                       </td><td>200.0                                                                                                                      </td><td>male                                                                                                                       </td><td>Kashyyyk                                                                                                                   </td><td>Wookiee                                                                                                                    </td><td>Revenge of the Sith    , Return of the Jedi     , The Empire Strikes Back, A New Hope             , The Force Awakens      </td><td>AT-ST                                                                                                                      </td><td>Millennium Falcon, Imperial shuttle                                                                                        </td></tr>\n",
       "\t<tr><td>Han Solo                                                                                          </td><td>180                                                                                               </td><td>  80.0                                                                                            </td><td>brown                                                                                             </td><td>fair                                                                                              </td><td>brown                                                                                             </td><td> 29.0                                                                                             </td><td>male                                                                                              </td><td>Corellia                                                                                          </td><td>Human                                                                                             </td><td>Return of the Jedi     , The Empire Strikes Back, A New Hope             , The Force Awakens      </td><td>                                                                                                  </td><td>Millennium Falcon, Imperial shuttle                                                               </td></tr>\n",
       "\t<tr><td>Greedo               </td><td>173                  </td><td>  74.0               </td><td>NA                   </td><td>green                </td><td>black                </td><td> 44.0                </td><td>male                 </td><td>Rodia                </td><td>Rodian               </td><td>A New Hope           </td><td>                     </td><td>                     </td></tr>\n",
       "\t<tr><td>Jabba Desilijic Tiure                                     </td><td>175                                                       </td><td>1358.0                                                    </td><td>NA                                                        </td><td>green-tan, brown                                          </td><td>orange                                                    </td><td>600.0                                                     </td><td>hermaphrodite                                             </td><td>Nal Hutta                                                 </td><td>Hutt                                                      </td><td>The Phantom Menace, Return of the Jedi, A New Hope        </td><td>                                                          </td><td>                                                          </td></tr>\n",
       "\t<tr><td>Wedge Antilles                                                           </td><td>170                                                                      </td><td>  77.0                                                                   </td><td>brown                                                                    </td><td>fair                                                                     </td><td>hazel                                                                    </td><td> 21.0                                                                    </td><td>male                                                                     </td><td>Corellia                                                                 </td><td>Human                                                                    </td><td>Return of the Jedi     , The Empire Strikes Back, A New Hope             </td><td>Snowspeeder                                                              </td><td>X-wing                                                                   </td></tr>\n",
       "\t<tr><td>Jek Tono Porkins     </td><td>180                  </td><td> 110.0               </td><td>brown                </td><td>fair                 </td><td>blue                 </td><td>   NA                </td><td>male                 </td><td>Bestine IV           </td><td>Human                </td><td>A New Hope           </td><td>                     </td><td>X-wing               </td></tr>\n",
       "\t<tr><td>Yoda                                                                                                                       </td><td> 66                                                                                                                        </td><td>  17.0                                                                                                                     </td><td>white                                                                                                                      </td><td>green                                                                                                                      </td><td>brown                                                                                                                      </td><td>896.0                                                                                                                      </td><td>male                                                                                                                       </td><td>NA                                                                                                                         </td><td>Yoda's species                                                                                                             </td><td>Attack of the Clones   , The Phantom Menace     , Revenge of the Sith    , Return of the Jedi     , The Empire Strikes Back</td><td>                                                                                                                           </td><td>                                                                                                                           </td></tr>\n",
       "\t<tr><td>Palpatine                                                                                                                  </td><td>170                                                                                                                        </td><td>  75.0                                                                                                                     </td><td>grey                                                                                                                       </td><td>pale                                                                                                                       </td><td>yellow                                                                                                                     </td><td> 82.0                                                                                                                      </td><td>male                                                                                                                       </td><td>Naboo                                                                                                                      </td><td>Human                                                                                                                      </td><td>Attack of the Clones   , The Phantom Menace     , Revenge of the Sith    , Return of the Jedi     , The Empire Strikes Back</td><td>                                                                                                                           </td><td>                                                                                                                           </td></tr>\n",
       "\t<tr><td>Boba Fett                                                                </td><td>183                                                                      </td><td>  78.2                                                                   </td><td>black                                                                    </td><td>fair                                                                     </td><td>brown                                                                    </td><td> 31.5                                                                    </td><td>male                                                                     </td><td>Kamino                                                                   </td><td>Human                                                                    </td><td>Attack of the Clones   , Return of the Jedi     , The Empire Strikes Back</td><td>                                                                         </td><td>Slave 1                                                                  </td></tr>\n",
       "\t<tr><td>IG-88                  </td><td>200                    </td><td> 140.0                 </td><td>none                   </td><td>metal                  </td><td>red                    </td><td> 15.0                  </td><td>none                   </td><td>NA                     </td><td>Droid                  </td><td>The Empire Strikes Back</td><td>                       </td><td>                       </td></tr>\n",
       "\t<tr><td>Bossk                  </td><td>190                    </td><td> 113.0                 </td><td>none                   </td><td>green                  </td><td>red                    </td><td> 53.0                  </td><td>male                   </td><td>Trandosha              </td><td>Trandoshan             </td><td>The Empire Strikes Back</td><td>                       </td><td>                       </td></tr>\n",
       "\t<tr><td>Lando Calrissian                                </td><td>177                                             </td><td>  79.0                                          </td><td>black                                           </td><td>dark                                            </td><td>brown                                           </td><td> 31.0                                           </td><td>male                                            </td><td>Socorro                                         </td><td>Human                                           </td><td>Return of the Jedi     , The Empire Strikes Back</td><td>                                                </td><td>Millennium Falcon                               </td></tr>\n",
       "\t<tr><td>Lobot                  </td><td>175                    </td><td>  79.0                 </td><td>none                   </td><td>light                  </td><td>blue                   </td><td> 37.0                  </td><td>male                   </td><td>Bespin                 </td><td>Human                  </td><td>The Empire Strikes Back</td><td>                       </td><td>                       </td></tr>\n",
       "\t<tr><td>Ackbar                                </td><td>180                                   </td><td>  83.0                                </td><td>none                                  </td><td>brown mottle                          </td><td>orange                                </td><td> 41.0                                 </td><td>male                                  </td><td>Mon Cala                              </td><td>Mon Calamari                          </td><td>Return of the Jedi, The Force Awakens </td><td>                                      </td><td>                                      </td></tr>\n",
       "\t<tr><td>Mon Mothma           </td><td>150                  </td><td>    NA               </td><td>auburn               </td><td>fair                 </td><td>blue                 </td><td> 48.0                </td><td>female               </td><td>Chandrila            </td><td>Human                </td><td>Return of the Jedi   </td><td>                     </td><td>                     </td></tr>\n",
       "\t<tr><td>Arvel Crynyd         </td><td> NA                  </td><td>    NA               </td><td>brown                </td><td>fair                 </td><td>brown                </td><td>   NA                </td><td>male                 </td><td>NA                   </td><td>Human                </td><td>Return of the Jedi   </td><td>                     </td><td>A-wing               </td></tr>\n",
       "\t<tr><td>Wicket Systri Warrick</td><td> 88                  </td><td>  20.0               </td><td>brown                </td><td>brown                </td><td>brown                </td><td>  8.0                </td><td>male                 </td><td>Endor                </td><td>Ewok                 </td><td>Return of the Jedi   </td><td>                     </td><td>                     </td></tr>\n",
       "\t<tr><td>Nien Nunb            </td><td>160                  </td><td>  68.0               </td><td>none                 </td><td>grey                 </td><td>black                </td><td>   NA                </td><td>male                 </td><td>Sullust              </td><td>Sullustan            </td><td>Return of the Jedi   </td><td>                     </td><td>Millennium Falcon    </td></tr>\n",
       "\t<tr><td>⋮</td><td>⋮</td><td>⋮</td><td>⋮</td><td>⋮</td><td>⋮</td><td>⋮</td><td>⋮</td><td>⋮</td><td>⋮</td><td>⋮</td><td>⋮</td><td>⋮</td></tr>\n",
       "\t<tr><td>Cordé               </td><td>157                 </td><td>   NA               </td><td>brown               </td><td>light               </td><td>brown               </td><td> NA                 </td><td>female              </td><td>Naboo               </td><td>Human               </td><td>Attack of the Clones</td><td>                    </td><td>                    </td></tr>\n",
       "\t<tr><td>Cliegg Lars         </td><td>183                 </td><td>   NA               </td><td>brown               </td><td>fair                </td><td>blue                </td><td> 82                 </td><td>male                </td><td>Tatooine            </td><td>Human               </td><td>Attack of the Clones</td><td>                    </td><td>                    </td></tr>\n",
       "\t<tr><td>Poggle the Lesser                         </td><td>183                                       </td><td> 80.0                                     </td><td>none                                      </td><td>green                                     </td><td>yellow                                    </td><td> NA                                       </td><td>male                                      </td><td>Geonosis                                  </td><td>Geonosian                                 </td><td>Attack of the Clones, Revenge of the Sith </td><td>                                          </td><td>                                          </td></tr>\n",
       "\t<tr><td>Luminara Unduli                           </td><td>170                                       </td><td> 56.2                                     </td><td>black                                     </td><td>yellow                                    </td><td>blue                                      </td><td> 58                                       </td><td>female                                    </td><td>Mirial                                    </td><td>Mirialan                                  </td><td>Attack of the Clones, Revenge of the Sith </td><td>                                          </td><td>                                          </td></tr>\n",
       "\t<tr><td>Barriss Offee       </td><td>166                 </td><td> 50.0               </td><td>black               </td><td>yellow              </td><td>blue                </td><td> 40                 </td><td>female              </td><td>Mirial              </td><td>Mirialan            </td><td>Attack of the Clones</td><td>                    </td><td>                    </td></tr>\n",
       "\t<tr><td>Dormé               </td><td>165                 </td><td>   NA               </td><td>brown               </td><td>light               </td><td>brown               </td><td> NA                 </td><td>female              </td><td>Naboo               </td><td>Human               </td><td>Attack of the Clones</td><td>                    </td><td>                    </td></tr>\n",
       "\t<tr><td>Dooku                                     </td><td>193                                       </td><td> 80.0                                     </td><td>white                                     </td><td>fair                                      </td><td>brown                                     </td><td>102                                       </td><td>male                                      </td><td>Serenno                                   </td><td>Human                                     </td><td>Attack of the Clones, Revenge of the Sith </td><td>Flitknot speeder                          </td><td>                                          </td></tr>\n",
       "\t<tr><td>Bail Prestor Organa                       </td><td>191                                       </td><td>   NA                                     </td><td>black                                     </td><td>tan                                       </td><td>brown                                     </td><td> 67                                       </td><td>male                                      </td><td>Alderaan                                  </td><td>Human                                     </td><td>Attack of the Clones, Revenge of the Sith </td><td>                                          </td><td>                                          </td></tr>\n",
       "\t<tr><td>Jango Fett          </td><td>183                 </td><td> 79.0               </td><td>black               </td><td>tan                 </td><td>brown               </td><td> 66                 </td><td>male                </td><td>Concord Dawn        </td><td>Human               </td><td>Attack of the Clones</td><td>                    </td><td>                    </td></tr>\n",
       "\t<tr><td>Zam Wesell                </td><td>168                       </td><td> 55.0                     </td><td>blonde                    </td><td>fair, green, yellow       </td><td>yellow                    </td><td> NA                       </td><td>female                    </td><td>Zolan                     </td><td>Clawdite                  </td><td>Attack of the Clones      </td><td>Koro-2 Exodrive airspeeder</td><td>                          </td></tr>\n",
       "\t<tr><td>Dexter Jettster     </td><td>198                 </td><td>102.0               </td><td>none                </td><td>brown               </td><td>yellow              </td><td> NA                 </td><td>male                </td><td>Ojom                </td><td>Besalisk            </td><td>Attack of the Clones</td><td>                    </td><td>                    </td></tr>\n",
       "\t<tr><td>Lama Su             </td><td>229                 </td><td> 88.0               </td><td>none                </td><td>grey                </td><td>black               </td><td> NA                 </td><td>male                </td><td>Kamino              </td><td>Kaminoan            </td><td>Attack of the Clones</td><td>                    </td><td>                    </td></tr>\n",
       "\t<tr><td>Taun We             </td><td>213                 </td><td>   NA               </td><td>none                </td><td>grey                </td><td>black               </td><td> NA                 </td><td>female              </td><td>Kamino              </td><td>Kaminoan            </td><td>Attack of the Clones</td><td>                    </td><td>                    </td></tr>\n",
       "\t<tr><td>Jocasta Nu          </td><td>167                 </td><td>   NA               </td><td>white               </td><td>fair                </td><td>blue                </td><td> NA                 </td><td>female              </td><td>Coruscant           </td><td>Human               </td><td>Attack of the Clones</td><td>                    </td><td>                    </td></tr>\n",
       "\t<tr><td>Ratts Tyerell      </td><td> 79                </td><td> 15.0              </td><td>none               </td><td>grey, blue         </td><td>unknown            </td><td> NA                </td><td>male               </td><td>Aleen Minor        </td><td>Aleena             </td><td>The Phantom Menace </td><td>                   </td><td>                   </td></tr>\n",
       "\t<tr><td>R4-P17                                    </td><td> 96                                       </td><td>   NA                                     </td><td>none                                      </td><td>silver, red                               </td><td>red, blue                                 </td><td> NA                                       </td><td>female                                    </td><td>NA                                        </td><td>NA                                        </td><td>Attack of the Clones, Revenge of the Sith </td><td>                                          </td><td>                                          </td></tr>\n",
       "\t<tr><td>Wat Tambor          </td><td>193                 </td><td> 48.0               </td><td>none                </td><td>green, grey         </td><td>unknown             </td><td> NA                 </td><td>male                </td><td>Skako               </td><td>Skakoan             </td><td>Attack of the Clones</td><td>                    </td><td>                    </td></tr>\n",
       "\t<tr><td>San Hill            </td><td>191                 </td><td>   NA               </td><td>none                </td><td>grey                </td><td>gold                </td><td> NA                 </td><td>male                </td><td>Muunilinst          </td><td>Muun                </td><td>Attack of the Clones</td><td>                    </td><td>                    </td></tr>\n",
       "\t<tr><td>Shaak Ti                                  </td><td>178                                       </td><td> 57.0                                     </td><td>none                                      </td><td>red, blue, white                          </td><td>black                                     </td><td> NA                                       </td><td>female                                    </td><td>Shili                                     </td><td>Togruta                                   </td><td>Attack of the Clones, Revenge of the Sith </td><td>                                          </td><td>                                          </td></tr>\n",
       "\t<tr><td>Grievous                   </td><td>216                        </td><td>159.0                      </td><td>none                       </td><td>brown, white               </td><td>green, yellow              </td><td> NA                        </td><td>male                       </td><td>Kalee                      </td><td>Kaleesh                    </td><td>Revenge of the Sith        </td><td>Tsmeu-6 personal wheel bike</td><td>Belbullab-22 starfighter   </td></tr>\n",
       "\t<tr><td>Tarfful            </td><td>234                </td><td>136.0              </td><td>brown              </td><td>brown              </td><td>blue               </td><td> NA                </td><td>male               </td><td>Kashyyyk           </td><td>Wookiee            </td><td>Revenge of the Sith</td><td>                   </td><td>                   </td></tr>\n",
       "\t<tr><td>Raymus Antilles                         </td><td>188                                     </td><td> 79.0                                   </td><td>brown                                   </td><td>light                                   </td><td>brown                                   </td><td> NA                                     </td><td>male                                    </td><td>Alderaan                                </td><td>Human                                   </td><td>Revenge of the Sith, A New Hope         </td><td>                                        </td><td>                                        </td></tr>\n",
       "\t<tr><td>Sly Moore                                 </td><td>178                                       </td><td> 48.0                                     </td><td>none                                      </td><td>pale                                      </td><td>white                                     </td><td> NA                                       </td><td>female                                    </td><td>Umbara                                    </td><td>NA                                        </td><td>Attack of the Clones, Revenge of the Sith </td><td>                                          </td><td>                                          </td></tr>\n",
       "\t<tr><td>Tion Medon         </td><td>206                </td><td> 80.0              </td><td>none               </td><td>grey               </td><td>black              </td><td> NA                </td><td>male               </td><td>Utapau             </td><td>Pau'an             </td><td>Revenge of the Sith</td><td>                   </td><td>                   </td></tr>\n",
       "\t<tr><td>Finn               </td><td> NA                </td><td>   NA              </td><td>black              </td><td>dark               </td><td>dark               </td><td> NA                </td><td>male               </td><td>NA                 </td><td>Human              </td><td>The Force Awakens  </td><td>                   </td><td>                   </td></tr>\n",
       "\t<tr><td>Rey                </td><td> NA                </td><td>   NA              </td><td>brown              </td><td>light              </td><td>hazel              </td><td> NA                </td><td>female             </td><td>NA                 </td><td>Human              </td><td>The Force Awakens  </td><td>                   </td><td>                   </td></tr>\n",
       "\t<tr><td>Poe Dameron        </td><td> NA                </td><td>   NA              </td><td>brown              </td><td>light              </td><td>brown              </td><td> NA                </td><td>male               </td><td>NA                 </td><td>Human              </td><td>The Force Awakens  </td><td>                   </td><td>T-70 X-wing fighter</td></tr>\n",
       "\t<tr><td>BB8                </td><td> NA                </td><td>   NA              </td><td>none               </td><td>none               </td><td>black              </td><td> NA                </td><td>none               </td><td>NA                 </td><td>Droid              </td><td>The Force Awakens  </td><td>                   </td><td>                   </td></tr>\n",
       "\t<tr><td>Captain Phasma     </td><td> NA                </td><td>   NA              </td><td>unknown            </td><td>unknown            </td><td>unknown            </td><td> NA                </td><td>female             </td><td>NA                 </td><td>NA                 </td><td>The Force Awakens  </td><td>                   </td><td>                   </td></tr>\n",
       "\t<tr><td>Padmé Amidala                                                   </td><td>165                                                             </td><td> 45.0                                                           </td><td>brown                                                           </td><td>light                                                           </td><td>brown                                                           </td><td> 46                                                             </td><td>female                                                          </td><td>Naboo                                                           </td><td>Human                                                           </td><td>Attack of the Clones, The Phantom Menace  , Revenge of the Sith </td><td>                                                                </td><td>H-type Nubian yacht, Naboo star skiff   , Naboo fighter         </td></tr>\n",
       "</tbody>\n",
       "</table>\n"
      ],
      "text/latex": [
       "\\begin{tabular}{r|lllllllllllll}\n",
       " name & height & mass & hair\\_color & skin\\_color & eye\\_color & birth\\_year & gender & homeworld & species & films & vehicles & starships\\\\\n",
       "\\hline\n",
       "\t Luke Skywalker                                                                                                              & 172                                                                                                                         &   77.0                                                                                                                      & blond                                                                                                                       & fair                                                                                                                        & blue                                                                                                                        &  19.0                                                                                                                       & male                                                                                                                        & Tatooine                                                                                                                    & Human                                                                                                                       & Revenge of the Sith    , Return of the Jedi     , The Empire Strikes Back, A New Hope             , The Force Awakens       & Snowspeeder          , Imperial Speeder Bike                                                                                & X-wing          , Imperial shuttle                                                                                         \\\\\n",
       "\t C-3PO                                                                                                                                                & 167                                                                                                                                                  &   75.0                                                                                                                                               & NA                                                                                                                                                   & gold                                                                                                                                                 & yellow                                                                                                                                               & 112.0                                                                                                                                                & NA                                                                                                                                                   & Tatooine                                                                                                                                             & Droid                                                                                                                                                & Attack of the Clones   , The Phantom Menace     , Revenge of the Sith    , Return of the Jedi     , The Empire Strikes Back, A New Hope              &                                                                                                                                                      &                                                                                                                                                     \\\\\n",
       "\t R2-D2                                                                                                                                                                         &  96                                                                                                                                                                           &   32.0                                                                                                                                                                        & NA                                                                                                                                                                            & white, blue                                                                                                                                                                   & red                                                                                                                                                                           &  33.0                                                                                                                                                                         & NA                                                                                                                                                                            & Naboo                                                                                                                                                                         & Droid                                                                                                                                                                         & Attack of the Clones   , The Phantom Menace     , Revenge of the Sith    , Return of the Jedi     , The Empire Strikes Back, A New Hope             , The Force Awakens       &                                                                                                                                                                               &                                                                                                                                                                              \\\\\n",
       "\t Darth Vader                                                                                        & 202                                                                                                &  136.0                                                                                             & none                                                                                               & white                                                                                              & yellow                                                                                             &  41.9                                                                                              & male                                                                                               & Tatooine                                                                                           & Human                                                                                              & Revenge of the Sith    , Return of the Jedi     , The Empire Strikes Back, A New Hope              &                                                                                                    & TIE Advanced x1                                                                                   \\\\\n",
       "\t Leia Organa                                                                                                                 & 150                                                                                                                         &   49.0                                                                                                                      & brown                                                                                                                       & light                                                                                                                       & brown                                                                                                                       &  19.0                                                                                                                       & female                                                                                                                      & Alderaan                                                                                                                    & Human                                                                                                                       & Revenge of the Sith    , Return of the Jedi     , The Empire Strikes Back, A New Hope             , The Force Awakens       & Imperial Speeder Bike                                                                                                       &                                                                                                                            \\\\\n",
       "\t Owen Lars                                                        & 178                                                              &  120.0                                                           & brown, grey                                                      & light                                                            & blue                                                             &  52.0                                                            & male                                                             & Tatooine                                                         & Human                                                            & Attack of the Clones, Revenge of the Sith , A New Hope           &                                                                  &                                                                 \\\\\n",
       "\t Beru Whitesun lars                                               & 165                                                              &   75.0                                                           & brown                                                            & light                                                            & blue                                                             &  47.0                                                            & female                                                           & Tatooine                                                         & Human                                                            & Attack of the Clones, Revenge of the Sith , A New Hope           &                                                                  &                                                                 \\\\\n",
       "\t R5-D4                 &  97                   &   32.0                & NA                    & white, red            & red                   &    NA                 & NA                    & Tatooine              & Droid                 & A New Hope            &                       &                      \\\\\n",
       "\t Biggs Darklighter     & 183                   &   84.0                & black                 & light                 & brown                 &  24.0                 & male                  & Tatooine              & Human                 & A New Hope            &                       & X-wing               \\\\\n",
       "\t Obi-Wan Kenobi                                                                                                                                       & 182                                                                                                                                                  &   77.0                                                                                                                                               & auburn, white                                                                                                                                        & fair                                                                                                                                                 & blue-gray                                                                                                                                            &  57.0                                                                                                                                                & male                                                                                                                                                 & Stewjon                                                                                                                                              & Human                                                                                                                                                & Attack of the Clones   , The Phantom Menace     , Revenge of the Sith    , Return of the Jedi     , The Empire Strikes Back, A New Hope              & Tribubble bongo                                                                                                                                      & Jedi starfighter        , Trade Federation cruiser, Naboo star skiff        , Jedi Interceptor        , Belbullab-22 starfighter                    \\\\\n",
       "\t Anakin Skywalker                                                             & 188                                                                          &   84.0                                                                       & blond                                                                        & fair                                                                         & blue                                                                         &  41.9                                                                        & male                                                                         & Tatooine                                                                     & Human                                                                        & Attack of the Clones, The Phantom Menace  , Revenge of the Sith              & Zephyr-G swoop bike, XJ-6 airspeeder                                         & Trade Federation cruiser, Jedi Interceptor        , Naboo fighter           \\\\\n",
       "\t Wilhuff Tarkin                           & 180                                      &     NA                                   & auburn, grey                             & fair                                     & blue                                     &  64.0                                    & male                                     & Eriadu                                   & Human                                    & Revenge of the Sith, A New Hope          &                                          &                                         \\\\\n",
       "\t Chewbacca                                                                                                                   & 228                                                                                                                         &  112.0                                                                                                                      & brown                                                                                                                       & unknown                                                                                                                     & blue                                                                                                                        & 200.0                                                                                                                       & male                                                                                                                        & Kashyyyk                                                                                                                    & Wookiee                                                                                                                     & Revenge of the Sith    , Return of the Jedi     , The Empire Strikes Back, A New Hope             , The Force Awakens       & AT-ST                                                                                                                       & Millennium Falcon, Imperial shuttle                                                                                        \\\\\n",
       "\t Han Solo                                                                                           & 180                                                                                                &   80.0                                                                                             & brown                                                                                              & fair                                                                                               & brown                                                                                              &  29.0                                                                                              & male                                                                                               & Corellia                                                                                           & Human                                                                                              & Return of the Jedi     , The Empire Strikes Back, A New Hope             , The Force Awakens       &                                                                                                    & Millennium Falcon, Imperial shuttle                                                               \\\\\n",
       "\t Greedo                & 173                   &   74.0                & NA                    & green                 & black                 &  44.0                 & male                  & Rodia                 & Rodian                & A New Hope            &                       &                      \\\\\n",
       "\t Jabba Desilijic Tiure                                      & 175                                                        & 1358.0                                                     & NA                                                         & green-tan, brown                                           & orange                                                     & 600.0                                                      & hermaphrodite                                              & Nal Hutta                                                  & Hutt                                                       & The Phantom Menace, Return of the Jedi, A New Hope         &                                                            &                                                           \\\\\n",
       "\t Wedge Antilles                                                            & 170                                                                       &   77.0                                                                    & brown                                                                     & fair                                                                      & hazel                                                                     &  21.0                                                                     & male                                                                      & Corellia                                                                  & Human                                                                     & Return of the Jedi     , The Empire Strikes Back, A New Hope              & Snowspeeder                                                               & X-wing                                                                   \\\\\n",
       "\t Jek Tono Porkins      & 180                   &  110.0                & brown                 & fair                  & blue                  &    NA                 & male                  & Bestine IV            & Human                 & A New Hope            &                       & X-wing               \\\\\n",
       "\t Yoda                                                                                                                        &  66                                                                                                                         &   17.0                                                                                                                      & white                                                                                                                       & green                                                                                                                       & brown                                                                                                                       & 896.0                                                                                                                       & male                                                                                                                        & NA                                                                                                                          & Yoda's species                                                                                                              & Attack of the Clones   , The Phantom Menace     , Revenge of the Sith    , Return of the Jedi     , The Empire Strikes Back &                                                                                                                             &                                                                                                                            \\\\\n",
       "\t Palpatine                                                                                                                   & 170                                                                                                                         &   75.0                                                                                                                      & grey                                                                                                                        & pale                                                                                                                        & yellow                                                                                                                      &  82.0                                                                                                                       & male                                                                                                                        & Naboo                                                                                                                       & Human                                                                                                                       & Attack of the Clones   , The Phantom Menace     , Revenge of the Sith    , Return of the Jedi     , The Empire Strikes Back &                                                                                                                             &                                                                                                                            \\\\\n",
       "\t Boba Fett                                                                 & 183                                                                       &   78.2                                                                    & black                                                                     & fair                                                                      & brown                                                                     &  31.5                                                                     & male                                                                      & Kamino                                                                    & Human                                                                     & Attack of the Clones   , Return of the Jedi     , The Empire Strikes Back &                                                                           & Slave 1                                                                  \\\\\n",
       "\t IG-88                   & 200                     &  140.0                  & none                    & metal                   & red                     &  15.0                   & none                    & NA                      & Droid                   & The Empire Strikes Back &                         &                        \\\\\n",
       "\t Bossk                   & 190                     &  113.0                  & none                    & green                   & red                     &  53.0                   & male                    & Trandosha               & Trandoshan              & The Empire Strikes Back &                         &                        \\\\\n",
       "\t Lando Calrissian                                 & 177                                              &   79.0                                           & black                                            & dark                                             & brown                                            &  31.0                                            & male                                             & Socorro                                          & Human                                            & Return of the Jedi     , The Empire Strikes Back &                                                  & Millennium Falcon                               \\\\\n",
       "\t Lobot                   & 175                     &   79.0                  & none                    & light                   & blue                    &  37.0                   & male                    & Bespin                  & Human                   & The Empire Strikes Back &                         &                        \\\\\n",
       "\t Ackbar                                 & 180                                    &   83.0                                 & none                                   & brown mottle                           & orange                                 &  41.0                                  & male                                   & Mon Cala                               & Mon Calamari                           & Return of the Jedi, The Force Awakens  &                                        &                                       \\\\\n",
       "\t Mon Mothma            & 150                   &     NA                & auburn                & fair                  & blue                  &  48.0                 & female                & Chandrila             & Human                 & Return of the Jedi    &                       &                      \\\\\n",
       "\t Arvel Crynyd          &  NA                   &     NA                & brown                 & fair                  & brown                 &    NA                 & male                  & NA                    & Human                 & Return of the Jedi    &                       & A-wing               \\\\\n",
       "\t Wicket Systri Warrick &  88                   &   20.0                & brown                 & brown                 & brown                 &   8.0                 & male                  & Endor                 & Ewok                  & Return of the Jedi    &                       &                      \\\\\n",
       "\t Nien Nunb             & 160                   &   68.0                & none                  & grey                  & black                 &    NA                 & male                  & Sullust               & Sullustan             & Return of the Jedi    &                       & Millennium Falcon    \\\\\n",
       "\t ⋮ & ⋮ & ⋮ & ⋮ & ⋮ & ⋮ & ⋮ & ⋮ & ⋮ & ⋮ & ⋮ & ⋮ & ⋮\\\\\n",
       "\t Cordé                & 157                  &    NA                & brown                & light                & brown                &  NA                  & female               & Naboo                & Human                & Attack of the Clones &                      &                     \\\\\n",
       "\t Cliegg Lars          & 183                  &    NA                & brown                & fair                 & blue                 &  82                  & male                 & Tatooine             & Human                & Attack of the Clones &                      &                     \\\\\n",
       "\t Poggle the Lesser                          & 183                                        &  80.0                                      & none                                       & green                                      & yellow                                     &  NA                                        & male                                       & Geonosis                                   & Geonosian                                  & Attack of the Clones, Revenge of the Sith  &                                            &                                           \\\\\n",
       "\t Luminara Unduli                            & 170                                        &  56.2                                      & black                                      & yellow                                     & blue                                       &  58                                        & female                                     & Mirial                                     & Mirialan                                   & Attack of the Clones, Revenge of the Sith  &                                            &                                           \\\\\n",
       "\t Barriss Offee        & 166                  &  50.0                & black                & yellow               & blue                 &  40                  & female               & Mirial               & Mirialan             & Attack of the Clones &                      &                     \\\\\n",
       "\t Dormé                & 165                  &    NA                & brown                & light                & brown                &  NA                  & female               & Naboo                & Human                & Attack of the Clones &                      &                     \\\\\n",
       "\t Dooku                                      & 193                                        &  80.0                                      & white                                      & fair                                       & brown                                      & 102                                        & male                                       & Serenno                                    & Human                                      & Attack of the Clones, Revenge of the Sith  & Flitknot speeder                           &                                           \\\\\n",
       "\t Bail Prestor Organa                        & 191                                        &    NA                                      & black                                      & tan                                        & brown                                      &  67                                        & male                                       & Alderaan                                   & Human                                      & Attack of the Clones, Revenge of the Sith  &                                            &                                           \\\\\n",
       "\t Jango Fett           & 183                  &  79.0                & black                & tan                  & brown                &  66                  & male                 & Concord Dawn         & Human                & Attack of the Clones &                      &                     \\\\\n",
       "\t Zam Wesell                 & 168                        &  55.0                      & blonde                     & fair, green, yellow        & yellow                     &  NA                        & female                     & Zolan                      & Clawdite                   & Attack of the Clones       & Koro-2 Exodrive airspeeder &                           \\\\\n",
       "\t Dexter Jettster      & 198                  & 102.0                & none                 & brown                & yellow               &  NA                  & male                 & Ojom                 & Besalisk             & Attack of the Clones &                      &                     \\\\\n",
       "\t Lama Su              & 229                  &  88.0                & none                 & grey                 & black                &  NA                  & male                 & Kamino               & Kaminoan             & Attack of the Clones &                      &                     \\\\\n",
       "\t Taun We              & 213                  &    NA                & none                 & grey                 & black                &  NA                  & female               & Kamino               & Kaminoan             & Attack of the Clones &                      &                     \\\\\n",
       "\t Jocasta Nu           & 167                  &    NA                & white                & fair                 & blue                 &  NA                  & female               & Coruscant            & Human                & Attack of the Clones &                      &                     \\\\\n",
       "\t Ratts Tyerell       &  79                 &  15.0               & none                & grey, blue          & unknown             &  NA                 & male                & Aleen Minor         & Aleena              & The Phantom Menace  &                     &                    \\\\\n",
       "\t R4-P17                                     &  96                                        &    NA                                      & none                                       & silver, red                                & red, blue                                  &  NA                                        & female                                     & NA                                         & NA                                         & Attack of the Clones, Revenge of the Sith  &                                            &                                           \\\\\n",
       "\t Wat Tambor           & 193                  &  48.0                & none                 & green, grey          & unknown              &  NA                  & male                 & Skako                & Skakoan              & Attack of the Clones &                      &                     \\\\\n",
       "\t San Hill             & 191                  &    NA                & none                 & grey                 & gold                 &  NA                  & male                 & Muunilinst           & Muun                 & Attack of the Clones &                      &                     \\\\\n",
       "\t Shaak Ti                                   & 178                                        &  57.0                                      & none                                       & red, blue, white                           & black                                      &  NA                                        & female                                     & Shili                                      & Togruta                                    & Attack of the Clones, Revenge of the Sith  &                                            &                                           \\\\\n",
       "\t Grievous                    & 216                         & 159.0                       & none                        & brown, white                & green, yellow               &  NA                         & male                        & Kalee                       & Kaleesh                     & Revenge of the Sith         & Tsmeu-6 personal wheel bike & Belbullab-22 starfighter   \\\\\n",
       "\t Tarfful             & 234                 & 136.0               & brown               & brown               & blue                &  NA                 & male                & Kashyyyk            & Wookiee             & Revenge of the Sith &                     &                    \\\\\n",
       "\t Raymus Antilles                          & 188                                      &  79.0                                    & brown                                    & light                                    & brown                                    &  NA                                      & male                                     & Alderaan                                 & Human                                    & Revenge of the Sith, A New Hope          &                                          &                                         \\\\\n",
       "\t Sly Moore                                  & 178                                        &  48.0                                      & none                                       & pale                                       & white                                      &  NA                                        & female                                     & Umbara                                     & NA                                         & Attack of the Clones, Revenge of the Sith  &                                            &                                           \\\\\n",
       "\t Tion Medon          & 206                 &  80.0               & none                & grey                & black               &  NA                 & male                & Utapau              & Pau'an              & Revenge of the Sith &                     &                    \\\\\n",
       "\t Finn                &  NA                 &    NA               & black               & dark                & dark                &  NA                 & male                & NA                  & Human               & The Force Awakens   &                     &                    \\\\\n",
       "\t Rey                 &  NA                 &    NA               & brown               & light               & hazel               &  NA                 & female              & NA                  & Human               & The Force Awakens   &                     &                    \\\\\n",
       "\t Poe Dameron         &  NA                 &    NA               & brown               & light               & brown               &  NA                 & male                & NA                  & Human               & The Force Awakens   &                     & T-70 X-wing fighter\\\\\n",
       "\t BB8                 &  NA                 &    NA               & none                & none                & black               &  NA                 & none                & NA                  & Droid               & The Force Awakens   &                     &                    \\\\\n",
       "\t Captain Phasma      &  NA                 &    NA               & unknown             & unknown             & unknown             &  NA                 & female              & NA                  & NA                  & The Force Awakens   &                     &                    \\\\\n",
       "\t Padmé Amidala                                                    & 165                                                              &  45.0                                                            & brown                                                            & light                                                            & brown                                                            &  46                                                              & female                                                           & Naboo                                                            & Human                                                            & Attack of the Clones, The Phantom Menace  , Revenge of the Sith  &                                                                  & H-type Nubian yacht, Naboo star skiff   , Naboo fighter         \\\\\n",
       "\\end{tabular}\n"
      ],
      "text/markdown": [
       "\n",
       "| name | height | mass | hair_color | skin_color | eye_color | birth_year | gender | homeworld | species | films | vehicles | starships |\n",
       "|---|---|---|---|---|---|---|---|---|---|---|---|---|\n",
       "| Luke Skywalker                                                                                                              | 172                                                                                                                         |   77.0                                                                                                                      | blond                                                                                                                       | fair                                                                                                                        | blue                                                                                                                        |  19.0                                                                                                                       | male                                                                                                                        | Tatooine                                                                                                                    | Human                                                                                                                       | Revenge of the Sith    , Return of the Jedi     , The Empire Strikes Back, A New Hope             , The Force Awakens       | Snowspeeder          , Imperial Speeder Bike                                                                                | X-wing          , Imperial shuttle                                                                                          |\n",
       "| C-3PO                                                                                                                                                | 167                                                                                                                                                  |   75.0                                                                                                                                               | NA                                                                                                                                                   | gold                                                                                                                                                 | yellow                                                                                                                                               | 112.0                                                                                                                                                | NA                                                                                                                                                   | Tatooine                                                                                                                                             | Droid                                                                                                                                                | Attack of the Clones   , The Phantom Menace     , Revenge of the Sith    , Return of the Jedi     , The Empire Strikes Back, A New Hope              |                                                                                                                                                      |                                                                                                                                                      |\n",
       "| R2-D2                                                                                                                                                                         |  96                                                                                                                                                                           |   32.0                                                                                                                                                                        | NA                                                                                                                                                                            | white, blue                                                                                                                                                                   | red                                                                                                                                                                           |  33.0                                                                                                                                                                         | NA                                                                                                                                                                            | Naboo                                                                                                                                                                         | Droid                                                                                                                                                                         | Attack of the Clones   , The Phantom Menace     , Revenge of the Sith    , Return of the Jedi     , The Empire Strikes Back, A New Hope             , The Force Awakens       |                                                                                                                                                                               |                                                                                                                                                                               |\n",
       "| Darth Vader                                                                                        | 202                                                                                                |  136.0                                                                                             | none                                                                                               | white                                                                                              | yellow                                                                                             |  41.9                                                                                              | male                                                                                               | Tatooine                                                                                           | Human                                                                                              | Revenge of the Sith    , Return of the Jedi     , The Empire Strikes Back, A New Hope              |                                                                                                    | TIE Advanced x1                                                                                    |\n",
       "| Leia Organa                                                                                                                 | 150                                                                                                                         |   49.0                                                                                                                      | brown                                                                                                                       | light                                                                                                                       | brown                                                                                                                       |  19.0                                                                                                                       | female                                                                                                                      | Alderaan                                                                                                                    | Human                                                                                                                       | Revenge of the Sith    , Return of the Jedi     , The Empire Strikes Back, A New Hope             , The Force Awakens       | Imperial Speeder Bike                                                                                                       |                                                                                                                             |\n",
       "| Owen Lars                                                        | 178                                                              |  120.0                                                           | brown, grey                                                      | light                                                            | blue                                                             |  52.0                                                            | male                                                             | Tatooine                                                         | Human                                                            | Attack of the Clones, Revenge of the Sith , A New Hope           |                                                                  |                                                                  |\n",
       "| Beru Whitesun lars                                               | 165                                                              |   75.0                                                           | brown                                                            | light                                                            | blue                                                             |  47.0                                                            | female                                                           | Tatooine                                                         | Human                                                            | Attack of the Clones, Revenge of the Sith , A New Hope           |                                                                  |                                                                  |\n",
       "| R5-D4                 |  97                   |   32.0                | NA                    | white, red            | red                   |    NA                 | NA                    | Tatooine              | Droid                 | A New Hope            |                       |                       |\n",
       "| Biggs Darklighter     | 183                   |   84.0                | black                 | light                 | brown                 |  24.0                 | male                  | Tatooine              | Human                 | A New Hope            |                       | X-wing                |\n",
       "| Obi-Wan Kenobi                                                                                                                                       | 182                                                                                                                                                  |   77.0                                                                                                                                               | auburn, white                                                                                                                                        | fair                                                                                                                                                 | blue-gray                                                                                                                                            |  57.0                                                                                                                                                | male                                                                                                                                                 | Stewjon                                                                                                                                              | Human                                                                                                                                                | Attack of the Clones   , The Phantom Menace     , Revenge of the Sith    , Return of the Jedi     , The Empire Strikes Back, A New Hope              | Tribubble bongo                                                                                                                                      | Jedi starfighter        , Trade Federation cruiser, Naboo star skiff        , Jedi Interceptor        , Belbullab-22 starfighter                     |\n",
       "| Anakin Skywalker                                                             | 188                                                                          |   84.0                                                                       | blond                                                                        | fair                                                                         | blue                                                                         |  41.9                                                                        | male                                                                         | Tatooine                                                                     | Human                                                                        | Attack of the Clones, The Phantom Menace  , Revenge of the Sith              | Zephyr-G swoop bike, XJ-6 airspeeder                                         | Trade Federation cruiser, Jedi Interceptor        , Naboo fighter            |\n",
       "| Wilhuff Tarkin                           | 180                                      |     NA                                   | auburn, grey                             | fair                                     | blue                                     |  64.0                                    | male                                     | Eriadu                                   | Human                                    | Revenge of the Sith, A New Hope          |                                          |                                          |\n",
       "| Chewbacca                                                                                                                   | 228                                                                                                                         |  112.0                                                                                                                      | brown                                                                                                                       | unknown                                                                                                                     | blue                                                                                                                        | 200.0                                                                                                                       | male                                                                                                                        | Kashyyyk                                                                                                                    | Wookiee                                                                                                                     | Revenge of the Sith    , Return of the Jedi     , The Empire Strikes Back, A New Hope             , The Force Awakens       | AT-ST                                                                                                                       | Millennium Falcon, Imperial shuttle                                                                                         |\n",
       "| Han Solo                                                                                           | 180                                                                                                |   80.0                                                                                             | brown                                                                                              | fair                                                                                               | brown                                                                                              |  29.0                                                                                              | male                                                                                               | Corellia                                                                                           | Human                                                                                              | Return of the Jedi     , The Empire Strikes Back, A New Hope             , The Force Awakens       |                                                                                                    | Millennium Falcon, Imperial shuttle                                                                |\n",
       "| Greedo                | 173                   |   74.0                | NA                    | green                 | black                 |  44.0                 | male                  | Rodia                 | Rodian                | A New Hope            |                       |                       |\n",
       "| Jabba Desilijic Tiure                                      | 175                                                        | 1358.0                                                     | NA                                                         | green-tan, brown                                           | orange                                                     | 600.0                                                      | hermaphrodite                                              | Nal Hutta                                                  | Hutt                                                       | The Phantom Menace, Return of the Jedi, A New Hope         |                                                            |                                                            |\n",
       "| Wedge Antilles                                                            | 170                                                                       |   77.0                                                                    | brown                                                                     | fair                                                                      | hazel                                                                     |  21.0                                                                     | male                                                                      | Corellia                                                                  | Human                                                                     | Return of the Jedi     , The Empire Strikes Back, A New Hope              | Snowspeeder                                                               | X-wing                                                                    |\n",
       "| Jek Tono Porkins      | 180                   |  110.0                | brown                 | fair                  | blue                  |    NA                 | male                  | Bestine IV            | Human                 | A New Hope            |                       | X-wing                |\n",
       "| Yoda                                                                                                                        |  66                                                                                                                         |   17.0                                                                                                                      | white                                                                                                                       | green                                                                                                                       | brown                                                                                                                       | 896.0                                                                                                                       | male                                                                                                                        | NA                                                                                                                          | Yoda's species                                                                                                              | Attack of the Clones   , The Phantom Menace     , Revenge of the Sith    , Return of the Jedi     , The Empire Strikes Back |                                                                                                                             |                                                                                                                             |\n",
       "| Palpatine                                                                                                                   | 170                                                                                                                         |   75.0                                                                                                                      | grey                                                                                                                        | pale                                                                                                                        | yellow                                                                                                                      |  82.0                                                                                                                       | male                                                                                                                        | Naboo                                                                                                                       | Human                                                                                                                       | Attack of the Clones   , The Phantom Menace     , Revenge of the Sith    , Return of the Jedi     , The Empire Strikes Back |                                                                                                                             |                                                                                                                             |\n",
       "| Boba Fett                                                                 | 183                                                                       |   78.2                                                                    | black                                                                     | fair                                                                      | brown                                                                     |  31.5                                                                     | male                                                                      | Kamino                                                                    | Human                                                                     | Attack of the Clones   , Return of the Jedi     , The Empire Strikes Back |                                                                           | Slave 1                                                                   |\n",
       "| IG-88                   | 200                     |  140.0                  | none                    | metal                   | red                     |  15.0                   | none                    | NA                      | Droid                   | The Empire Strikes Back |                         |                         |\n",
       "| Bossk                   | 190                     |  113.0                  | none                    | green                   | red                     |  53.0                   | male                    | Trandosha               | Trandoshan              | The Empire Strikes Back |                         |                         |\n",
       "| Lando Calrissian                                 | 177                                              |   79.0                                           | black                                            | dark                                             | brown                                            |  31.0                                            | male                                             | Socorro                                          | Human                                            | Return of the Jedi     , The Empire Strikes Back |                                                  | Millennium Falcon                                |\n",
       "| Lobot                   | 175                     |   79.0                  | none                    | light                   | blue                    |  37.0                   | male                    | Bespin                  | Human                   | The Empire Strikes Back |                         |                         |\n",
       "| Ackbar                                 | 180                                    |   83.0                                 | none                                   | brown mottle                           | orange                                 |  41.0                                  | male                                   | Mon Cala                               | Mon Calamari                           | Return of the Jedi, The Force Awakens  |                                        |                                        |\n",
       "| Mon Mothma            | 150                   |     NA                | auburn                | fair                  | blue                  |  48.0                 | female                | Chandrila             | Human                 | Return of the Jedi    |                       |                       |\n",
       "| Arvel Crynyd          |  NA                   |     NA                | brown                 | fair                  | brown                 |    NA                 | male                  | NA                    | Human                 | Return of the Jedi    |                       | A-wing                |\n",
       "| Wicket Systri Warrick |  88                   |   20.0                | brown                 | brown                 | brown                 |   8.0                 | male                  | Endor                 | Ewok                  | Return of the Jedi    |                       |                       |\n",
       "| Nien Nunb             | 160                   |   68.0                | none                  | grey                  | black                 |    NA                 | male                  | Sullust               | Sullustan             | Return of the Jedi    |                       | Millennium Falcon     |\n",
       "| ⋮ | ⋮ | ⋮ | ⋮ | ⋮ | ⋮ | ⋮ | ⋮ | ⋮ | ⋮ | ⋮ | ⋮ | ⋮ |\n",
       "| Cordé                | 157                  |    NA                | brown                | light                | brown                |  NA                  | female               | Naboo                | Human                | Attack of the Clones |                      |                      |\n",
       "| Cliegg Lars          | 183                  |    NA                | brown                | fair                 | blue                 |  82                  | male                 | Tatooine             | Human                | Attack of the Clones |                      |                      |\n",
       "| Poggle the Lesser                          | 183                                        |  80.0                                      | none                                       | green                                      | yellow                                     |  NA                                        | male                                       | Geonosis                                   | Geonosian                                  | Attack of the Clones, Revenge of the Sith  |                                            |                                            |\n",
       "| Luminara Unduli                            | 170                                        |  56.2                                      | black                                      | yellow                                     | blue                                       |  58                                        | female                                     | Mirial                                     | Mirialan                                   | Attack of the Clones, Revenge of the Sith  |                                            |                                            |\n",
       "| Barriss Offee        | 166                  |  50.0                | black                | yellow               | blue                 |  40                  | female               | Mirial               | Mirialan             | Attack of the Clones |                      |                      |\n",
       "| Dormé                | 165                  |    NA                | brown                | light                | brown                |  NA                  | female               | Naboo                | Human                | Attack of the Clones |                      |                      |\n",
       "| Dooku                                      | 193                                        |  80.0                                      | white                                      | fair                                       | brown                                      | 102                                        | male                                       | Serenno                                    | Human                                      | Attack of the Clones, Revenge of the Sith  | Flitknot speeder                           |                                            |\n",
       "| Bail Prestor Organa                        | 191                                        |    NA                                      | black                                      | tan                                        | brown                                      |  67                                        | male                                       | Alderaan                                   | Human                                      | Attack of the Clones, Revenge of the Sith  |                                            |                                            |\n",
       "| Jango Fett           | 183                  |  79.0                | black                | tan                  | brown                |  66                  | male                 | Concord Dawn         | Human                | Attack of the Clones |                      |                      |\n",
       "| Zam Wesell                 | 168                        |  55.0                      | blonde                     | fair, green, yellow        | yellow                     |  NA                        | female                     | Zolan                      | Clawdite                   | Attack of the Clones       | Koro-2 Exodrive airspeeder |                            |\n",
       "| Dexter Jettster      | 198                  | 102.0                | none                 | brown                | yellow               |  NA                  | male                 | Ojom                 | Besalisk             | Attack of the Clones |                      |                      |\n",
       "| Lama Su              | 229                  |  88.0                | none                 | grey                 | black                |  NA                  | male                 | Kamino               | Kaminoan             | Attack of the Clones |                      |                      |\n",
       "| Taun We              | 213                  |    NA                | none                 | grey                 | black                |  NA                  | female               | Kamino               | Kaminoan             | Attack of the Clones |                      |                      |\n",
       "| Jocasta Nu           | 167                  |    NA                | white                | fair                 | blue                 |  NA                  | female               | Coruscant            | Human                | Attack of the Clones |                      |                      |\n",
       "| Ratts Tyerell       |  79                 |  15.0               | none                | grey, blue          | unknown             |  NA                 | male                | Aleen Minor         | Aleena              | The Phantom Menace  |                     |                     |\n",
       "| R4-P17                                     |  96                                        |    NA                                      | none                                       | silver, red                                | red, blue                                  |  NA                                        | female                                     | NA                                         | NA                                         | Attack of the Clones, Revenge of the Sith  |                                            |                                            |\n",
       "| Wat Tambor           | 193                  |  48.0                | none                 | green, grey          | unknown              |  NA                  | male                 | Skako                | Skakoan              | Attack of the Clones |                      |                      |\n",
       "| San Hill             | 191                  |    NA                | none                 | grey                 | gold                 |  NA                  | male                 | Muunilinst           | Muun                 | Attack of the Clones |                      |                      |\n",
       "| Shaak Ti                                   | 178                                        |  57.0                                      | none                                       | red, blue, white                           | black                                      |  NA                                        | female                                     | Shili                                      | Togruta                                    | Attack of the Clones, Revenge of the Sith  |                                            |                                            |\n",
       "| Grievous                    | 216                         | 159.0                       | none                        | brown, white                | green, yellow               |  NA                         | male                        | Kalee                       | Kaleesh                     | Revenge of the Sith         | Tsmeu-6 personal wheel bike | Belbullab-22 starfighter    |\n",
       "| Tarfful             | 234                 | 136.0               | brown               | brown               | blue                |  NA                 | male                | Kashyyyk            | Wookiee             | Revenge of the Sith |                     |                     |\n",
       "| Raymus Antilles                          | 188                                      |  79.0                                    | brown                                    | light                                    | brown                                    |  NA                                      | male                                     | Alderaan                                 | Human                                    | Revenge of the Sith, A New Hope          |                                          |                                          |\n",
       "| Sly Moore                                  | 178                                        |  48.0                                      | none                                       | pale                                       | white                                      |  NA                                        | female                                     | Umbara                                     | NA                                         | Attack of the Clones, Revenge of the Sith  |                                            |                                            |\n",
       "| Tion Medon          | 206                 |  80.0               | none                | grey                | black               |  NA                 | male                | Utapau              | Pau'an              | Revenge of the Sith |                     |                     |\n",
       "| Finn                |  NA                 |    NA               | black               | dark                | dark                |  NA                 | male                | NA                  | Human               | The Force Awakens   |                     |                     |\n",
       "| Rey                 |  NA                 |    NA               | brown               | light               | hazel               |  NA                 | female              | NA                  | Human               | The Force Awakens   |                     |                     |\n",
       "| Poe Dameron         |  NA                 |    NA               | brown               | light               | brown               |  NA                 | male                | NA                  | Human               | The Force Awakens   |                     | T-70 X-wing fighter |\n",
       "| BB8                 |  NA                 |    NA               | none                | none                | black               |  NA                 | none                | NA                  | Droid               | The Force Awakens   |                     |                     |\n",
       "| Captain Phasma      |  NA                 |    NA               | unknown             | unknown             | unknown             |  NA                 | female              | NA                  | NA                  | The Force Awakens   |                     |                     |\n",
       "| Padmé Amidala                                                    | 165                                                              |  45.0                                                            | brown                                                            | light                                                            | brown                                                            |  46                                                              | female                                                           | Naboo                                                            | Human                                                            | Attack of the Clones, The Phantom Menace  , Revenge of the Sith  |                                                                  | H-type Nubian yacht, Naboo star skiff   , Naboo fighter          |\n",
       "\n"
      ],
      "text/plain": [
       "   name                  height mass   hair_color    skin_color         \n",
       "1  Luke Skywalker        172      77.0 blond         fair               \n",
       "2  C-3PO                 167      75.0 NA            gold               \n",
       "3  R2-D2                  96      32.0 NA            white, blue        \n",
       "4  Darth Vader           202     136.0 none          white              \n",
       "5  Leia Organa           150      49.0 brown         light              \n",
       "6  Owen Lars             178     120.0 brown, grey   light              \n",
       "7  Beru Whitesun lars    165      75.0 brown         light              \n",
       "8  R5-D4                  97      32.0 NA            white, red         \n",
       "9  Biggs Darklighter     183      84.0 black         light              \n",
       "10 Obi-Wan Kenobi        182      77.0 auburn, white fair               \n",
       "11 Anakin Skywalker      188      84.0 blond         fair               \n",
       "12 Wilhuff Tarkin        180        NA auburn, grey  fair               \n",
       "13 Chewbacca             228     112.0 brown         unknown            \n",
       "14 Han Solo              180      80.0 brown         fair               \n",
       "15 Greedo                173      74.0 NA            green              \n",
       "16 Jabba Desilijic Tiure 175    1358.0 NA            green-tan, brown   \n",
       "17 Wedge Antilles        170      77.0 brown         fair               \n",
       "18 Jek Tono Porkins      180     110.0 brown         fair               \n",
       "19 Yoda                   66      17.0 white         green              \n",
       "20 Palpatine             170      75.0 grey          pale               \n",
       "21 Boba Fett             183      78.2 black         fair               \n",
       "22 IG-88                 200     140.0 none          metal              \n",
       "23 Bossk                 190     113.0 none          green              \n",
       "24 Lando Calrissian      177      79.0 black         dark               \n",
       "25 Lobot                 175      79.0 none          light              \n",
       "26 Ackbar                180      83.0 none          brown mottle       \n",
       "27 Mon Mothma            150        NA auburn        fair               \n",
       "28 Arvel Crynyd           NA        NA brown         fair               \n",
       "29 Wicket Systri Warrick  88      20.0 brown         brown              \n",
       "30 Nien Nunb             160      68.0 none          grey               \n",
       "⋮  ⋮                     ⋮      ⋮      ⋮             ⋮                  \n",
       "58 Cordé                 157       NA  brown         light              \n",
       "59 Cliegg Lars           183       NA  brown         fair               \n",
       "60 Poggle the Lesser     183     80.0  none          green              \n",
       "61 Luminara Unduli       170     56.2  black         yellow             \n",
       "62 Barriss Offee         166     50.0  black         yellow             \n",
       "63 Dormé                 165       NA  brown         light              \n",
       "64 Dooku                 193     80.0  white         fair               \n",
       "65 Bail Prestor Organa   191       NA  black         tan                \n",
       "66 Jango Fett            183     79.0  black         tan                \n",
       "67 Zam Wesell            168     55.0  blonde        fair, green, yellow\n",
       "68 Dexter Jettster       198    102.0  none          brown              \n",
       "69 Lama Su               229     88.0  none          grey               \n",
       "70 Taun We               213       NA  none          grey               \n",
       "71 Jocasta Nu            167       NA  white         fair               \n",
       "72 Ratts Tyerell          79     15.0  none          grey, blue         \n",
       "73 R4-P17                 96       NA  none          silver, red        \n",
       "74 Wat Tambor            193     48.0  none          green, grey        \n",
       "75 San Hill              191       NA  none          grey               \n",
       "76 Shaak Ti              178     57.0  none          red, blue, white   \n",
       "77 Grievous              216    159.0  none          brown, white       \n",
       "78 Tarfful               234    136.0  brown         brown              \n",
       "79 Raymus Antilles       188     79.0  brown         light              \n",
       "80 Sly Moore             178     48.0  none          pale               \n",
       "81 Tion Medon            206     80.0  none          grey               \n",
       "82 Finn                   NA       NA  black         dark               \n",
       "83 Rey                    NA       NA  brown         light              \n",
       "84 Poe Dameron            NA       NA  brown         light              \n",
       "85 BB8                    NA       NA  none          none               \n",
       "86 Captain Phasma         NA       NA  unknown       unknown            \n",
       "87 Padmé Amidala         165     45.0  brown         light              \n",
       "   eye_color     birth_year gender        homeworld    species       \n",
       "1  blue           19.0      male          Tatooine     Human         \n",
       "2  yellow        112.0      NA            Tatooine     Droid         \n",
       "3  red            33.0      NA            Naboo        Droid         \n",
       "4  yellow         41.9      male          Tatooine     Human         \n",
       "5  brown          19.0      female        Alderaan     Human         \n",
       "6  blue           52.0      male          Tatooine     Human         \n",
       "7  blue           47.0      female        Tatooine     Human         \n",
       "8  red              NA      NA            Tatooine     Droid         \n",
       "9  brown          24.0      male          Tatooine     Human         \n",
       "10 blue-gray      57.0      male          Stewjon      Human         \n",
       "11 blue           41.9      male          Tatooine     Human         \n",
       "12 blue           64.0      male          Eriadu       Human         \n",
       "13 blue          200.0      male          Kashyyyk     Wookiee       \n",
       "14 brown          29.0      male          Corellia     Human         \n",
       "15 black          44.0      male          Rodia        Rodian        \n",
       "16 orange        600.0      hermaphrodite Nal Hutta    Hutt          \n",
       "17 hazel          21.0      male          Corellia     Human         \n",
       "18 blue             NA      male          Bestine IV   Human         \n",
       "19 brown         896.0      male          NA           Yoda's species\n",
       "20 yellow         82.0      male          Naboo        Human         \n",
       "21 brown          31.5      male          Kamino       Human         \n",
       "22 red            15.0      none          NA           Droid         \n",
       "23 red            53.0      male          Trandosha    Trandoshan    \n",
       "24 brown          31.0      male          Socorro      Human         \n",
       "25 blue           37.0      male          Bespin       Human         \n",
       "26 orange         41.0      male          Mon Cala     Mon Calamari  \n",
       "27 blue           48.0      female        Chandrila    Human         \n",
       "28 brown            NA      male          NA           Human         \n",
       "29 brown           8.0      male          Endor        Ewok          \n",
       "30 black            NA      male          Sullust      Sullustan     \n",
       "⋮  ⋮             ⋮          ⋮             ⋮            ⋮             \n",
       "58 brown          NA        female        Naboo        Human         \n",
       "59 blue           82        male          Tatooine     Human         \n",
       "60 yellow         NA        male          Geonosis     Geonosian     \n",
       "61 blue           58        female        Mirial       Mirialan      \n",
       "62 blue           40        female        Mirial       Mirialan      \n",
       "63 brown          NA        female        Naboo        Human         \n",
       "64 brown         102        male          Serenno      Human         \n",
       "65 brown          67        male          Alderaan     Human         \n",
       "66 brown          66        male          Concord Dawn Human         \n",
       "67 yellow         NA        female        Zolan        Clawdite      \n",
       "68 yellow         NA        male          Ojom         Besalisk      \n",
       "69 black          NA        male          Kamino       Kaminoan      \n",
       "70 black          NA        female        Kamino       Kaminoan      \n",
       "71 blue           NA        female        Coruscant    Human         \n",
       "72 unknown        NA        male          Aleen Minor  Aleena        \n",
       "73 red, blue      NA        female        NA           NA            \n",
       "74 unknown        NA        male          Skako        Skakoan       \n",
       "75 gold           NA        male          Muunilinst   Muun          \n",
       "76 black          NA        female        Shili        Togruta       \n",
       "77 green, yellow  NA        male          Kalee        Kaleesh       \n",
       "78 blue           NA        male          Kashyyyk     Wookiee       \n",
       "79 brown          NA        male          Alderaan     Human         \n",
       "80 white          NA        female        Umbara       NA            \n",
       "81 black          NA        male          Utapau       Pau'an        \n",
       "82 dark           NA        male          NA           Human         \n",
       "83 hazel          NA        female        NA           Human         \n",
       "84 brown          NA        male          NA           Human         \n",
       "85 black          NA        none          NA           Droid         \n",
       "86 unknown        NA        female        NA           NA            \n",
       "87 brown          46        female        Naboo        Human         \n",
       "   films                                                                                                                                                                        \n",
       "1  Revenge of the Sith    , Return of the Jedi     , The Empire Strikes Back, A New Hope             , The Force Awakens                                                        \n",
       "2  Attack of the Clones   , The Phantom Menace     , Revenge of the Sith    , Return of the Jedi     , The Empire Strikes Back, A New Hope                                      \n",
       "3  Attack of the Clones   , The Phantom Menace     , Revenge of the Sith    , Return of the Jedi     , The Empire Strikes Back, A New Hope             , The Force Awakens      \n",
       "4  Revenge of the Sith    , Return of the Jedi     , The Empire Strikes Back, A New Hope                                                                                        \n",
       "5  Revenge of the Sith    , Return of the Jedi     , The Empire Strikes Back, A New Hope             , The Force Awakens                                                        \n",
       "6  Attack of the Clones, Revenge of the Sith , A New Hope                                                                                                                       \n",
       "7  Attack of the Clones, Revenge of the Sith , A New Hope                                                                                                                       \n",
       "8  A New Hope                                                                                                                                                                   \n",
       "9  A New Hope                                                                                                                                                                   \n",
       "10 Attack of the Clones   , The Phantom Menace     , Revenge of the Sith    , Return of the Jedi     , The Empire Strikes Back, A New Hope                                      \n",
       "11 Attack of the Clones, The Phantom Menace  , Revenge of the Sith                                                                                                              \n",
       "12 Revenge of the Sith, A New Hope                                                                                                                                              \n",
       "13 Revenge of the Sith    , Return of the Jedi     , The Empire Strikes Back, A New Hope             , The Force Awakens                                                        \n",
       "14 Return of the Jedi     , The Empire Strikes Back, A New Hope             , The Force Awakens                                                                                 \n",
       "15 A New Hope                                                                                                                                                                   \n",
       "16 The Phantom Menace, Return of the Jedi, A New Hope                                                                                                                           \n",
       "17 Return of the Jedi     , The Empire Strikes Back, A New Hope                                                                                                                 \n",
       "18 A New Hope                                                                                                                                                                   \n",
       "19 Attack of the Clones   , The Phantom Menace     , Revenge of the Sith    , Return of the Jedi     , The Empire Strikes Back                                                  \n",
       "20 Attack of the Clones   , The Phantom Menace     , Revenge of the Sith    , Return of the Jedi     , The Empire Strikes Back                                                  \n",
       "21 Attack of the Clones   , Return of the Jedi     , The Empire Strikes Back                                                                                                    \n",
       "22 The Empire Strikes Back                                                                                                                                                      \n",
       "23 The Empire Strikes Back                                                                                                                                                      \n",
       "24 Return of the Jedi     , The Empire Strikes Back                                                                                                                             \n",
       "25 The Empire Strikes Back                                                                                                                                                      \n",
       "26 Return of the Jedi, The Force Awakens                                                                                                                                        \n",
       "27 Return of the Jedi                                                                                                                                                           \n",
       "28 Return of the Jedi                                                                                                                                                           \n",
       "29 Return of the Jedi                                                                                                                                                           \n",
       "30 Return of the Jedi                                                                                                                                                           \n",
       "⋮  ⋮                                                                                                                                                                            \n",
       "58 Attack of the Clones                                                                                                                                                         \n",
       "59 Attack of the Clones                                                                                                                                                         \n",
       "60 Attack of the Clones, Revenge of the Sith                                                                                                                                    \n",
       "61 Attack of the Clones, Revenge of the Sith                                                                                                                                    \n",
       "62 Attack of the Clones                                                                                                                                                         \n",
       "63 Attack of the Clones                                                                                                                                                         \n",
       "64 Attack of the Clones, Revenge of the Sith                                                                                                                                    \n",
       "65 Attack of the Clones, Revenge of the Sith                                                                                                                                    \n",
       "66 Attack of the Clones                                                                                                                                                         \n",
       "67 Attack of the Clones                                                                                                                                                         \n",
       "68 Attack of the Clones                                                                                                                                                         \n",
       "69 Attack of the Clones                                                                                                                                                         \n",
       "70 Attack of the Clones                                                                                                                                                         \n",
       "71 Attack of the Clones                                                                                                                                                         \n",
       "72 The Phantom Menace                                                                                                                                                           \n",
       "73 Attack of the Clones, Revenge of the Sith                                                                                                                                    \n",
       "74 Attack of the Clones                                                                                                                                                         \n",
       "75 Attack of the Clones                                                                                                                                                         \n",
       "76 Attack of the Clones, Revenge of the Sith                                                                                                                                    \n",
       "77 Revenge of the Sith                                                                                                                                                          \n",
       "78 Revenge of the Sith                                                                                                                                                          \n",
       "79 Revenge of the Sith, A New Hope                                                                                                                                              \n",
       "80 Attack of the Clones, Revenge of the Sith                                                                                                                                    \n",
       "81 Revenge of the Sith                                                                                                                                                          \n",
       "82 The Force Awakens                                                                                                                                                            \n",
       "83 The Force Awakens                                                                                                                                                            \n",
       "84 The Force Awakens                                                                                                                                                            \n",
       "85 The Force Awakens                                                                                                                                                            \n",
       "86 The Force Awakens                                                                                                                                                            \n",
       "87 Attack of the Clones, The Phantom Menace  , Revenge of the Sith                                                                                                              \n",
       "   vehicles                                    \n",
       "1  Snowspeeder          , Imperial Speeder Bike\n",
       "2                                              \n",
       "3                                              \n",
       "4                                              \n",
       "5  Imperial Speeder Bike                       \n",
       "6                                              \n",
       "7                                              \n",
       "8                                              \n",
       "9                                              \n",
       "10 Tribubble bongo                             \n",
       "11 Zephyr-G swoop bike, XJ-6 airspeeder        \n",
       "12                                             \n",
       "13 AT-ST                                       \n",
       "14                                             \n",
       "15                                             \n",
       "16                                             \n",
       "17 Snowspeeder                                 \n",
       "18                                             \n",
       "19                                             \n",
       "20                                             \n",
       "21                                             \n",
       "22                                             \n",
       "23                                             \n",
       "24                                             \n",
       "25                                             \n",
       "26                                             \n",
       "27                                             \n",
       "28                                             \n",
       "29                                             \n",
       "30                                             \n",
       "⋮  ⋮                                           \n",
       "58                                             \n",
       "59                                             \n",
       "60                                             \n",
       "61                                             \n",
       "62                                             \n",
       "63                                             \n",
       "64 Flitknot speeder                            \n",
       "65                                             \n",
       "66                                             \n",
       "67 Koro-2 Exodrive airspeeder                  \n",
       "68                                             \n",
       "69                                             \n",
       "70                                             \n",
       "71                                             \n",
       "72                                             \n",
       "73                                             \n",
       "74                                             \n",
       "75                                             \n",
       "76                                             \n",
       "77 Tsmeu-6 personal wheel bike                 \n",
       "78                                             \n",
       "79                                             \n",
       "80                                             \n",
       "81                                             \n",
       "82                                             \n",
       "83                                             \n",
       "84                                             \n",
       "85                                             \n",
       "86                                             \n",
       "87                                             \n",
       "   starships                                                                                                                       \n",
       "1  X-wing          , Imperial shuttle                                                                                              \n",
       "2                                                                                                                                  \n",
       "3                                                                                                                                  \n",
       "4  TIE Advanced x1                                                                                                                 \n",
       "5                                                                                                                                  \n",
       "6                                                                                                                                  \n",
       "7                                                                                                                                  \n",
       "8                                                                                                                                  \n",
       "9  X-wing                                                                                                                          \n",
       "10 Jedi starfighter        , Trade Federation cruiser, Naboo star skiff        , Jedi Interceptor        , Belbullab-22 starfighter\n",
       "11 Trade Federation cruiser, Jedi Interceptor        , Naboo fighter                                                               \n",
       "12                                                                                                                                 \n",
       "13 Millennium Falcon, Imperial shuttle                                                                                             \n",
       "14 Millennium Falcon, Imperial shuttle                                                                                             \n",
       "15                                                                                                                                 \n",
       "16                                                                                                                                 \n",
       "17 X-wing                                                                                                                          \n",
       "18 X-wing                                                                                                                          \n",
       "19                                                                                                                                 \n",
       "20                                                                                                                                 \n",
       "21 Slave 1                                                                                                                         \n",
       "22                                                                                                                                 \n",
       "23                                                                                                                                 \n",
       "24 Millennium Falcon                                                                                                               \n",
       "25                                                                                                                                 \n",
       "26                                                                                                                                 \n",
       "27                                                                                                                                 \n",
       "28 A-wing                                                                                                                          \n",
       "29                                                                                                                                 \n",
       "30 Millennium Falcon                                                                                                               \n",
       "⋮  ⋮                                                                                                                               \n",
       "58                                                                                                                                 \n",
       "59                                                                                                                                 \n",
       "60                                                                                                                                 \n",
       "61                                                                                                                                 \n",
       "62                                                                                                                                 \n",
       "63                                                                                                                                 \n",
       "64                                                                                                                                 \n",
       "65                                                                                                                                 \n",
       "66                                                                                                                                 \n",
       "67                                                                                                                                 \n",
       "68                                                                                                                                 \n",
       "69                                                                                                                                 \n",
       "70                                                                                                                                 \n",
       "71                                                                                                                                 \n",
       "72                                                                                                                                 \n",
       "73                                                                                                                                 \n",
       "74                                                                                                                                 \n",
       "75                                                                                                                                 \n",
       "76                                                                                                                                 \n",
       "77 Belbullab-22 starfighter                                                                                                        \n",
       "78                                                                                                                                 \n",
       "79                                                                                                                                 \n",
       "80                                                                                                                                 \n",
       "81                                                                                                                                 \n",
       "82                                                                                                                                 \n",
       "83                                                                                                                                 \n",
       "84 T-70 X-wing fighter                                                                                                             \n",
       "85                                                                                                                                 \n",
       "86                                                                                                                                 \n",
       "87 H-type Nubian yacht, Naboo star skiff   , Naboo fighter                                                                         "
      ]
     },
     "metadata": {},
     "output_type": "display_data"
    }
   ],
   "source": [
    "starwars"
   ]
  },
  {
   "cell_type": "code",
   "execution_count": 92,
   "metadata": {},
   "outputs": [
    {
     "data": {
      "image/png": "[encoded data removed]",
      "text/plain": [
       "plot without title"
      ]
     },
     "metadata": {},
     "output_type": "display_data"
    }
   ],
   "source": [
    "tbl_mtcars_summary <- tbl_mtcars %>%\n",
    "    group_by(cyl) %>%\n",
    "    select(-car_name, -hp_cyl) %>%\n",
    "    summarize_all(funs(min = min, mean = mean, max = max)) %>%\n",
    "    gather(variable, value, -cyl) %>%\n",
    "    separate(variable, into = c(\"variable\", \"metric\"), sep = \"_\") %>%\n",
    "    spread(key = metric,value)\n",
    "\n",
    "ggplot(tbl_mtcars_summary) +\n",
    "    geom_point(aes(x = cyl, y = min, color = as.factor(cyl))) +\n",
    "    facet_grid(variable~., scales = \"free_y\")"
   ]
  },
  {
   "cell_type": "markdown",
   "metadata": {},
   "source": [
    "# Visualization"
   ]
  },
  {
   "cell_type": "code",
   "execution_count": 79,
   "metadata": {},
   "outputs": [
    {
     "name": "stdout",
     "output_type": "stream",
     "text": [
      "# A tibble: 32 x 14\n",
      "   car_name   mpg   cyl  disp    hp  drat    wt  qsec    vs    am  gear  carb\n",
      "   <chr>    <dbl> <dbl> <dbl> <dbl> <dbl> <dbl> <dbl> <dbl> <dbl> <dbl> <dbl>\n",
      " 1 Mazda R…  21       6  160    110  3.9   2.62  16.5     0     1     4     4\n",
      " 2 Mazda R…  21       6  160    110  3.9   2.88  17.0     0     1     4     4\n",
      " 3 Datsun …  22.8     4  108     93  3.85  2.32  18.6     1     1     4     1\n",
      " 4 Hornet …  21.4     6  258    110  3.08  3.22  19.4     1     0     3     1\n",
      " 5 Hornet …  18.7     8  360    175  3.15  3.44  17.0     0     0     3     2\n",
      " 6 Valiant   18.1     6  225    105  2.76  3.46  20.2     1     0     3     1\n",
      " 7 Duster …  14.3     8  360    245  3.21  3.57  15.8     0     0     3     4\n",
      " 8 Merc 24…  24.4     4  147.    62  3.69  3.19  20       1     0     4     2\n",
      " 9 Merc 230  22.8     4  141.    95  3.92  3.15  22.9     1     0     4     2\n",
      "10 Merc 280  19.2     6  168.   123  3.92  3.44  18.3     1     0     4     4\n",
      "# … with 22 more rows, and 2 more variables: hp_cyl <dbl>, gpm100 <dbl>\n"
     ]
    }
   ],
   "source": [
    "print(tbl_mtcars)"
   ]
  },
  {
   "cell_type": "code",
   "execution_count": null,
   "metadata": {},
   "outputs": [],
   "source": [
    "tbl_diamonds <- tibble::as_tibble(ggplot2::diamonds)\n",
    "print(tbl_diamonds)"
   ]
  },
  {
   "cell_type": "markdown",
   "metadata": {},
   "source": [
    "## ggplot2 basics"
   ]
  },
  {
   "cell_type": "markdown",
   "metadata": {},
   "source": [
    "### Data"
   ]
  },
  {
   "cell_type": "markdown",
   "metadata": {},
   "source": [
    "### Geoms"
   ]
  },
  {
   "cell_type": "markdown",
   "metadata": {},
   "source": [
    "### Scales"
   ]
  },
  {
   "cell_type": "markdown",
   "metadata": {},
   "source": [
    "### Legend"
   ]
  },
  {
   "cell_type": "markdown",
   "metadata": {},
   "source": [
    "## TrelliscopeJS"
   ]
  },
  {
   "cell_type": "markdown",
   "metadata": {},
   "source": [
    "# Final remarks\n",
    "\n",
    "You might want to create an .Rpofile file in your HOME directory, which will load tidyverse package on the R session startup. R will always source this file on load, unless there is .Rprofile file present in the current working directory.\n",
    "\n",
    "simple .Rprofile file, which will load tidyverse looks like this:\n",
    "\n",
    "```\n",
    "# This function is run at the start of the R session\n",
    ".First <- function(){\n",
    "    library(tidyverse)\n",
    "}\n",
    "```\n",
    "More on customizing the R session startup can be found here:\n",
    "https://www.statmethods.net/interface/customizing.html\n",
    "\n",
    "or in R terminal run `?Startup` for deep technical explanation."
   ]
  },
  {
   "cell_type": "code",
   "execution_count": null,
   "metadata": {},
   "outputs": [],
   "source": []
  }
 ],
 "metadata": {
  "kernelspec": {
   "display_name": "R",
   "language": "R",
   "name": "ir"
  },
  "language_info": {
   "codemirror_mode": "r",
   "file_extension": ".r",
   "mimetype": "text/x-r-source",
   "name": "R",
   "pygments_lexer": "r",
   "version": "3.5.1"
  }
 },
 "nbformat": 4,
 "nbformat_minor": 2
}
