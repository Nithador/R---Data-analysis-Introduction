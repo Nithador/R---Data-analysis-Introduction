{
 "cells": [
  {
   "cell_type": "markdown",
   "metadata": {},
   "source": [
    "# Introduction to R"
   ]
  },
  {
   "cell_type": "markdown",
   "metadata": {},
   "source": [
    "To see the currently loaded packages You can use command `print(.packages())`."
   ]
  },
  {
   "cell_type": "code",
   "execution_count": 5,
   "metadata": {},
   "outputs": [
    {
     "name": "stdout",
     "output_type": "stream",
     "text": [
      "[1] \"stats\"     \"graphics\"  \"grDevices\" \"utils\"     \"datasets\"  \"methods\"  \n",
      "[7] \"base\"     \n"
     ]
    }
   ],
   "source": [
    "print(.packages())"
   ]
  },
  {
   "cell_type": "code",
   "execution_count": 7,
   "metadata": {},
   "outputs": [
    {
     "data": {
      "text/html": [
       "<ol class=list-inline>\n",
       "\t<li>'compiler'</li>\n",
       "\t<li>'IRdisplay'</li>\n",
       "\t<li>'graphics'</li>\n",
       "\t<li>'pbdZMQ'</li>\n",
       "\t<li>'tools'</li>\n",
       "\t<li>'htmltools'</li>\n",
       "\t<li>'base64enc'</li>\n",
       "\t<li>'utils'</li>\n",
       "\t<li>'grDevices'</li>\n",
       "\t<li>'crayon'</li>\n",
       "\t<li>'Rcpp'</li>\n",
       "\t<li>'stats'</li>\n",
       "\t<li>'uuid'</li>\n",
       "\t<li>'datasets'</li>\n",
       "\t<li>'IRkernel'</li>\n",
       "\t<li>'methods'</li>\n",
       "\t<li>'jsonlite'</li>\n",
       "\t<li>'digest'</li>\n",
       "\t<li>'repr'</li>\n",
       "\t<li>'base'</li>\n",
       "\t<li>'evaluate'</li>\n",
       "</ol>\n"
      ],
      "text/latex": [
       "\\begin{enumerate*}\n",
       "\\item 'compiler'\n",
       "\\item 'IRdisplay'\n",
       "\\item 'graphics'\n",
       "\\item 'pbdZMQ'\n",
       "\\item 'tools'\n",
       "\\item 'htmltools'\n",
       "\\item 'base64enc'\n",
       "\\item 'utils'\n",
       "\\item 'grDevices'\n",
       "\\item 'crayon'\n",
       "\\item 'Rcpp'\n",
       "\\item 'stats'\n",
       "\\item 'uuid'\n",
       "\\item 'datasets'\n",
       "\\item 'IRkernel'\n",
       "\\item 'methods'\n",
       "\\item 'jsonlite'\n",
       "\\item 'digest'\n",
       "\\item 'repr'\n",
       "\\item 'base'\n",
       "\\item 'evaluate'\n",
       "\\end{enumerate*}\n"
      ],
      "text/markdown": [
       "1. 'compiler'\n",
       "2. 'IRdisplay'\n",
       "3. 'graphics'\n",
       "4. 'pbdZMQ'\n",
       "5. 'tools'\n",
       "6. 'htmltools'\n",
       "7. 'base64enc'\n",
       "8. 'utils'\n",
       "9. 'grDevices'\n",
       "10. 'crayon'\n",
       "11. 'Rcpp'\n",
       "12. 'stats'\n",
       "13. 'uuid'\n",
       "14. 'datasets'\n",
       "15. 'IRkernel'\n",
       "16. 'methods'\n",
       "17. 'jsonlite'\n",
       "18. 'digest'\n",
       "19. 'repr'\n",
       "20. 'base'\n",
       "21. 'evaluate'\n",
       "\n",
       "\n"
      ],
      "text/plain": [
       " [1] \"compiler\"  \"IRdisplay\" \"graphics\"  \"pbdZMQ\"    \"tools\"     \"htmltools\"\n",
       " [7] \"base64enc\" \"utils\"     \"grDevices\" \"crayon\"    \"Rcpp\"      \"stats\"    \n",
       "[13] \"uuid\"      \"datasets\"  \"IRkernel\"  \"methods\"   \"jsonlite\"  \"digest\"   \n",
       "[19] \"repr\"      \"base\"      \"evaluate\" "
      ]
     },
     "metadata": {},
     "output_type": "display_data"
    }
   ],
   "source": [
    "loadedNamespaces()"
   ]
  },
  {
   "cell_type": "code",
   "execution_count": 8,
   "metadata": {},
   "outputs": [
    {
     "name": "stderr",
     "output_type": "stream",
     "text": [
      "── Attaching packages ─────────────────────────────────────── tidyverse 1.2.1 ──\n",
      "✔ ggplot2 3.1.0     ✔ purrr   0.3.0\n",
      "✔ tibble  2.0.1     ✔ dplyr   0.7.8\n",
      "✔ tidyr   0.8.2     ✔ stringr 1.3.1\n",
      "✔ readr   1.3.1     ✔ forcats 0.3.0\n",
      "── Conflicts ────────────────────────────────────────── tidyverse_conflicts() ──\n",
      "✖ dplyr::filter() masks stats::filter()\n",
      "✖ dplyr::lag()    masks stats::lag()\n"
     ]
    }
   ],
   "source": [
    "library(tidyverse)"
   ]
  },
  {
   "cell_type": "code",
   "execution_count": 9,
   "metadata": {},
   "outputs": [
    {
     "name": "stdout",
     "output_type": "stream",
     "text": [
      " [1] \"forcats\"   \"stringr\"   \"dplyr\"     \"purrr\"     \"readr\"     \"tidyr\"    \n",
      " [7] \"tibble\"    \"ggplot2\"   \"tidyverse\" \"stats\"     \"graphics\"  \"grDevices\"\n",
      "[13] \"utils\"     \"datasets\"  \"methods\"   \"base\"     \n"
     ]
    }
   ],
   "source": [
    "print(.packages())"
   ]
  },
  {
   "cell_type": "markdown",
   "metadata": {},
   "source": [
    "## Creating variables"
   ]
  },
  {
   "cell_type": "markdown",
   "metadata": {},
   "source": []
  },
  {
   "cell_type": "code",
   "execution_count": 10,
   "metadata": {},
   "outputs": [
    {
     "name": "stdout",
     "output_type": "stream",
     "text": [
      "[1] 1\n"
     ]
    },
    {
     "data": {
      "text/html": [
       "'numeric'"
      ],
      "text/latex": [
       "'numeric'"
      ],
      "text/markdown": [
       "'numeric'"
      ],
      "text/plain": [
       "[1] \"numeric\""
      ]
     },
     "metadata": {},
     "output_type": "display_data"
    },
    {
     "data": {
      "text/html": [
       "'double'"
      ],
      "text/latex": [
       "'double'"
      ],
      "text/markdown": [
       "'double'"
      ],
      "text/plain": [
       "[1] \"double\""
      ]
     },
     "metadata": {},
     "output_type": "display_data"
    },
    {
     "data": {
      "text/html": [
       "1"
      ],
      "text/latex": [
       "1"
      ],
      "text/markdown": [
       "1"
      ],
      "text/plain": [
       "[1] 1"
      ]
     },
     "metadata": {},
     "output_type": "display_data"
    },
    {
     "name": "stdout",
     "output_type": "stream",
     "text": [
      "[1] 1 2\n"
     ]
    },
    {
     "data": {
      "text/html": [
       "'numeric'"
      ],
      "text/latex": [
       "'numeric'"
      ],
      "text/markdown": [
       "'numeric'"
      ],
      "text/plain": [
       "[1] \"numeric\""
      ]
     },
     "metadata": {},
     "output_type": "display_data"
    },
    {
     "data": {
      "text/html": [
       "'double'"
      ],
      "text/latex": [
       "'double'"
      ],
      "text/markdown": [
       "'double'"
      ],
      "text/plain": [
       "[1] \"double\""
      ]
     },
     "metadata": {},
     "output_type": "display_data"
    },
    {
     "data": {
      "text/html": [
       "2"
      ],
      "text/latex": [
       "2"
      ],
      "text/markdown": [
       "2"
      ],
      "text/plain": [
       "[1] 2"
      ]
     },
     "metadata": {},
     "output_type": "display_data"
    },
    {
     "name": "stdout",
     "output_type": "stream",
     "text": [
      "[1] 1 2\n"
     ]
    },
    {
     "data": {
      "text/html": [
       "'character'"
      ],
      "text/latex": [
       "'character'"
      ],
      "text/markdown": [
       "'character'"
      ],
      "text/plain": [
       "[1] \"character\""
      ]
     },
     "metadata": {},
     "output_type": "display_data"
    },
    {
     "data": {
      "text/html": [
       "'character'"
      ],
      "text/latex": [
       "'character'"
      ],
      "text/markdown": [
       "'character'"
      ],
      "text/plain": [
       "[1] \"character\""
      ]
     },
     "metadata": {},
     "output_type": "display_data"
    }
   ],
   "source": [
    "number <- 1\n",
    "print(number)\n",
    "class(number)\n",
    "typeof(number)\n",
    "length(number)\n",
    "vector <- c(1, 2)\n",
    "print(vector)\n",
    "class(vector)\n",
    "typeof(vector)\n",
    "length(vector)\n",
    "char_vector <- c(1, \"2\")\n",
    "print(vector)\n",
    "class(char_vector)\n",
    "typeof(char_vector)"
   ]
  },
  {
   "cell_type": "markdown",
   "metadata": {},
   "source": [
    " In similar way it is possible to see variables in the workspace with command `ls()`."
   ]
  },
  {
   "cell_type": "code",
   "execution_count": 11,
   "metadata": {},
   "outputs": [
    {
     "data": {
      "text/html": [
       "<ol class=list-inline>\n",
       "\t<li>'char_vector'</li>\n",
       "\t<li>'number'</li>\n",
       "\t<li>'problem'</li>\n",
       "\t<li>'square_number'</li>\n",
       "\t<li>'vector'</li>\n",
       "</ol>\n"
      ],
      "text/latex": [
       "\\begin{enumerate*}\n",
       "\\item 'char\\_vector'\n",
       "\\item 'number'\n",
       "\\item 'problem'\n",
       "\\item 'square\\_number'\n",
       "\\item 'vector'\n",
       "\\end{enumerate*}\n"
      ],
      "text/markdown": [
       "1. 'char_vector'\n",
       "2. 'number'\n",
       "3. 'problem'\n",
       "4. 'square_number'\n",
       "5. 'vector'\n",
       "\n",
       "\n"
      ],
      "text/plain": [
       "[1] \"char_vector\"   \"number\"        \"problem\"       \"square_number\"\n",
       "[5] \"vector\"       "
      ]
     },
     "metadata": {},
     "output_type": "display_data"
    }
   ],
   "source": [
    "ls()"
   ]
  },
  {
   "cell_type": "markdown",
   "metadata": {},
   "source": [
    "## Tibble"
   ]
  },
  {
   "cell_type": "code",
   "execution_count": 12,
   "metadata": {},
   "outputs": [
    {
     "ename": "ERROR",
     "evalue": "Error in parse(text = x, srcfile = src): <text>:9:1: unexpected symbol\n8: print(df_voters\n9: cat\n   ^\n",
     "output_type": "error",
     "traceback": [
      "Error in parse(text = x, srcfile = src): <text>:9:1: unexpected symbol\n8: print(df_voters\n9: cat\n   ^\nTraceback:\n"
     ]
    }
   ],
   "source": [
    "df_voters <- data.frame(first_name = c(\"Jane\", \"Joe\", \"Bob\"),\n",
    "                        last_name = c(NA, NA, \"Smith\"),\n",
    "                        sex = c(\"W\", \"M\", \"M\"),\n",
    "                        identitification = c(FALSE, FALSE, TRUE),\n",
    "                        age = c(NA, 45, 60),\n",
    "                        recycled_variable = 2\n",
    "                        )\n",
    "print(df_voters\n",
    "cat(\"\\nClass of df_voters is:\")\n",
    "class(df_voters)"
   ]
  },
  {
   "cell_type": "code",
   "execution_count": 13,
   "metadata": {},
   "outputs": [
    {
     "data": {
      "text/html": [
       "<table>\n",
       "<thead><tr><th scope=col>first_name</th><th scope=col>last_name</th><th scope=col>sex</th><th scope=col>identitification</th><th scope=col>age</th><th scope=col>recycled_variable</th></tr></thead>\n",
       "<tbody>\n",
       "\t<tr><td>Jane </td><td>NA   </td><td>W    </td><td>FALSE</td><td>NA   </td><td>2    </td></tr>\n",
       "\t<tr><td>Joe  </td><td>NA   </td><td>M    </td><td>FALSE</td><td>45   </td><td>2    </td></tr>\n",
       "\t<tr><td>Bob  </td><td>Smith</td><td>M    </td><td> TRUE</td><td>60   </td><td>2    </td></tr>\n",
       "</tbody>\n",
       "</table>\n"
      ],
      "text/latex": [
       "\\begin{tabular}{r|llllll}\n",
       " first\\_name & last\\_name & sex & identitification & age & recycled\\_variable\\\\\n",
       "\\hline\n",
       "\t Jane  & NA    & W     & FALSE & NA    & 2    \\\\\n",
       "\t Joe   & NA    & M     & FALSE & 45    & 2    \\\\\n",
       "\t Bob   & Smith & M     &  TRUE & 60    & 2    \\\\\n",
       "\\end{tabular}\n"
      ],
      "text/markdown": [
       "\n",
       "| first_name | last_name | sex | identitification | age | recycled_variable |\n",
       "|---|---|---|---|---|---|\n",
       "| Jane  | NA    | W     | FALSE | NA    | 2     |\n",
       "| Joe   | NA    | M     | FALSE | 45    | 2     |\n",
       "| Bob   | Smith | M     |  TRUE | 60    | 2     |\n",
       "\n"
      ],
      "text/plain": [
       "  first_name last_name sex identitification age recycled_variable\n",
       "1 Jane       NA        W   FALSE            NA  2                \n",
       "2 Joe        NA        M   FALSE            45  2                \n",
       "3 Bob        Smith     M    TRUE            60  2                "
      ]
     },
     "metadata": {},
     "output_type": "display_data"
    },
    {
     "name": "stdout",
     "output_type": "stream",
     "text": [
      "\n",
      "Class of tbl_voters is:"
     ]
    },
    {
     "data": {
      "text/html": [
       "<ol class=list-inline>\n",
       "\t<li>'tbl_df'</li>\n",
       "\t<li>'tbl'</li>\n",
       "\t<li>'data.frame'</li>\n",
       "</ol>\n"
      ],
      "text/latex": [
       "\\begin{enumerate*}\n",
       "\\item 'tbl\\_df'\n",
       "\\item 'tbl'\n",
       "\\item 'data.frame'\n",
       "\\end{enumerate*}\n"
      ],
      "text/markdown": [
       "1. 'tbl_df'\n",
       "2. 'tbl'\n",
       "3. 'data.frame'\n",
       "\n",
       "\n"
      ],
      "text/plain": [
       "[1] \"tbl_df\"     \"tbl\"        \"data.frame\""
      ]
     },
     "metadata": {},
     "output_type": "display_data"
    }
   ],
   "source": [
    "tbl_voters <- tibble(first_name = c(\"Jane\", \"Joe\", \"Bob\"),\n",
    "                     last_name = c(NA, NA, \"Smith\"),\n",
    "                     sex = c(\"W\", \"M\", \"M\"),\n",
    "                     identitification = c(FALSE, FALSE, TRUE),\n",
    "                     age = c(NA, 45, 60),\n",
    "                     recycled_variable = as.integer(2)\n",
    "                    )\n",
    "tbl_voters\n",
    "cat(\"\\nClass of tbl_voters is:\")\n",
    "class(tbl_voters)"
   ]
  },
  {
   "cell_type": "markdown",
   "metadata": {},
   "source": [
    "## Functions"
   ]
  },
  {
   "cell_type": "code",
   "execution_count": 14,
   "metadata": {},
   "outputs": [
    {
     "data": {
      "text/html": [
       "16"
      ],
      "text/latex": [
       "16"
      ],
      "text/markdown": [
       "16"
      ],
      "text/plain": [
       "[1] 16"
      ]
     },
     "metadata": {},
     "output_type": "display_data"
    },
    {
     "ename": "ERROR",
     "evalue": "Error in x^2: non-numeric argument to binary operator\n",
     "output_type": "error",
     "traceback": [
      "Error in x^2: non-numeric argument to binary operator\nTraceback:\n",
      "1. square_number(\"a\")"
     ]
    }
   ],
   "source": [
    "square_number <- function(x){\n",
    "    x^2\n",
    "}\n",
    "\n",
    "square_number(4)\n",
    "square_number(\"a\")"
   ]
  },
  {
   "cell_type": "code",
   "execution_count": 20,
   "metadata": {},
   "outputs": [
    {
     "data": {
      "text/html": [
       "'test'"
      ],
      "text/latex": [
       "'test'"
      ],
      "text/markdown": [
       "'test'"
      ],
      "text/plain": [
       "[1] \"test\""
      ]
     },
     "metadata": {},
     "output_type": "display_data"
    },
    {
     "data": {
      "text/html": [
       "<table>\n",
       "<thead><tr><th scope=col>first_name</th><th scope=col>last_name</th><th scope=col>sex</th><th scope=col>identitification</th><th scope=col>age</th><th scope=col>recycled_variable</th></tr></thead>\n",
       "<tbody>\n",
       "\t<tr><td>Jane </td><td>NA   </td><td>W    </td><td>FALSE</td><td>NA   </td><td>2    </td></tr>\n",
       "\t<tr><td>Joe  </td><td>NA   </td><td>M    </td><td>FALSE</td><td>45   </td><td>2    </td></tr>\n",
       "\t<tr><td>Bob  </td><td>Smith</td><td>M    </td><td> TRUE</td><td>60   </td><td>2    </td></tr>\n",
       "</tbody>\n",
       "</table>\n"
      ],
      "text/latex": [
       "\\begin{tabular}{r|llllll}\n",
       " first\\_name & last\\_name & sex & identitification & age & recycled\\_variable\\\\\n",
       "\\hline\n",
       "\t Jane  & NA    & W     & FALSE & NA    & 2    \\\\\n",
       "\t Joe   & NA    & M     & FALSE & 45    & 2    \\\\\n",
       "\t Bob   & Smith & M     &  TRUE & 60    & 2    \\\\\n",
       "\\end{tabular}\n"
      ],
      "text/markdown": [
       "\n",
       "| first_name | last_name | sex | identitification | age | recycled_variable |\n",
       "|---|---|---|---|---|---|\n",
       "| Jane  | NA    | W     | FALSE | NA    | 2     |\n",
       "| Joe   | NA    | M     | FALSE | 45    | 2     |\n",
       "| Bob   | Smith | M     |  TRUE | 60    | 2     |\n",
       "\n"
      ],
      "text/plain": [
       "  first_name last_name sex identitification age recycled_variable\n",
       "1 Jane       NA        W   FALSE            NA  2                \n",
       "2 Joe        NA        M   FALSE            45  2                \n",
       "3 Bob        Smith     M    TRUE            60  2                "
      ]
     },
     "metadata": {},
     "output_type": "display_data"
    }
   ],
   "source": [
    "problem <- function(tbl_voters){\n",
    "    tbl_voters <- \"test\"\n",
    "    tbl_voters\n",
    "}\n",
    "\n",
    "problem(tbl_voters)\n",
    "tbl_voters"
   ]
  },
  {
   "cell_type": "markdown",
   "metadata": {},
   "source": [
    "# Data import"
   ]
  },
  {
   "cell_type": "markdown",
   "metadata": {},
   "source": [
    "Many different functions for standard file formats:\n",
    "\n",
    "| _Type_       | _Package_ | _Command_ |\n",
    "| ------------ |:---------:|:----------|\n",
    "| Text (tibble) | readr | `read_csv()` |\n",
    "| Text (better performance) | data.table | `fread()` |\n",
    "|Excel       | readxl | `read_excel()` |\n",
    "|SPSS        | haven | `read_sav()` |\n",
    "|SAS         | haven | `read_sas()` |\n",
    "|Stata       | haven | `read_stata()` |\n",
    "|XML | xml2 | `read_xml()` |\n",
    "|Matlab | R.matlab | `readMat()`|\n",
    "\n",
    "For some of these there is special **Import Dataset** button in the *RStudio IDE*.\n",
    "\n",
    "In this course we will use only the `readr::read_csv()` command to read the text data into tibbles."
   ]
  },
  {
   "cell_type": "code",
   "execution_count": 14,
   "metadata": {},
   "outputs": [
    {
     "name": "stderr",
     "output_type": "stream",
     "text": [
      "Parsed with column specification:\n",
      "cols(\n",
      "  mpg = col_double(),\n",
      "  cyl = col_double(),\n",
      "  disp = col_double(),\n",
      "  hp = col_double(),\n",
      "  drat = col_double(),\n",
      "  wt = col_double(),\n",
      "  qsec = col_double(),\n",
      "  vs = col_double(),\n",
      "  am = col_double(),\n",
      "  gear = col_double(),\n",
      "  carb = col_double()\n",
      ")\n"
     ]
    }
   ],
   "source": [
    "write_csv(mtcars, path = \"mtcars.csv\")\n",
    "tbl_mtcars <- read_csv(\"mtcars.csv\")"
   ]
  },
  {
   "cell_type": "code",
   "execution_count": 23,
   "metadata": {},
   "outputs": [],
   "source": [
    "tbl_mtcars2 <- read_csv(\"mtcars.csv\",\n",
    "                      col_types = list(\n",
    "                      mpg = col_double(),\n",
    "                      cyl = col_double(),\n",
    "                      disp = col_double(),\n",
    "                      hp = col_double(),\n",
    "                      drat = col_double(),\n",
    "                      wt = col_double(),\n",
    "                      qsec = col_double(),\n",
    "                      vs = col_double(),\n",
    "                      am = col_double(),\n",
    "                      gear = col_double(),\n",
    "                      carb = col_double()\n",
    "                      )\n",
    "                )"
   ]
  },
  {
   "cell_type": "code",
   "execution_count": 24,
   "metadata": {},
   "outputs": [
    {
     "name": "stdout",
     "output_type": "stream",
     "text": [
      "# A tibble: 32 x 11\n",
      "     mpg   cyl  disp    hp  drat    wt  qsec    vs    am  gear  carb\n",
      "   <dbl> <dbl> <dbl> <dbl> <dbl> <dbl> <dbl> <dbl> <dbl> <dbl> <dbl>\n",
      " 1  21       6  160    110  3.9   2.62  16.5     0     1     4     4\n",
      " 2  21       6  160    110  3.9   2.88  17.0     0     1     4     4\n",
      " 3  22.8     4  108     93  3.85  2.32  18.6     1     1     4     1\n",
      " 4  21.4     6  258    110  3.08  3.22  19.4     1     0     3     1\n",
      " 5  18.7     8  360    175  3.15  3.44  17.0     0     0     3     2\n",
      " 6  18.1     6  225    105  2.76  3.46  20.2     1     0     3     1\n",
      " 7  14.3     8  360    245  3.21  3.57  15.8     0     0     3     4\n",
      " 8  24.4     4  147.    62  3.69  3.19  20       1     0     4     2\n",
      " 9  22.8     4  141.    95  3.92  3.15  22.9     1     0     4     2\n",
      "10  19.2     6  168.   123  3.92  3.44  18.3     1     0     4     4\n",
      "# … with 22 more rows\n",
      "# A tibble: 32 x 11\n",
      "     mpg   cyl  disp    hp  drat    wt  qsec    vs    am  gear  carb\n",
      "   <dbl> <dbl> <dbl> <dbl> <dbl> <dbl> <dbl> <dbl> <dbl> <dbl> <dbl>\n",
      " 1  21       6  160    110  3.9   2.62  16.5     0     1     4     4\n",
      " 2  21       6  160    110  3.9   2.88  17.0     0     1     4     4\n",
      " 3  22.8     4  108     93  3.85  2.32  18.6     1     1     4     1\n",
      " 4  21.4     6  258    110  3.08  3.22  19.4     1     0     3     1\n",
      " 5  18.7     8  360    175  3.15  3.44  17.0     0     0     3     2\n",
      " 6  18.1     6  225    105  2.76  3.46  20.2     1     0     3     1\n",
      " 7  14.3     8  360    245  3.21  3.57  15.8     0     0     3     4\n",
      " 8  24.4     4  147.    62  3.69  3.19  20       1     0     4     2\n",
      " 9  22.8     4  141.    95  3.92  3.15  22.9     1     0     4     2\n",
      "10  19.2     6  168.   123  3.92  3.44  18.3     1     0     4     4\n",
      "# … with 22 more rows\n"
     ]
    }
   ],
   "source": [
    "print(tbl_mtcars)\n",
    "print(tbl_mtcars2)"
   ]
  },
  {
   "cell_type": "markdown",
   "metadata": {},
   "source": [
    "# Tidying data"
   ]
  },
  {
   "cell_type": "markdown",
   "metadata": {},
   "source": [
    "## Data structures"
   ]
  },
  {
   "cell_type": "markdown",
   "metadata": {},
   "source": [
    "## Tidy data advantages"
   ]
  },
  {
   "cell_type": "markdown",
   "metadata": {},
   "source": [
    "## Missing and extreme values"
   ]
  },
  {
   "cell_type": "markdown",
   "metadata": {},
   "source": [
    "# Data exploration"
   ]
  },
  {
   "cell_type": "markdown",
   "metadata": {},
   "source": [
    "#### note that dbplyr is dplyr for databases"
   ]
  },
  {
   "cell_type": "markdown",
   "metadata": {},
   "source": [
    "Filtering"
   ]
  },
  {
   "cell_type": "markdown",
   "metadata": {},
   "source": [
    "Mutate"
   ]
  },
  {
   "cell_type": "markdown",
   "metadata": {},
   "source": [
    "Aggregating, grouping, summarizing"
   ]
  },
  {
   "cell_type": "markdown",
   "metadata": {},
   "source": [
    "# Visulization"
   ]
  },
  {
   "cell_type": "markdown",
   "metadata": {},
   "source": [
    "## ggplot2 basics"
   ]
  },
  {
   "cell_type": "markdown",
   "metadata": {},
   "source": [
    "### Data"
   ]
  },
  {
   "cell_type": "markdown",
   "metadata": {},
   "source": [
    "### Geoms"
   ]
  },
  {
   "cell_type": "markdown",
   "metadata": {},
   "source": [
    "### Scales"
   ]
  },
  {
   "cell_type": "markdown",
   "metadata": {},
   "source": [
    "### Legend"
   ]
  },
  {
   "cell_type": "markdown",
   "metadata": {},
   "source": [
    "# Final remarks\n",
    "\n",
    "You might want to create an .Rpofile file in your HOME directory, which will load tidyverse package on the R session startup. R will always source this file on load, unless there is .Rprofile file present in the current working directory.\n",
    "\n",
    "simple .Rprofile file, which will load tidyverse looks like this:\n",
    "\n",
    "```\n",
    "# This function is run at the start of the R session\n",
    ".First <- function(){\n",
    "    library(tidyverse)\n",
    "}\n",
    "```\n",
    "More on customizing the R session startup can be found here:\n",
    "https://www.statmethods.net/interface/customizing.html\n",
    "\n",
    "or in R terminal run `?Startup` for deep technical explanation."
   ]
  },
  {
   "cell_type": "code",
   "execution_count": null,
   "metadata": {},
   "outputs": [],
   "source": []
  }
 ],
 "metadata": {
  "kernelspec": {
   "display_name": "R",
   "language": "R",
   "name": "ir"
  },
  "language_info": {
   "codemirror_mode": "r",
   "file_extension": ".r",
   "mimetype": "text/x-r-source",
   "name": "R",
   "pygments_lexer": "r",
   "version": "3.5.1"
  }
 },
 "nbformat": 4,
 "nbformat_minor": 2
}
