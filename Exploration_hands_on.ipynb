{
 "cells": [
  {
   "cell_type": "markdown",
   "metadata": {},
   "source": [
    "## List of useful links\n",
    "- [Tidyverse](https://www.tidyverse.org/)\n",
    "- [Cheatsheets list](https://www.rstudio.com/resources/cheatsheets/)\n",
    "- [Direct link to data import cheatsheet](https://github.com/rstudio/cheatsheets/raw/master/data-import.pdf)\n",
    "- [Direct link to dplyr cheatsheet](https://github.com/rstudio/cheatsheets/raw/master/data-transformation.pdf)\n",
    "- [Direct link to ggplot2 cheatsheet](https://github.com/rstudio/cheatsheets/raw/master/data-visualization-2.1.pdf)\n",
    "- [Direct link to base R vs formula approach vs tidyverse approach](https://github.com/rstudio/cheatsheets/raw/master/syntax.pdf)\n",
    "\n",
    "- [Hadley Wickam`s tidy data paper](https://www.jstatsoft.org/article/view/v059i10/)\n",
    "- [Comprehensive book about data science with tidyverse](https://r4ds.had.co.nz/)"
   ]
  },
  {
   "cell_type": "code",
   "execution_count": null,
   "metadata": {},
   "outputs": [],
   "source": [
    "library(tidyverse)\n",
    "\n",
    "tbl_gap <- as_tibble(gapminder::gapminder)\n",
    "print(tbl_gap)"
   ]
  },
  {
   "cell_type": "markdown",
   "metadata": {},
   "source": [
    "### Draw a plot of year vs gdpPerCap colored by the continent. Use geom \"smooth\"."
   ]
  },
  {
   "cell_type": "code",
   "execution_count": null,
   "metadata": {},
   "outputs": [],
   "source": []
  },
  {
   "cell_type": "markdown",
   "metadata": {},
   "source": [
    "### Plot histogram of lifeExp in 2007, set fill to continent."
   ]
  },
  {
   "cell_type": "code",
   "execution_count": null,
   "metadata": {},
   "outputs": [],
   "source": []
  },
  {
   "cell_type": "markdown",
   "metadata": {},
   "source": [
    "### Compute max and mean gdpPercap by continent"
   ]
  },
  {
   "cell_type": "code",
   "execution_count": null,
   "metadata": {},
   "outputs": [],
   "source": []
  },
  {
   "cell_type": "markdown",
   "metadata": {},
   "source": [
    "### Compute the top 3 countries for each continent by mean gdpPercap in 21st century\n",
    "You will need to use function top_n() after computing the mean gpdPercap and sorting it."
   ]
  },
  {
   "cell_type": "code",
   "execution_count": null,
   "metadata": {},
   "outputs": [],
   "source": []
  },
  {
   "cell_type": "markdown",
   "metadata": {},
   "source": [
    "### Find out which countries had the biggest absolute differences of life expectancy\n",
    "You will need to use functions sum(), abs(), diff() for the computation."
   ]
  },
  {
   "cell_type": "code",
   "execution_count": null,
   "metadata": {},
   "outputs": [],
   "source": []
  },
  {
   "cell_type": "markdown",
   "metadata": {},
   "source": [
    "### Draw a line plot (geom = \"line\") of year vs lifeExp for the first three countries. Color lines by country. Do You now what is happening there?\n",
    "To subset multiple countries You have to use operator %in% in filter function.\n",
    "To see how it works try `1:10 %in% c(1,3,5)`."
   ]
  },
  {
   "cell_type": "code",
   "execution_count": null,
   "metadata": {},
   "outputs": [],
   "source": []
  },
  {
   "cell_type": "markdown",
   "metadata": {},
   "source": [
    "### Here is provided another dataset for analysing audit risks. Explore it freely."
   ]
  },
  {
   "cell_type": "code",
   "execution_count": null,
   "metadata": {},
   "outputs": [],
   "source": [
    "audit <- read_csv(url(\"http://rattle.togaware.com/audit.csv\"))"
   ]
  },
  {
   "cell_type": "code",
   "execution_count": null,
   "metadata": {},
   "outputs": [],
   "source": []
  }
 ],
 "metadata": {
  "kernelspec": {
   "display_name": "R",
   "language": "R",
   "name": "ir"
  },
  "language_info": {
   "codemirror_mode": "r",
   "file_extension": ".r",
   "mimetype": "text/x-r-source",
   "name": "R",
   "pygments_lexer": "r",
   "version": "3.5.1"
  }
 },
 "nbformat": 4,
 "nbformat_minor": 2
}
