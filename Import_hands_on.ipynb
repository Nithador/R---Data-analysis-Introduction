{
 "cells": [
  {
   "cell_type": "markdown",
   "metadata": {},
   "source": [
    "## List of useful links\n",
    "- [Tidyverse](https://www.tidyverse.org/)\n",
    "- [Cheatsheets list](https://www.rstudio.com/resources/cheatsheets/)\n",
    "- [Direct link to data import cheatsheet](https://github.com/rstudio/cheatsheets/raw/master/data-import.pdf)\n",
    "- [Direct link to dplyr cheatsheet](https://github.com/rstudio/cheatsheets/raw/master/data-transformation.pdf)\n",
    "- [Direct link to ggplot2 cheatsheet](https://github.com/rstudio/cheatsheets/raw/master/data-visualization-2.1.pdf)\n",
    "- [Direct link to base R vs formula approach vs tidyverse approach](https://github.com/rstudio/cheatsheets/raw/master/syntax.pdf)\n",
    "\n",
    "- [Hadley Wickam`s tidy data paper](https://www.jstatsoft.org/article/view/v059i10/)\n",
    "- [Comprehensive book about data science with tidyverse](https://r4ds.had.co.nz/)"
   ]
  },
  {
   "cell_type": "code",
   "execution_count": null,
   "metadata": {},
   "outputs": [],
   "source": [
    "library(tidyverse)\n",
    "library(lubridate)\n",
    "\n",
    "load(\"data/cleaning_results.RData\")"
   ]
  },
  {
   "cell_type": "markdown",
   "metadata": {},
   "source": [
    "First are data of song ranking. Main problem is, that weeks are columns. Additionaly, date of the ranking should be computed."
   ]
  },
  {
   "cell_type": "code",
   "execution_count": null,
   "metadata": {},
   "outputs": [],
   "source": [
    "billboard_raw <- read_csv(\"data/billboard2.csv\")\n",
    "billboard_raw"
   ]
  },
  {
   "cell_type": "markdown",
   "metadata": {},
   "source": [
    "Final results should look like the following table. To compute the date, after clearing week column, You must add week to the date.entered column. To correctly add a week You must use `weeks()` function on the week."
   ]
  },
  {
   "cell_type": "code",
   "execution_count": null,
   "metadata": {},
   "outputs": [],
   "source": [
    "billboard_clean"
   ]
  },
  {
   "cell_type": "markdown",
   "metadata": {},
   "source": [
    "Next is tuberculosis data provided by the WHO organization. This data has age groups as columns. `new_sp` column is redundant and should be removed. At one point You will need to use two new function `separate()` and `drop_na()`. For the `drop_na()` function there will be no need to use any arguments. For the `separate()` function You will need to provide the column name, `into = ` argument (look at the documentation for the use `?separate()`, and `sep` argument. Remember that You will want to separate only the **first** letter."
   ]
  },
  {
   "cell_type": "code",
   "execution_count": null,
   "metadata": {},
   "outputs": [],
   "source": [
    "tb_raw <- read_csv(\"data/tb.csv\")\n",
    "tb_raw"
   ]
  },
  {
   "cell_type": "markdown",
   "metadata": {},
   "source": [
    "Output should look like the following table. The age column could be further improved by putting \"--\" in between the ages, to improve readability. "
   ]
  },
  {
   "cell_type": "code",
   "execution_count": null,
   "metadata": {},
   "outputs": [],
   "source": [
    "tb_clean"
   ]
  },
  {
   "cell_type": "markdown",
   "metadata": {},
   "source": [
    "PEW dataset contains information about the religion of the respondents.\n",
    "To clean it up it is necessary to select the right columns and then use in `str_replace()` to remove \"Churches\" from *reltrad* column and then `case_when()` with `str_detect` to add \"Atheist\" and \"Agnostic\" to *reltrad* column, when respondends had \"Atheist\" or \"Agnostic\" in column *q16*. This might prove difficult to figure out on the first try... Do look at the documentation, or do not fear to ask for help."
   ]
  },
  {
   "cell_type": "code",
   "execution_count": null,
   "metadata": {},
   "outputs": [],
   "source": [
    "library(\"foreign\")\n",
    "\n",
    "# Data from http://pewforum.org/Datasets/Dataset-Download.aspx\n",
    "\n",
    "pew_raw <- read.spss(\"data/pew.sav\")\n",
    "pew_raw <- as_tibble(pew_raw)\n",
    "pew_raw"
   ]
  },
  {
   "cell_type": "code",
   "execution_count": null,
   "metadata": {},
   "outputs": [],
   "source": []
  },
  {
   "cell_type": "code",
   "execution_count": null,
   "metadata": {},
   "outputs": [],
   "source": [
    "pew_clean"
   ]
  }
 ],
 "metadata": {
  "kernelspec": {
   "display_name": "R",
   "language": "R",
   "name": "ir"
  },
  "language_info": {
   "codemirror_mode": "r",
   "file_extension": ".r",
   "mimetype": "text/x-r-source",
   "name": "R",
   "pygments_lexer": "r",
   "version": "3.5.1"
  }
 },
 "nbformat": 4,
 "nbformat_minor": 2
}
