{
 "cells": [
  {
   "cell_type": "markdown",
   "metadata": {},
   "source": [
    "## List of useful links\n",
    "- [Tidyverse](https://www.tidyverse.org/)\n",
    "- [Cheatsheets list](https://www.rstudio.com/resources/cheatsheets/)\n",
    "- [Direct link to data import cheatsheet](https://github.com/rstudio/cheatsheets/raw/master/data-import.pdf)\n",
    "- [Direct link to dplyr cheatsheet](https://github.com/rstudio/cheatsheets/raw/master/data-transformation.pdf)\n",
    "- [Direct link to ggplot2 cheatsheet](https://github.com/rstudio/cheatsheets/raw/master/data-visualization-2.1.pdf)\n",
    "- [Direct link to base R vs formula approach vs tidyverse approach](https://github.com/rstudio/cheatsheets/raw/master/syntax.pdf)\n",
    "\n",
    "- [Hadley Wickam`s tidy data paper](https://www.jstatsoft.org/article/view/v059i10/)\n",
    "- [Comprehensive book about data science with tidyverse](https://r4ds.had.co.nz/)"
   ]
  },
  {
   "cell_type": "code",
   "execution_count": null,
   "metadata": {},
   "outputs": [],
   "source": [
    "library(tidyverse)\n",
    "\n",
    "load(\"data/weather.RData\")\n",
    "weather_raw"
   ]
  }
 ],
 "metadata": {
  "kernelspec": {
   "display_name": "R",
   "language": "R",
   "name": "ir"
  },
  "language_info": {
   "codemirror_mode": "r",
   "file_extension": ".r",
   "mimetype": "text/x-r-source",
   "name": "R",
   "pygments_lexer": "r",
   "version": "3.5.1"
  }
 },
 "nbformat": 4,
 "nbformat_minor": 2
}
